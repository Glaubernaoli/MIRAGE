{
 "cells": [
  {
   "attachments": {},
   "cell_type": "markdown",
   "id": "275d0210-e024-4794-91c4-9b3a543c6926",
   "metadata": {},
   "source": [
    "\n",
    "\n",
    "Estudando os melhores atributos e hiperparâmetros do regressor de floresta aleatória\n",
    "==================="
   ]
  },
  {
   "cell_type": "markdown",
   "id": "731611d9-ecd3-4904-ab05-6f31d4f2659d",
   "metadata": {},
   "source": [
    "### Autores: Glauber Nascimento, Rafael Anis, Maria Emily Gomes"
   ]
  },
  {
   "cell_type": "markdown",
   "id": "035867a4-5d6f-4ff7-98d9-0e07d64afc3e",
   "metadata": {},
   "source": [
    "<p style=\"text-align:justify;\"> Nesse notebook, utilizou-se o banco de dados $MSK MetTropism$, o qual foi produzido e estudado pelo grupo o qual publicou \"Genomic characterization of metastatic patterns from prospective clinical sequencing of 25,000 patients\". Nosso projeto, no entanto, irá utilizar essa vasta informação e tentar predizer o tempo de sobrevida de pacientes de <strong>Câncer de pulmão de células não pequenas</strong>. E, nesse notebook, a itenção é contar como que alcançamos nossos resultados e o porquê de ter escolhido o regressor de floresta aleatória. Esse modelo pretende discutir o tempo de sobrevida de pacientes que não foram previstos como curados, ou seja, apresentaram um tempo de sobrevida maior que 60 meses no nosso outro modelo <strong>modelo []</strong>.\n",
    "\n",
    "<p style=\"text-align:justify;\"> Para conseguir os melhores resultados, não só especificamos um tipo de câncer para treinar o modelo, como também escolhemos dois focos de estudos: <strong>modelo de floresta aleatória</strong> e o <strong>modelo KNN</strong> e dividimos as observações do dataset em dados de treino e de teste para verificar a performance. Além disso, houve um estudo acerca dos melhores atributos - assim como verificamos se havia multicolinearidade associada ao banco de dados, dos melhores parâmetros com o optuna e, assim, espera-se um RMSE baixo, a modo que os resultados se mostrem relevantes. Para haver um métrica que nos possibilite obter uma sensibilidade para a qualidade do modelo, iremos obter o RMSE de um modelo baseline. Como a métrica do modelo de floresta aleatória, a qual avalia o desvio padrão quadrado, foi menor que a do baseline, o trabalho apresentara discurssões de como alcançou o resultado e como poderia aprimorá-lo."
   ]
  },
  {
   "cell_type": "markdown",
   "id": "890ade76-d779-4d69-8f14-77c54a208a12",
   "metadata": {},
   "source": [
    "### Importando as bibliotecas "
   ]
  },
  {
   "cell_type": "markdown",
   "id": "8877e1d2-da4c-413c-9271-a01f0bd60549",
   "metadata": {},
   "source": [
    "<p style=\"text-align:justify;\">  A biblioteca <strong>pandas</strong> será necessária para ler e editar o dataframe utilizado neste trabalho. "
   ]
  },
  {
   "cell_type": "code",
   "execution_count": 1,
   "id": "2a13fab8-2c52-4d8a-a922-e8ba13e80a21",
   "metadata": {},
   "outputs": [],
   "source": [
    "import pandas as pd\n",
    "import numpy as np"
   ]
  },
  {
   "cell_type": "markdown",
   "id": "b2a7b01a-638b-4252-bd87-28e454675eaf",
   "metadata": {},
   "source": [
    "### Leitura do dataset"
   ]
  },
  {
   "cell_type": "markdown",
   "id": "b1363b09-a9a1-4c25-845b-bafd85ed7388",
   "metadata": {},
   "source": [
    "<p style=\"text-align:justify;\"> O dataset a seguir é de onde foi realizada todas as operações necessárias para desenvolver os modelos. O primeiro foco do grupo foi encontrar os atributos relevantes para o objetivo, como também encontrar uma coluna de target adequada para a nossa discussão."
   ]
  },
  {
   "cell_type": "code",
   "execution_count": 2,
   "id": "d638d23d-6027-4a86-9ac2-fc38223473a6",
   "metadata": {},
   "outputs": [],
   "source": [
    "df = pd.read_csv(\"msk_met_2021_clinical_data (1).tsv\", sep = \"\\t\")"
   ]
  },
  {
   "cell_type": "markdown",
   "id": "f8856102-1113-4ac0-bf96-c22e6b475263",
   "metadata": {},
   "source": [
    "<p style=\"text-align:justify;\"> Em seguida, discutiu-se acerca da coluna de target, pois a sobrevida encontrada no dataset não era coerente ao dado que precisávamos para a predição. Então, a seguir, será observado como resolvemos o empasse, assim como o estudo do <strong>[notebook bolinha]</strong> mostra os tais problemas e o raciocínio detalhado para resolvé-lo. Em resumo, teremos uma coluna de sobrevida que avalia o tempo entre o <strong>sequenciamento genômico do paciente até o mês que foi identificado a sua morte.</strong> Contudo, produzir um modelo que prediz um tempo de vida maior que 60 meses não é pertinente, pois o tempo que observa-se um paciente de câncer é até 60 meses. Nesse sentido informar uma sobrevida de 60 ou, por exemplo, 80 meses implica na mesma situação: o paciente estará curado com os atributos que possui. "
   ]
  },
  {
   "cell_type": "code",
   "execution_count": 3,
   "id": "aafd09da-ebba-4569-96ee-574ce5502534",
   "metadata": {},
   "outputs": [],
   "source": [
    "df['Curado'] = pd.NA\n",
    "df ['Sobrevivencia (Meses)'] = pd.NA\n",
    "\n",
    "for i, meses in enumerate(df['Overall Survival (Months)']):\n",
    "    \n",
    "    if meses >= 60:\n",
    "        df.loc [i, 'Curado'] = 1\n",
    "        \n",
    "    else:\n",
    "        if df.loc [i, 'Overall Survival Status'] == '1:DECEASED':\n",
    "            df.loc [i, 'Curado'] = 0\n",
    "            df.loc [i, 'Sobrevivencia (Meses)'] = meses"
   ]
  },
  {
   "cell_type": "markdown",
   "id": "c0683088-2c6c-4d04-9e3e-3d9ca10f807c",
   "metadata": {},
   "source": [
    "<p style=\"text-align:justify;\"> Para minimizar o RMSE, optamos por selecionar um câncer específico do dataset. Considerando que o Câncer de pulmão de células não pequenas é o que apresenta a maior quantidade de observações, o predição da sobrevida de pacientes com esse tipo de câncer foi o selecionada para ser o objeto de estudo. Assim, o foco novamente foi a busca por um modelo de baixo viés. "
   ]
  },
  {
   "cell_type": "code",
   "execution_count": 4,
   "id": "e4c7af2e-91df-467b-9110-3d14d55e2e1a",
   "metadata": {},
   "outputs": [],
   "source": [
    "df = df.loc[df[\"Cancer Type\"] == \"Non-Small Cell Lung Cancer\"]"
   ]
  },
  {
   "cell_type": "markdown",
   "id": "b2174b7c-da18-4c94-98cd-b7497b533ef2",
   "metadata": {},
   "source": [
    "#### Separando as colunas pertinentes para o modelo em atributos e target"
   ]
  },
  {
   "cell_type": "markdown",
   "id": "bba74045-1032-468b-ad87-ee87fed0e05d",
   "metadata": {},
   "source": [
    "<p style=\"text-align:justify;\"> Usaremos para o modelo atributos como o <strong>Fraction Genome Altered</strong>, o qual é a razão entre a soma dos segmentos do genoma que foram alterados pele tamanho total do genoma do paciente, esse resultado é bastante relevante para identificar o quão instável está o tumor e, desse modo, saber como está a sua progressão. Há também atributos que conseguem identificar a situação metastática do câncer a partir das informações genômicas, pois há como identificar uma hipermutação, MSI-High (MSI-H), a partir do <strong>MSI Score</strong>, Microsatellite instability, a instabilidade de microssatélites, ou para a quantidade de mutações, informação essa que pode ser encontrada na coluna <strong>Mutation Count</strong>. O <strong>TMB (nonsynonymous)</strong>, tumor mutational burden, quantifica o número total de mutações encontradas no DNA do tumor e é considerado alto para valores maior que 10 mut/Mb, o que foi bastante encontrado em pacientes com adenocarcinoma de pulmão. A <strong>Age at Surgical Procedure</strong>, idade da operação cirúrgica, é relavante para qualquer paciente, pois, com idades distintas, os pacientes apresentam resposta imunológicas diferentes. E, considerando a relevante relação entre quantidade de mutações e a sobrevida, iremos utilizar também os atributos <strong>Met Count</strong> e <strong>Met Site Count</strong>, que, respectivamente, a quantidade de mutações e a quantidade de sítios de mutações."
   ]
  },
  {
   "cell_type": "code",
   "execution_count": 5,
   "id": "776e0d21-8b45-4c35-bbd0-4fa67b3576b3",
   "metadata": {},
   "outputs": [],
   "source": [
    "ATRIBUTOS = [                  \n",
    "        \"Age at Surgical Procedure\",           \n",
    "        \"Fraction Genome Altered\",              \n",
    "        \"Met Count\",                            \n",
    "        \"Met Site Count\",                       \n",
    "        \"MSI Score\",                   \n",
    "        \"Mutation Count\",              \n",
    "        \"TMB (nonsynonymous)\"]         \n",
    "TARGET = [\"Sobrevivencia (Meses)\"]"
   ]
  },
  {
   "cell_type": "markdown",
   "id": "3148bafd-dde2-4450-9e32-4ad4594b49fa",
   "metadata": {},
   "source": [
    "#### Encontrando o dataset com os dados que serão utilizados"
   ]
  },
  {
   "cell_type": "markdown",
   "id": "8f1a10d4-e510-4cc5-b352-38d819332e5e",
   "metadata": {},
   "source": [
    "<p style=\"text-align:justify;\"> O dataset a seguir é o tratado, ou seja, haverá apenas pacientes que tiveram um sobrevida menor que 60 meses, com colunas selecionadas nos debates anteriores, com a eliminação de colunas que não apresentavam valores e a conversão dos valores. "
   ]
  },
  {
   "cell_type": "code",
   "execution_count": 6,
   "id": "5e7ba154-0398-4da1-b108-40df70d3a5a4",
   "metadata": {},
   "outputs": [],
   "source": [
    "df = df.loc[df[\"Sobrevida\"] == 0]"
   ]
  },
  {
   "cell_type": "code",
   "execution_count": 7,
   "id": "874ed84b-ab75-405e-93a2-81e7d016e1d1",
   "metadata": {},
   "outputs": [],
   "source": [
    "df = df.reindex(ATRIBUTOS + TARGET, axis=1)\n",
    "df = df.dropna()\n",
    "df = df.convert_dtypes()"
   ]
  },
  {
   "cell_type": "code",
   "execution_count": 8,
   "id": "a3aeff23-ce6e-4d2a-9eea-1f4077b36898",
   "metadata": {},
   "outputs": [
    {
     "data": {
      "text/html": [
       "<div>\n",
       "<style scoped>\n",
       "    .dataframe tbody tr th:only-of-type {\n",
       "        vertical-align: middle;\n",
       "    }\n",
       "\n",
       "    .dataframe tbody tr th {\n",
       "        vertical-align: top;\n",
       "    }\n",
       "\n",
       "    .dataframe thead th {\n",
       "        text-align: right;\n",
       "    }\n",
       "</style>\n",
       "<table border=\"1\" class=\"dataframe\">\n",
       "  <thead>\n",
       "    <tr style=\"text-align: right;\">\n",
       "      <th></th>\n",
       "      <th>Age at Surgical Procedure</th>\n",
       "      <th>Fraction Genome Altered</th>\n",
       "      <th>Met Count</th>\n",
       "      <th>Met Site Count</th>\n",
       "      <th>MSI Score</th>\n",
       "      <th>Mutation Count</th>\n",
       "      <th>TMB (nonsynonymous)</th>\n",
       "      <th>Sobrevivencia (Meses)</th>\n",
       "    </tr>\n",
       "  </thead>\n",
       "  <tbody>\n",
       "    <tr>\n",
       "      <th>44</th>\n",
       "      <td>71.17</td>\n",
       "      <td>0.2474</td>\n",
       "      <td>4</td>\n",
       "      <td>4</td>\n",
       "      <td>0.44</td>\n",
       "      <td>15</td>\n",
       "      <td>16.63733</td>\n",
       "      <td>47.9</td>\n",
       "    </tr>\n",
       "    <tr>\n",
       "      <th>60</th>\n",
       "      <td>79.31</td>\n",
       "      <td>0.0026</td>\n",
       "      <td>7</td>\n",
       "      <td>7</td>\n",
       "      <td>0.0</td>\n",
       "      <td>4</td>\n",
       "      <td>4.436621</td>\n",
       "      <td>19.58</td>\n",
       "    </tr>\n",
       "    <tr>\n",
       "      <th>69</th>\n",
       "      <td>50.73</td>\n",
       "      <td>0.4502</td>\n",
       "      <td>8</td>\n",
       "      <td>8</td>\n",
       "      <td>3.36</td>\n",
       "      <td>5</td>\n",
       "      <td>4.436621</td>\n",
       "      <td>18.73</td>\n",
       "    </tr>\n",
       "    <tr>\n",
       "      <th>79</th>\n",
       "      <td>37.69</td>\n",
       "      <td>0.3584</td>\n",
       "      <td>4</td>\n",
       "      <td>4</td>\n",
       "      <td>0.93</td>\n",
       "      <td>3</td>\n",
       "      <td>3.327466</td>\n",
       "      <td>0.0</td>\n",
       "    </tr>\n",
       "    <tr>\n",
       "      <th>105</th>\n",
       "      <td>69.42</td>\n",
       "      <td>0.4041</td>\n",
       "      <td>7</td>\n",
       "      <td>7</td>\n",
       "      <td>1.33</td>\n",
       "      <td>3</td>\n",
       "      <td>2.936159</td>\n",
       "      <td>13.21</td>\n",
       "    </tr>\n",
       "    <tr>\n",
       "      <th>...</th>\n",
       "      <td>...</td>\n",
       "      <td>...</td>\n",
       "      <td>...</td>\n",
       "      <td>...</td>\n",
       "      <td>...</td>\n",
       "      <td>...</td>\n",
       "      <td>...</td>\n",
       "      <td>...</td>\n",
       "    </tr>\n",
       "    <tr>\n",
       "      <th>25485</th>\n",
       "      <td>63.46</td>\n",
       "      <td>0.2645</td>\n",
       "      <td>4</td>\n",
       "      <td>4</td>\n",
       "      <td>0.18</td>\n",
       "      <td>10</td>\n",
       "      <td>8.646981</td>\n",
       "      <td>1.31</td>\n",
       "    </tr>\n",
       "    <tr>\n",
       "      <th>25508</th>\n",
       "      <td>67.29</td>\n",
       "      <td>0.5715</td>\n",
       "      <td>1</td>\n",
       "      <td>1</td>\n",
       "      <td>0.43</td>\n",
       "      <td>19</td>\n",
       "      <td>16.429264</td>\n",
       "      <td>0.66</td>\n",
       "    </tr>\n",
       "    <tr>\n",
       "      <th>25535</th>\n",
       "      <td>55.57</td>\n",
       "      <td>0.1114</td>\n",
       "      <td>11</td>\n",
       "      <td>8</td>\n",
       "      <td>0.29</td>\n",
       "      <td>4</td>\n",
       "      <td>3.458792</td>\n",
       "      <td>8.51</td>\n",
       "    </tr>\n",
       "    <tr>\n",
       "      <th>25536</th>\n",
       "      <td>61.42</td>\n",
       "      <td>0.1031</td>\n",
       "      <td>3</td>\n",
       "      <td>3</td>\n",
       "      <td>0.05</td>\n",
       "      <td>1</td>\n",
       "      <td>0.864698</td>\n",
       "      <td>10.87</td>\n",
       "    </tr>\n",
       "    <tr>\n",
       "      <th>25620</th>\n",
       "      <td>65.08</td>\n",
       "      <td>0.3406</td>\n",
       "      <td>4</td>\n",
       "      <td>3</td>\n",
       "      <td>0.05</td>\n",
       "      <td>6</td>\n",
       "      <td>5.188189</td>\n",
       "      <td>10.91</td>\n",
       "    </tr>\n",
       "  </tbody>\n",
       "</table>\n",
       "<p>1931 rows × 8 columns</p>\n",
       "</div>"
      ],
      "text/plain": [
       "       Age at Surgical Procedure  Fraction Genome Altered  Met Count  \\\n",
       "44                         71.17                   0.2474          4   \n",
       "60                         79.31                   0.0026          7   \n",
       "69                         50.73                   0.4502          8   \n",
       "79                         37.69                   0.3584          4   \n",
       "105                        69.42                   0.4041          7   \n",
       "...                          ...                      ...        ...   \n",
       "25485                      63.46                   0.2645          4   \n",
       "25508                      67.29                   0.5715          1   \n",
       "25535                      55.57                   0.1114         11   \n",
       "25536                      61.42                   0.1031          3   \n",
       "25620                      65.08                   0.3406          4   \n",
       "\n",
       "       Met Site Count  MSI Score  Mutation Count  TMB (nonsynonymous)  \\\n",
       "44                  4       0.44              15             16.63733   \n",
       "60                  7        0.0               4             4.436621   \n",
       "69                  8       3.36               5             4.436621   \n",
       "79                  4       0.93               3             3.327466   \n",
       "105                 7       1.33               3             2.936159   \n",
       "...               ...        ...             ...                  ...   \n",
       "25485               4       0.18              10             8.646981   \n",
       "25508               1       0.43              19            16.429264   \n",
       "25535               8       0.29               4             3.458792   \n",
       "25536               3       0.05               1             0.864698   \n",
       "25620               3       0.05               6             5.188189   \n",
       "\n",
       "       Sobrevivencia (Meses)  \n",
       "44                      47.9  \n",
       "60                     19.58  \n",
       "69                     18.73  \n",
       "79                       0.0  \n",
       "105                    13.21  \n",
       "...                      ...  \n",
       "25485                   1.31  \n",
       "25508                   0.66  \n",
       "25535                   8.51  \n",
       "25536                  10.87  \n",
       "25620                  10.91  \n",
       "\n",
       "[1931 rows x 8 columns]"
      ]
     },
     "execution_count": 8,
     "metadata": {},
     "output_type": "execute_result"
    }
   ],
   "source": [
    "df"
   ]
  },
  {
   "cell_type": "markdown",
   "id": "37ddec05-349c-4dfc-a302-a980c285cab1",
   "metadata": {},
   "source": [
    "<p style=\"text-align:justify;\"> Estudando o artigo de referência que disponibilou o dataset utilizado para encontrar o modelo que melhor descreve a sobrevida de um paciente de câncer de pulmão de células não pequenas,$\\textit{Non-Small Cell Lung}$, separou-se as colunas de atributos mostradas no tópico anterior. Contudo, para evitar um custo computacional desnecessário, será selecionado atributos que não apresentem multicolinearidade, ou seja, não é possível com uma combinação linear de atributos prever um outro. Isso será realizado com a seleção de atributos pelo fator de inflação de variância (VIF), desse modo, evita-se dados redundantes e cada operação realizada pelo modelo será relevante para encontrar o targer proposto.  "
   ]
  },
  {
   "cell_type": "markdown",
   "id": "f89fb9ad-99b8-4568-a729-a3dc2a5a0ddc",
   "metadata": {},
   "source": [
    "#### Separando dados de treino e teste"
   ]
  },
  {
   "cell_type": "markdown",
   "id": "834d322d-281b-4b52-86cc-4132de579b47",
   "metadata": {},
   "source": [
    "<p style=\"text-align:justify;\"> Separa-se dados de treino e de teste para avaliar a performance do trabalho desenvolvido. Mesmo com o tratamento de dados utilizados, ainda há muitos dados para serem utilizados, desse modo, mostra-se suficiente um teste que represente 10% das observações que o dataset base para o modelo possui."
   ]
  },
  {
   "cell_type": "code",
   "execution_count": 9,
   "id": "88c34c0f-5b13-408c-9a7f-7aabd5ada7fc",
   "metadata": {},
   "outputs": [],
   "source": [
    "from sklearn.model_selection import train_test_split\n",
    "\n",
    "TAMANHO_TESTE = 0.1\n",
    "SEMENTE_ALEATORIA = 61455\n",
    "\n",
    "indices = df.index\n",
    "indices_treino, indices_teste = train_test_split(\n",
    "    indices, test_size=TAMANHO_TESTE, random_state=SEMENTE_ALEATORIA\n",
    ")\n",
    "\n",
    "df_treino = df.loc[indices_treino]\n",
    "df_teste = df.loc[indices_teste]\n",
    "\n",
    "X_treino = df_treino.reindex(ATRIBUTOS, axis=1).values\n",
    "y_treino = df_treino.reindex(TARGET, axis=1).values.ravel()\n",
    "\n",
    "X_teste = df_teste.reindex(ATRIBUTOS, axis=1).values\n",
    "y_teste = df_teste.reindex(TARGET, axis=1).values.ravel()"
   ]
  },
  {
   "cell_type": "markdown",
   "id": "542c84f5-cb1f-4547-ae9a-6a33e4cad880",
   "metadata": {},
   "source": [
    "#### Seleção de atributos pelo fator de inflação de variância (VIF)"
   ]
  },
  {
   "cell_type": "markdown",
   "id": "f0ddc838-b3c3-4789-8fde-58675334d8bc",
   "metadata": {},
   "source": [
    "O **fator de inflação de variância** (*variance inflation factor*) é um algoritmo que encontra a multicolinearidade de um conjunto de dados. Os passos a seguir desse código foram descritos pelo professor Daniel Cassar:\n",
    "\n",
    "1.  Escolha o valor do limiar do $\\mathrm{VIF}$.\n",
    "\n",
    "<p>Escolheu-se o mais rigoroso, pois esses atributos já foram selecionados de acordo com o bom senso para modelar o fenômeno. Além disso, após essa etapa, há as operações algébricas que o código realiza, não há mais escolha pensada no problema.</p>\n",
    "   \n",
    "2.  Para cada atributo disponível, considere ele como target e treine um modelo linear com os atributos restantes. Registre o valor $\\mathrm{VIF}$ deste modelo sendo que $\\mathrm{VIF} = 1 / (1 - R^2)$\n",
    "\n",
    "3.  Se pelo menos um dos valores $\\mathrm{VIF}$ observados no passo 2 for maior que o limiar definido no passo 1, vá ao passo seguinte. Do contrário, encerre o processo\n",
    "\n",
    "5.  Remova o atributo de maior valor $\\mathrm{VIF}$ e retorne ao passo 2"
   ]
  },
  {
   "cell_type": "code",
   "execution_count": 10,
   "id": "df3df8ce-3c29-497e-a58b-b8211b6271a7",
   "metadata": {},
   "outputs": [],
   "source": [
    "from sklearn.ensemble import RandomForestRegressor\n",
    "\n",
    "def selecao_vif(df_atributos, limiar_vif):\n",
    "    \"\"\"Realiza a seleção de atributos por VIF.\n",
    "\n",
    "    Args:\n",
    "      df_atributos: DataFrame contendo os atributos.\n",
    "      limiar_vf: valor do limiar do vif. Número positivo. Usualmente é 5 ou 10.\n",
    "\n",
    "    Returns:\n",
    "      DataFrame com os atributos selecionados.\n",
    "\n",
    "    \"\"\"\n",
    "    df = df_atributos.copy()\n",
    "\n",
    "    while True:\n",
    "        VIFs = []\n",
    "\n",
    "        for col in df.columns:\n",
    "            X = df.drop(col, axis=1).values\n",
    "            y = df[col].values\n",
    "\n",
    "            r_quadrado = RandomForestRegressor().fit(X, y).score(X, y) ##\n",
    "            if r_quadrado != 1:\n",
    "                VIF = 1 / (1 - r_quadrado)\n",
    "            else:\n",
    "                VIF = float(\"inf\")\n",
    "\n",
    "            VIFs.append(VIF)\n",
    "\n",
    "        VIF_maximo = max(VIFs)\n",
    "\n",
    "        if VIF_maximo > limiar_vif:\n",
    "            indice = VIFs.index(VIF_maximo)\n",
    "            coluna_remocao = df.columns[indice]\n",
    "            df = df.drop(coluna_remocao, axis=1)\n",
    "\n",
    "        else:\n",
    "            break\n",
    "\n",
    "    return df"
   ]
  },
  {
   "cell_type": "code",
   "execution_count": 11,
   "id": "c94d0baa-1297-4f4d-9474-0f9cf419b8b8",
   "metadata": {},
   "outputs": [],
   "source": [
    "LIMIAR_VIF = 10\n",
    "\n",
    "X_treino = pd.DataFrame(X_treino)\n",
    "X_teste = pd.DataFrame(X_teste)\n",
    "\n",
    "X_treino_modificado = selecao_vif(X_treino, LIMIAR_VIF)\n",
    "X_teste_modificado = X_teste.reindex(X_treino_modificado.columns, axis=1)"
   ]
  },
  {
   "cell_type": "code",
   "execution_count": 12,
   "id": "e55ef286-bf5c-4927-b352-4c486c88a7e8",
   "metadata": {},
   "outputs": [
    {
     "data": {
      "text/html": [
       "<div>\n",
       "<style scoped>\n",
       "    .dataframe tbody tr th:only-of-type {\n",
       "        vertical-align: middle;\n",
       "    }\n",
       "\n",
       "    .dataframe tbody tr th {\n",
       "        vertical-align: top;\n",
       "    }\n",
       "\n",
       "    .dataframe thead th {\n",
       "        text-align: right;\n",
       "    }\n",
       "</style>\n",
       "<table border=\"1\" class=\"dataframe\">\n",
       "  <thead>\n",
       "    <tr style=\"text-align: right;\">\n",
       "      <th></th>\n",
       "      <th>0</th>\n",
       "      <th>2</th>\n",
       "      <th>4</th>\n",
       "      <th>6</th>\n",
       "    </tr>\n",
       "  </thead>\n",
       "  <tbody>\n",
       "    <tr>\n",
       "      <th>0</th>\n",
       "      <td>87.42</td>\n",
       "      <td>2</td>\n",
       "      <td>0.06</td>\n",
       "      <td>7.782283</td>\n",
       "    </tr>\n",
       "    <tr>\n",
       "      <th>1</th>\n",
       "      <td>73.29</td>\n",
       "      <td>3</td>\n",
       "      <td>0.0</td>\n",
       "      <td>3.914879</td>\n",
       "    </tr>\n",
       "    <tr>\n",
       "      <th>2</th>\n",
       "      <td>76.24</td>\n",
       "      <td>1</td>\n",
       "      <td>0.0</td>\n",
       "      <td>5.188189</td>\n",
       "    </tr>\n",
       "    <tr>\n",
       "      <th>3</th>\n",
       "      <td>80.6</td>\n",
       "      <td>2</td>\n",
       "      <td>0.0</td>\n",
       "      <td>5.872318</td>\n",
       "    </tr>\n",
       "    <tr>\n",
       "      <th>4</th>\n",
       "      <td>60.29</td>\n",
       "      <td>2</td>\n",
       "      <td>0.63</td>\n",
       "      <td>17.293962</td>\n",
       "    </tr>\n",
       "    <tr>\n",
       "      <th>...</th>\n",
       "      <td>...</td>\n",
       "      <td>...</td>\n",
       "      <td>...</td>\n",
       "      <td>...</td>\n",
       "    </tr>\n",
       "    <tr>\n",
       "      <th>1732</th>\n",
       "      <td>31.42</td>\n",
       "      <td>4</td>\n",
       "      <td>3.91</td>\n",
       "      <td>7.764087</td>\n",
       "    </tr>\n",
       "    <tr>\n",
       "      <th>1733</th>\n",
       "      <td>79.18</td>\n",
       "      <td>4</td>\n",
       "      <td>0.15</td>\n",
       "      <td>2.936159</td>\n",
       "    </tr>\n",
       "    <tr>\n",
       "      <th>1734</th>\n",
       "      <td>67.52</td>\n",
       "      <td>6</td>\n",
       "      <td>0.75</td>\n",
       "      <td>5.872318</td>\n",
       "    </tr>\n",
       "    <tr>\n",
       "      <th>1735</th>\n",
       "      <td>79.86</td>\n",
       "      <td>3</td>\n",
       "      <td>7.61</td>\n",
       "      <td>34.587924</td>\n",
       "    </tr>\n",
       "    <tr>\n",
       "      <th>1736</th>\n",
       "      <td>67.78</td>\n",
       "      <td>5</td>\n",
       "      <td>0.97</td>\n",
       "      <td>5.188189</td>\n",
       "    </tr>\n",
       "  </tbody>\n",
       "</table>\n",
       "<p>1737 rows × 4 columns</p>\n",
       "</div>"
      ],
      "text/plain": [
       "          0  2     4          6\n",
       "0     87.42  2  0.06   7.782283\n",
       "1     73.29  3   0.0   3.914879\n",
       "2     76.24  1   0.0   5.188189\n",
       "3      80.6  2   0.0   5.872318\n",
       "4     60.29  2  0.63  17.293962\n",
       "...     ... ..   ...        ...\n",
       "1732  31.42  4  3.91   7.764087\n",
       "1733  79.18  4  0.15   2.936159\n",
       "1734  67.52  6  0.75   5.872318\n",
       "1735  79.86  3  7.61  34.587924\n",
       "1736  67.78  5  0.97   5.188189\n",
       "\n",
       "[1737 rows x 4 columns]"
      ]
     },
     "execution_count": 12,
     "metadata": {},
     "output_type": "execute_result"
    }
   ],
   "source": [
    "X_treino_modificado"
   ]
  },
  {
   "cell_type": "markdown",
   "id": "aca52ab1-c450-4d5f-9fb8-7d3cf9b46cf6",
   "metadata": {},
   "source": [
    "<p style=\"text-align:justify;\"> Escolheu-se o limiar VIF como 10 por ser padrão e conseguiu-se bons resultados com esse valor. Após a eliminação de atributos que apresentavam multicolinearidade, renova-se os atributos. Os que estão comentados são os atributos que não serão mais utilizados."
   ]
  },
  {
   "cell_type": "code",
   "execution_count": 13,
   "id": "98f24919-12b3-4b55-b939-9d6ddf005dd1",
   "metadata": {},
   "outputs": [],
   "source": [
    "ATRIBUTOS_VIF = [                  \n",
    "        \"Age at Surgical Procedure\",           \n",
    "        # \"Fraction Genome Altered\",              \n",
    "        \"Met Count\",                            \n",
    "        # \"Met Site Count\",                       \n",
    "        \"MSI Score\",                   \n",
    "        #\"Mutation Count\",              \n",
    "        \"TMB (nonsynonymous)\"\n",
    "]         \n",
    "TARGET = [\"Sobrevivencia (Meses)\"]"
   ]
  },
  {
   "cell_type": "markdown",
   "id": "11acf4c4-8198-40d0-bc8e-a721d6615590",
   "metadata": {},
   "source": [
    "### Modelo Baseline"
   ]
  },
  {
   "cell_type": "markdown",
   "id": "e5746d3f-f3cb-49f9-ab1f-fe657b6803e0",
   "metadata": {},
   "source": [
    "O modelo baseline para encontrar a sobrevida de pacientes que o primeiro modelo encontrou que não serão curadas pelo tratamento o qual estão realizando, será para poder obter um RMSE comparativo. O objetico é que o modelo de floresta aleatória, o qual investida vários cenários e consegue, assim, modelar cenários complexos com diversas variáveis, consiga apresentar um RMSE muito menor."
   ]
  },
  {
   "cell_type": "code",
   "execution_count": 14,
   "id": "67ae0757-5504-40b3-a20a-18541f02d568",
   "metadata": {},
   "outputs": [
    {
     "name": "stdout",
     "output_type": "stream",
     "text": [
      "[14.22521491 14.22521491 14.22521491 ... 14.22521491 14.22521491\n",
      " 14.22521491]\n"
     ]
    }
   ],
   "source": [
    "from sklearn.dummy import DummyRegressor\n",
    "\n",
    "x = df.reindex(ATRIBUTOS_VIF, axis=1)\n",
    "y = df.reindex(TARGET, axis=1)\n",
    "\n",
    "modelo = DummyRegressor()\n",
    "\n",
    "modelo.fit(x, y)\n",
    "\n",
    "y_previsto = modelo.predict(x)\n",
    "\n",
    "print(y_previsto)"
   ]
  },
  {
   "cell_type": "code",
   "execution_count": 15,
   "id": "3beaa911-22fe-40f6-af7a-4b5b57685ba8",
   "metadata": {},
   "outputs": [
    {
     "name": "stdout",
     "output_type": "stream",
     "text": [
      "O RMSE foi de: 12.420902597184595\n"
     ]
    }
   ],
   "source": [
    "from sklearn.metrics import mean_squared_error\n",
    "\n",
    "y_verdadeiro = y\n",
    "\n",
    "RMSE = mean_squared_error(y_verdadeiro, y_previsto, squared = False)\n",
    "\n",
    "print(f\"O RMSE foi de: {RMSE}\")"
   ]
  },
  {
   "cell_type": "markdown",
   "id": "8e68fafd-b568-4d53-9385-fe37dfb3bf18",
   "metadata": {},
   "source": [
    "<p style=\"text-align:justify;\"> Agora que há uma métrica para o baseline, modelo mais simples possível para prever o target, começa-se utilizar técnicas, como ao selecionar os melhores hiperparâmetros de modo que minimize ao máximo o valor do RMSE para o \n",
    "<p>\n",
    "<p style=\"text-align:justify;\"><strong>Antes de começar o estudo de hiperparâmetros, vale notar que esse modelo não tem erro associado do modelo classificador, pois os dados que foram treinados nesse notebook não são os que ele apontou como não curados, são os pacientes do dataset original que apresentaram uma sobrevida até 60 meses.</strong>"
   ]
  },
  {
   "cell_type": "markdown",
   "id": "7d435f2a-f018-4fe4-95fc-767830b8b9bd",
   "metadata": {},
   "source": [
    "## Otimizando hiperparâmetros com o optuna para o regressor de floresta aleatória"
   ]
  },
  {
   "cell_type": "markdown",
   "id": "b50f1ef9-c1ac-4348-94dc-a496274389c7",
   "metadata": {},
   "source": [
    "<p style=\"text-align:justify;\"> Encontrando o melhor conjunto de hiperparâmetros com o optuna. Esta seleção será realizada com o novo dataset que não apresenta mais multicolinearidade em seus dados, desse modo o esperado é encontrar um bom conjunto de hiperparâmetros de modo menos custoso computacionalmente."
   ]
  },
  {
   "cell_type": "code",
   "execution_count": 16,
   "id": "56e11425-b136-4b86-ab96-e8d556814a2b",
   "metadata": {},
   "outputs": [],
   "source": [
    "from sklearn.model_selection import train_test_split\n",
    "\n",
    "TAMANHO_TESTE = 0.1\n",
    "SEMENTE_ALEATORIA = 20404\n",
    "\n",
    "df = df.reindex(ATRIBUTOS_VIF + TARGET, axis=1)\n",
    "df = df.dropna()\n",
    "\n",
    "indices = df.index\n",
    "indices_treino, indices_teste = train_test_split(\n",
    "    indices, test_size=TAMANHO_TESTE, random_state=SEMENTE_ALEATORIA\n",
    ")\n",
    "\n",
    "df_treino = df.loc[indices_treino]\n",
    "df_teste = df.loc[indices_teste]\n",
    "\n",
    "X_treino = df_treino.reindex(ATRIBUTOS_VIF, axis=1).values\n",
    "y_treino = df_treino.reindex(TARGET, axis=1).values.ravel()\n",
    "\n",
    "X_teste = df_teste.reindex(ATRIBUTOS_VIF, axis=1).values\n",
    "y_teste = df_teste.reindex(TARGET, axis=1).values.ravel()\n",
    "\n",
    "X = df.reindex(ATRIBUTOS_VIF, axis=1).values\n",
    "y = df.reindex(TARGET, axis=1).values.ravel()"
   ]
  },
  {
   "cell_type": "markdown",
   "id": "cbbd5608-985b-48c4-82cd-2bee6834f25b",
   "metadata": {},
   "source": [
    "#### Delimitando o espaço de busca "
   ]
  },
  {
   "cell_type": "markdown",
   "id": "895387ae-97a9-4075-9c0a-c493118a9b62",
   "metadata": {},
   "source": [
    "<p style=\"text-align:justify;\"> Inicialmente, o espaço de busca era longo e o optuna era realizado várias vezes. Isso serviu de base para entender por onde o optuna estava encontrando os melhores conjuntos e com essa informação, houve a busca a seguir perto dos valores com os melhores resultados para cada hiperparâmetro."
   ]
  },
  {
   "cell_type": "code",
   "execution_count": 17,
   "id": "c3bd9fb6-aa97-4a9e-b1fa-23242d7daedb",
   "metadata": {},
   "outputs": [],
   "source": [
    "from sklearn.ensemble import RandomForestRegressor\n",
    "\n",
    "def cria_instancia_modelo(trial):\n",
    "    \"\"\"Cria uma instância do modelo.\n",
    "\n",
    "    Args:\n",
    "      trial: objeto tipo Trial do optuna.\n",
    "\n",
    "    Returns:\n",
    "      Uma instância do modelo desejado.\n",
    "\n",
    "    \"\"\"\n",
    "    parametros = {\n",
    "        \"n_estimators\": trial.suggest_int(\"num_arvores\", 10, 500),\n",
    "        \"criterion\": trial.suggest_categorical(\n",
    "            \"critério\", [\"squared_error\", \"friedman_mse\", \"poisson\"]\n",
    "        ),\n",
    "        \"min_samples_split\": trial.suggest_int(\n",
    "            \"min_exemplos_split\", 2, 50, log=True\n",
    "        ),\n",
    "        \"min_samples_leaf\": trial.suggest_int(\n",
    "            \"min_exemplos_folha\", 1, 100, log=True\n",
    "        ),\n",
    "        \"max_features\": trial.suggest_float(\"num_max_atributos\", 0, 1),\n",
    "        \"n_jobs\": -1,\n",
    "        \"bootstrap\": True,\n",
    "        \"random_state\": SEMENTE_ALEATORIA\n",
    "    }\n",
    "\n",
    "    model = RandomForestRegressor(**parametros)\n",
    "\n",
    "    return model"
   ]
  },
  {
   "cell_type": "markdown",
   "id": "6e9967da-26bb-449f-83dc-70293d3a70a8",
   "metadata": {},
   "source": [
    "#### Função objetivo"
   ]
  },
  {
   "cell_type": "markdown",
   "id": "27fe6305-e56a-42ce-abd3-e1840602de4d",
   "metadata": {},
   "source": [
    "<p style=\"text-align:justify;\"> A **função objetivo**  de um problema de otimização computa métrica de interesse, nesse caso, será o RMSE e, para garantir que aleatoriedade dos dados de teste não influencie tanto no valor encontrado, esse será obtido por validação cruzada. "
   ]
  },
  {
   "cell_type": "code",
   "execution_count": 18,
   "id": "bb19b575-7a10-4c8f-8b2c-d2b970c88236",
   "metadata": {},
   "outputs": [],
   "source": [
    "from sklearn.model_selection import cross_val_score\n",
    "\n",
    "def funcao_objetivo(trial, X, y, num_folds):\n",
    "    \"\"\"Função objetivo do optuna\n",
    "\n",
    "    Referencia:\n",
    "      https://medium.com/@walter_sperat/ using-optuna-with-sklearn-the-right-way-part-1-6b4ad0ab2451\n",
    "\n",
    "    \"\"\"\n",
    "    modelo = cria_instancia_modelo(trial)\n",
    "\n",
    "    metricas = cross_val_score(\n",
    "        modelo,\n",
    "        X,\n",
    "        y,\n",
    "        scoring=\"neg_root_mean_squared_error\",\n",
    "        cv=num_folds,\n",
    "    )\n",
    "\n",
    "    return -metricas.mean()"
   ]
  },
  {
   "cell_type": "markdown",
   "id": "5d66abb3-de76-4b98-8f7a-e610c97dd945",
   "metadata": {},
   "source": [
    "#### Otimizando os hiperparâmetros"
   ]
  },
  {
   "cell_type": "markdown",
   "id": "8910126c-88bf-4054-a35e-40909eecc613",
   "metadata": {},
   "source": [
    "<p style=\"text-align:justify;\"> O arquivo <strong>hiperparametros1</strong> guarda o melhor conjunto de hiperparâmetros de todos os estudos realizados no notebook."
   ]
  },
  {
   "cell_type": "code",
   "execution_count": 19,
   "id": "0f5928df-11e0-445d-9b82-31e9219af10f",
   "metadata": {},
   "outputs": [
    {
     "name": "stderr",
     "output_type": "stream",
     "text": [
      "[I 2024-11-16 17:14:18,109] Using an existing study with name 'hiperparametros1' instead of creating a new one.\n"
     ]
    }
   ],
   "source": [
    "from optuna import create_study\n",
    "\n",
    "NOME_DO_ESTUDO = \"hiperparametros1\"\n",
    "\n",
    "objeto_de_estudo = create_study(\n",
    "    direction=\"minimize\",\n",
    "    study_name=NOME_DO_ESTUDO,\n",
    "    storage=f\"sqlite:///{NOME_DO_ESTUDO}.db\",\n",
    "    load_if_exists=True,\n",
    ")"
   ]
  },
  {
   "cell_type": "markdown",
   "id": "798b389e-0646-4651-9887-606b69303908",
   "metadata": {},
   "source": [
    "#### Função objetivo parcial, uma função objetivo que apresenta apenas o argumento `trial`"
   ]
  },
  {
   "cell_type": "markdown",
   "id": "1ed8b089-24db-4957-8620-e2d2e9a5efd6",
   "metadata": {},
   "source": [
    "<p style=\"text-align:justify;\"> Para conseguir rodar o otimizador, será necessário de uma função objetivo que tenha apenas um argumento, o <strong>trial</strong>. Como a <strong>funcao_objetivo</strong> definida não cumpre com este requisito, defini-se a <strong>funcao_objetivo_parcial`</strong>."
   ]
  },
  {
   "cell_type": "code",
   "execution_count": 20,
   "id": "68703bfb-5603-4f80-a0d1-74990e1f7843",
   "metadata": {},
   "outputs": [],
   "source": [
    "NUM_FOLDS = 50\n",
    "\n",
    "def funcao_objetivo_parcial(trial):\n",
    "    return funcao_objetivo(trial, X_treino, y_treino, NUM_FOLDS)"
   ]
  },
  {
   "cell_type": "markdown",
   "id": "a1f91b10-6a34-49ae-a554-ca95c982ce19",
   "metadata": {},
   "source": [
    "#### Define as tentativas e roda o otimizador"
   ]
  },
  {
   "cell_type": "markdown",
   "id": "756c92fa-5973-4341-98e3-83c611204168",
   "metadata": {},
   "source": [
    "<p style=\"text-align:justify;\"> Como já foram realizados inúmeros estudos, o notebook apresenta um como número de tentativas para quem queira encontrar o nosso modelo ou, por sorte, um melhor em um curto tempo, apenas rode o documento com o arquivo \"hiperparametros1\"."
   ]
  },
  {
   "cell_type": "code",
   "execution_count": 21,
   "id": "0934a712-d695-407c-a21f-bcab6b1c30d4",
   "metadata": {},
   "outputs": [
    {
     "name": "stderr",
     "output_type": "stream",
     "text": [
      "[I 2024-11-16 17:15:41,663] Trial 932 finished with value: 11.965495543012857 and parameters: {'num_arvores': 420, 'critério': 'squared_error', 'min_exemplos_split': 27, 'min_exemplos_folha': 3, 'num_max_atributos': 0.06184822158352796}. Best is trial 653 with value: 11.887704489261667.\n",
      "[W 2024-11-16 17:15:55,467] Trial 933 failed with parameters: {'num_arvores': 446, 'critério': 'squared_error', 'min_exemplos_split': 30, 'min_exemplos_folha': 1, 'num_max_atributos': 0.14728730396373269} because of the following error: KeyboardInterrupt().\n",
      "Traceback (most recent call last):\n",
      "  File \"c:\\venv\\ilumpy\\Lib\\site-packages\\optuna\\study\\_optimize.py\", line 200, in _run_trial\n",
      "    value_or_values = func(trial)\n",
      "                      ^^^^^^^^^^^\n",
      "  File \"C:\\Users\\maria24019\\AppData\\Local\\Temp\\ipykernel_37604\\1606261053.py\", line 4, in funcao_objetivo_parcial\n",
      "    return funcao_objetivo(trial, X_treino, y_treino, NUM_FOLDS)\n",
      "           ^^^^^^^^^^^^^^^^^^^^^^^^^^^^^^^^^^^^^^^^^^^^^^^^^^^^^\n",
      "  File \"C:\\Users\\maria24019\\AppData\\Local\\Temp\\ipykernel_37604\\133102337.py\", line 12, in funcao_objetivo\n",
      "    metricas = cross_val_score(\n",
      "               ^^^^^^^^^^^^^^^^\n",
      "  File \"c:\\venv\\ilumpy\\Lib\\site-packages\\sklearn\\model_selection\\_validation.py\", line 562, in cross_val_score\n",
      "    cv_results = cross_validate(\n",
      "                 ^^^^^^^^^^^^^^^\n",
      "  File \"c:\\venv\\ilumpy\\Lib\\site-packages\\sklearn\\utils\\_param_validation.py\", line 214, in wrapper\n",
      "    return func(*args, **kwargs)\n",
      "           ^^^^^^^^^^^^^^^^^^^^^\n",
      "  File \"c:\\venv\\ilumpy\\Lib\\site-packages\\sklearn\\model_selection\\_validation.py\", line 309, in cross_validate\n",
      "    results = parallel(\n",
      "              ^^^^^^^^^\n",
      "  File \"c:\\venv\\ilumpy\\Lib\\site-packages\\sklearn\\utils\\parallel.py\", line 65, in __call__\n",
      "    return super().__call__(iterable_with_config)\n",
      "           ^^^^^^^^^^^^^^^^^^^^^^^^^^^^^^^^^^^^^^\n",
      "  File \"c:\\venv\\ilumpy\\Lib\\site-packages\\joblib\\parallel.py\", line 1863, in __call__\n",
      "    return output if self.return_generator else list(output)\n",
      "                                                ^^^^^^^^^^^^\n",
      "  File \"c:\\venv\\ilumpy\\Lib\\site-packages\\joblib\\parallel.py\", line 1792, in _get_sequential_output\n",
      "    res = func(*args, **kwargs)\n",
      "          ^^^^^^^^^^^^^^^^^^^^^\n",
      "  File \"c:\\venv\\ilumpy\\Lib\\site-packages\\sklearn\\utils\\parallel.py\", line 127, in __call__\n",
      "    return self.function(*args, **kwargs)\n",
      "           ^^^^^^^^^^^^^^^^^^^^^^^^^^^^^^\n",
      "  File \"c:\\venv\\ilumpy\\Lib\\site-packages\\sklearn\\model_selection\\_validation.py\", line 729, in _fit_and_score\n",
      "    estimator.fit(X_train, y_train, **fit_params)\n",
      "  File \"c:\\venv\\ilumpy\\Lib\\site-packages\\sklearn\\base.py\", line 1152, in wrapper\n",
      "    return fit_method(estimator, *args, **kwargs)\n",
      "           ^^^^^^^^^^^^^^^^^^^^^^^^^^^^^^^^^^^^^^\n",
      "  File \"c:\\venv\\ilumpy\\Lib\\site-packages\\sklearn\\ensemble\\_forest.py\", line 456, in fit\n",
      "    trees = Parallel(\n",
      "            ^^^^^^^^^\n",
      "  File \"c:\\venv\\ilumpy\\Lib\\site-packages\\sklearn\\utils\\parallel.py\", line 65, in __call__\n",
      "    return super().__call__(iterable_with_config)\n",
      "           ^^^^^^^^^^^^^^^^^^^^^^^^^^^^^^^^^^^^^^\n",
      "  File \"c:\\venv\\ilumpy\\Lib\\site-packages\\joblib\\parallel.py\", line 1952, in __call__\n",
      "    return output if self.return_generator else list(output)\n",
      "                                                ^^^^^^^^^^^^\n",
      "  File \"c:\\venv\\ilumpy\\Lib\\site-packages\\joblib\\parallel.py\", line 1595, in _get_outputs\n",
      "    yield from self._retrieve()\n",
      "  File \"c:\\venv\\ilumpy\\Lib\\site-packages\\joblib\\parallel.py\", line 1707, in _retrieve\n",
      "    time.sleep(0.01)\n",
      "KeyboardInterrupt\n",
      "[W 2024-11-16 17:15:55,743] Trial 933 failed with value None.\n"
     ]
    },
    {
     "ename": "KeyboardInterrupt",
     "evalue": "",
     "output_type": "error",
     "traceback": [
      "\u001b[1;31m---------------------------------------------------------------------------\u001b[0m",
      "\u001b[1;31mKeyboardInterrupt\u001b[0m                         Traceback (most recent call last)",
      "Cell \u001b[1;32mIn[21], line 3\u001b[0m\n\u001b[0;32m      1\u001b[0m NUM_TENTATIVAS \u001b[38;5;241m=\u001b[39m \u001b[38;5;241m200\u001b[39m\n\u001b[1;32m----> 3\u001b[0m \u001b[43mobjeto_de_estudo\u001b[49m\u001b[38;5;241;43m.\u001b[39;49m\u001b[43moptimize\u001b[49m\u001b[43m(\u001b[49m\u001b[43mfuncao_objetivo_parcial\u001b[49m\u001b[43m,\u001b[49m\u001b[43m \u001b[49m\u001b[43mn_trials\u001b[49m\u001b[38;5;241;43m=\u001b[39;49m\u001b[43mNUM_TENTATIVAS\u001b[49m\u001b[43m)\u001b[49m\n",
      "File \u001b[1;32mc:\\venv\\ilumpy\\Lib\\site-packages\\optuna\\study\\study.py:451\u001b[0m, in \u001b[0;36mStudy.optimize\u001b[1;34m(self, func, n_trials, timeout, n_jobs, catch, callbacks, gc_after_trial, show_progress_bar)\u001b[0m\n\u001b[0;32m    348\u001b[0m \u001b[38;5;28;01mdef\u001b[39;00m \u001b[38;5;21moptimize\u001b[39m(\n\u001b[0;32m    349\u001b[0m     \u001b[38;5;28mself\u001b[39m,\n\u001b[0;32m    350\u001b[0m     func: ObjectiveFuncType,\n\u001b[1;32m   (...)\u001b[0m\n\u001b[0;32m    357\u001b[0m     show_progress_bar: \u001b[38;5;28mbool\u001b[39m \u001b[38;5;241m=\u001b[39m \u001b[38;5;28;01mFalse\u001b[39;00m,\n\u001b[0;32m    358\u001b[0m ) \u001b[38;5;241m-\u001b[39m\u001b[38;5;241m>\u001b[39m \u001b[38;5;28;01mNone\u001b[39;00m:\n\u001b[0;32m    359\u001b[0m \u001b[38;5;250m    \u001b[39m\u001b[38;5;124;03m\"\"\"Optimize an objective function.\u001b[39;00m\n\u001b[0;32m    360\u001b[0m \n\u001b[0;32m    361\u001b[0m \u001b[38;5;124;03m    Optimization is done by choosing a suitable set of hyperparameter values from a given\u001b[39;00m\n\u001b[1;32m   (...)\u001b[0m\n\u001b[0;32m    449\u001b[0m \u001b[38;5;124;03m            If nested invocation of this method occurs.\u001b[39;00m\n\u001b[0;32m    450\u001b[0m \u001b[38;5;124;03m    \"\"\"\u001b[39;00m\n\u001b[1;32m--> 451\u001b[0m     \u001b[43m_optimize\u001b[49m\u001b[43m(\u001b[49m\n\u001b[0;32m    452\u001b[0m \u001b[43m        \u001b[49m\u001b[43mstudy\u001b[49m\u001b[38;5;241;43m=\u001b[39;49m\u001b[38;5;28;43mself\u001b[39;49m\u001b[43m,\u001b[49m\n\u001b[0;32m    453\u001b[0m \u001b[43m        \u001b[49m\u001b[43mfunc\u001b[49m\u001b[38;5;241;43m=\u001b[39;49m\u001b[43mfunc\u001b[49m\u001b[43m,\u001b[49m\n\u001b[0;32m    454\u001b[0m \u001b[43m        \u001b[49m\u001b[43mn_trials\u001b[49m\u001b[38;5;241;43m=\u001b[39;49m\u001b[43mn_trials\u001b[49m\u001b[43m,\u001b[49m\n\u001b[0;32m    455\u001b[0m \u001b[43m        \u001b[49m\u001b[43mtimeout\u001b[49m\u001b[38;5;241;43m=\u001b[39;49m\u001b[43mtimeout\u001b[49m\u001b[43m,\u001b[49m\n\u001b[0;32m    456\u001b[0m \u001b[43m        \u001b[49m\u001b[43mn_jobs\u001b[49m\u001b[38;5;241;43m=\u001b[39;49m\u001b[43mn_jobs\u001b[49m\u001b[43m,\u001b[49m\n\u001b[0;32m    457\u001b[0m \u001b[43m        \u001b[49m\u001b[43mcatch\u001b[49m\u001b[38;5;241;43m=\u001b[39;49m\u001b[38;5;28;43mtuple\u001b[39;49m\u001b[43m(\u001b[49m\u001b[43mcatch\u001b[49m\u001b[43m)\u001b[49m\u001b[43m \u001b[49m\u001b[38;5;28;43;01mif\u001b[39;49;00m\u001b[43m \u001b[49m\u001b[38;5;28;43misinstance\u001b[39;49m\u001b[43m(\u001b[49m\u001b[43mcatch\u001b[49m\u001b[43m,\u001b[49m\u001b[43m \u001b[49m\u001b[43mIterable\u001b[49m\u001b[43m)\u001b[49m\u001b[43m \u001b[49m\u001b[38;5;28;43;01melse\u001b[39;49;00m\u001b[43m \u001b[49m\u001b[43m(\u001b[49m\u001b[43mcatch\u001b[49m\u001b[43m,\u001b[49m\u001b[43m)\u001b[49m\u001b[43m,\u001b[49m\n\u001b[0;32m    458\u001b[0m \u001b[43m        \u001b[49m\u001b[43mcallbacks\u001b[49m\u001b[38;5;241;43m=\u001b[39;49m\u001b[43mcallbacks\u001b[49m\u001b[43m,\u001b[49m\n\u001b[0;32m    459\u001b[0m \u001b[43m        \u001b[49m\u001b[43mgc_after_trial\u001b[49m\u001b[38;5;241;43m=\u001b[39;49m\u001b[43mgc_after_trial\u001b[49m\u001b[43m,\u001b[49m\n\u001b[0;32m    460\u001b[0m \u001b[43m        \u001b[49m\u001b[43mshow_progress_bar\u001b[49m\u001b[38;5;241;43m=\u001b[39;49m\u001b[43mshow_progress_bar\u001b[49m\u001b[43m,\u001b[49m\n\u001b[0;32m    461\u001b[0m \u001b[43m    \u001b[49m\u001b[43m)\u001b[49m\n",
      "File \u001b[1;32mc:\\venv\\ilumpy\\Lib\\site-packages\\optuna\\study\\_optimize.py:66\u001b[0m, in \u001b[0;36m_optimize\u001b[1;34m(study, func, n_trials, timeout, n_jobs, catch, callbacks, gc_after_trial, show_progress_bar)\u001b[0m\n\u001b[0;32m     64\u001b[0m \u001b[38;5;28;01mtry\u001b[39;00m:\n\u001b[0;32m     65\u001b[0m     \u001b[38;5;28;01mif\u001b[39;00m n_jobs \u001b[38;5;241m==\u001b[39m \u001b[38;5;241m1\u001b[39m:\n\u001b[1;32m---> 66\u001b[0m         \u001b[43m_optimize_sequential\u001b[49m\u001b[43m(\u001b[49m\n\u001b[0;32m     67\u001b[0m \u001b[43m            \u001b[49m\u001b[43mstudy\u001b[49m\u001b[43m,\u001b[49m\n\u001b[0;32m     68\u001b[0m \u001b[43m            \u001b[49m\u001b[43mfunc\u001b[49m\u001b[43m,\u001b[49m\n\u001b[0;32m     69\u001b[0m \u001b[43m            \u001b[49m\u001b[43mn_trials\u001b[49m\u001b[43m,\u001b[49m\n\u001b[0;32m     70\u001b[0m \u001b[43m            \u001b[49m\u001b[43mtimeout\u001b[49m\u001b[43m,\u001b[49m\n\u001b[0;32m     71\u001b[0m \u001b[43m            \u001b[49m\u001b[43mcatch\u001b[49m\u001b[43m,\u001b[49m\n\u001b[0;32m     72\u001b[0m \u001b[43m            \u001b[49m\u001b[43mcallbacks\u001b[49m\u001b[43m,\u001b[49m\n\u001b[0;32m     73\u001b[0m \u001b[43m            \u001b[49m\u001b[43mgc_after_trial\u001b[49m\u001b[43m,\u001b[49m\n\u001b[0;32m     74\u001b[0m \u001b[43m            \u001b[49m\u001b[43mreseed_sampler_rng\u001b[49m\u001b[38;5;241;43m=\u001b[39;49m\u001b[38;5;28;43;01mFalse\u001b[39;49;00m\u001b[43m,\u001b[49m\n\u001b[0;32m     75\u001b[0m \u001b[43m            \u001b[49m\u001b[43mtime_start\u001b[49m\u001b[38;5;241;43m=\u001b[39;49m\u001b[38;5;28;43;01mNone\u001b[39;49;00m\u001b[43m,\u001b[49m\n\u001b[0;32m     76\u001b[0m \u001b[43m            \u001b[49m\u001b[43mprogress_bar\u001b[49m\u001b[38;5;241;43m=\u001b[39;49m\u001b[43mprogress_bar\u001b[49m\u001b[43m,\u001b[49m\n\u001b[0;32m     77\u001b[0m \u001b[43m        \u001b[49m\u001b[43m)\u001b[49m\n\u001b[0;32m     78\u001b[0m     \u001b[38;5;28;01melse\u001b[39;00m:\n\u001b[0;32m     79\u001b[0m         \u001b[38;5;28;01mif\u001b[39;00m n_jobs \u001b[38;5;241m==\u001b[39m \u001b[38;5;241m-\u001b[39m\u001b[38;5;241m1\u001b[39m:\n",
      "File \u001b[1;32mc:\\venv\\ilumpy\\Lib\\site-packages\\optuna\\study\\_optimize.py:163\u001b[0m, in \u001b[0;36m_optimize_sequential\u001b[1;34m(study, func, n_trials, timeout, catch, callbacks, gc_after_trial, reseed_sampler_rng, time_start, progress_bar)\u001b[0m\n\u001b[0;32m    160\u001b[0m         \u001b[38;5;28;01mbreak\u001b[39;00m\n\u001b[0;32m    162\u001b[0m \u001b[38;5;28;01mtry\u001b[39;00m:\n\u001b[1;32m--> 163\u001b[0m     frozen_trial \u001b[38;5;241m=\u001b[39m \u001b[43m_run_trial\u001b[49m\u001b[43m(\u001b[49m\u001b[43mstudy\u001b[49m\u001b[43m,\u001b[49m\u001b[43m \u001b[49m\u001b[43mfunc\u001b[49m\u001b[43m,\u001b[49m\u001b[43m \u001b[49m\u001b[43mcatch\u001b[49m\u001b[43m)\u001b[49m\n\u001b[0;32m    164\u001b[0m \u001b[38;5;28;01mfinally\u001b[39;00m:\n\u001b[0;32m    165\u001b[0m     \u001b[38;5;66;03m# The following line mitigates memory problems that can be occurred in some\u001b[39;00m\n\u001b[0;32m    166\u001b[0m     \u001b[38;5;66;03m# environments (e.g., services that use computing containers such as GitHub Actions).\u001b[39;00m\n\u001b[0;32m    167\u001b[0m     \u001b[38;5;66;03m# Please refer to the following PR for further details:\u001b[39;00m\n\u001b[0;32m    168\u001b[0m     \u001b[38;5;66;03m# https://github.com/optuna/optuna/pull/325.\u001b[39;00m\n\u001b[0;32m    169\u001b[0m     \u001b[38;5;28;01mif\u001b[39;00m gc_after_trial:\n",
      "File \u001b[1;32mc:\\venv\\ilumpy\\Lib\\site-packages\\optuna\\study\\_optimize.py:251\u001b[0m, in \u001b[0;36m_run_trial\u001b[1;34m(study, func, catch)\u001b[0m\n\u001b[0;32m    244\u001b[0m         \u001b[38;5;28;01massert\u001b[39;00m \u001b[38;5;28;01mFalse\u001b[39;00m, \u001b[38;5;124m\"\u001b[39m\u001b[38;5;124mShould not reach.\u001b[39m\u001b[38;5;124m\"\u001b[39m\n\u001b[0;32m    246\u001b[0m \u001b[38;5;28;01mif\u001b[39;00m (\n\u001b[0;32m    247\u001b[0m     frozen_trial\u001b[38;5;241m.\u001b[39mstate \u001b[38;5;241m==\u001b[39m TrialState\u001b[38;5;241m.\u001b[39mFAIL\n\u001b[0;32m    248\u001b[0m     \u001b[38;5;129;01mand\u001b[39;00m func_err \u001b[38;5;129;01mis\u001b[39;00m \u001b[38;5;129;01mnot\u001b[39;00m \u001b[38;5;28;01mNone\u001b[39;00m\n\u001b[0;32m    249\u001b[0m     \u001b[38;5;129;01mand\u001b[39;00m \u001b[38;5;129;01mnot\u001b[39;00m \u001b[38;5;28misinstance\u001b[39m(func_err, catch)\n\u001b[0;32m    250\u001b[0m ):\n\u001b[1;32m--> 251\u001b[0m     \u001b[38;5;28;01mraise\u001b[39;00m func_err\n\u001b[0;32m    252\u001b[0m \u001b[38;5;28;01mreturn\u001b[39;00m frozen_trial\n",
      "File \u001b[1;32mc:\\venv\\ilumpy\\Lib\\site-packages\\optuna\\study\\_optimize.py:200\u001b[0m, in \u001b[0;36m_run_trial\u001b[1;34m(study, func, catch)\u001b[0m\n\u001b[0;32m    198\u001b[0m \u001b[38;5;28;01mwith\u001b[39;00m get_heartbeat_thread(trial\u001b[38;5;241m.\u001b[39m_trial_id, study\u001b[38;5;241m.\u001b[39m_storage):\n\u001b[0;32m    199\u001b[0m     \u001b[38;5;28;01mtry\u001b[39;00m:\n\u001b[1;32m--> 200\u001b[0m         value_or_values \u001b[38;5;241m=\u001b[39m \u001b[43mfunc\u001b[49m\u001b[43m(\u001b[49m\u001b[43mtrial\u001b[49m\u001b[43m)\u001b[49m\n\u001b[0;32m    201\u001b[0m     \u001b[38;5;28;01mexcept\u001b[39;00m exceptions\u001b[38;5;241m.\u001b[39mTrialPruned \u001b[38;5;28;01mas\u001b[39;00m e:\n\u001b[0;32m    202\u001b[0m         \u001b[38;5;66;03m# TODO(mamu): Handle multi-objective cases.\u001b[39;00m\n\u001b[0;32m    203\u001b[0m         state \u001b[38;5;241m=\u001b[39m TrialState\u001b[38;5;241m.\u001b[39mPRUNED\n",
      "Cell \u001b[1;32mIn[20], line 4\u001b[0m, in \u001b[0;36mfuncao_objetivo_parcial\u001b[1;34m(trial)\u001b[0m\n\u001b[0;32m      3\u001b[0m \u001b[38;5;28;01mdef\u001b[39;00m \u001b[38;5;21mfuncao_objetivo_parcial\u001b[39m(trial):\n\u001b[1;32m----> 4\u001b[0m     \u001b[38;5;28;01mreturn\u001b[39;00m \u001b[43mfuncao_objetivo\u001b[49m\u001b[43m(\u001b[49m\u001b[43mtrial\u001b[49m\u001b[43m,\u001b[49m\u001b[43m \u001b[49m\u001b[43mX_treino\u001b[49m\u001b[43m,\u001b[49m\u001b[43m \u001b[49m\u001b[43my_treino\u001b[49m\u001b[43m,\u001b[49m\u001b[43m \u001b[49m\u001b[43mNUM_FOLDS\u001b[49m\u001b[43m)\u001b[49m\n",
      "Cell \u001b[1;32mIn[18], line 12\u001b[0m, in \u001b[0;36mfuncao_objetivo\u001b[1;34m(trial, X, y, num_folds)\u001b[0m\n\u001b[0;32m      4\u001b[0m \u001b[38;5;250m\u001b[39m\u001b[38;5;124;03m\"\"\"Função objetivo do optuna\u001b[39;00m\n\u001b[0;32m      5\u001b[0m \n\u001b[0;32m      6\u001b[0m \u001b[38;5;124;03mReferencia:\u001b[39;00m\n\u001b[0;32m      7\u001b[0m \u001b[38;5;124;03m  https://medium.com/@walter_sperat/ using-optuna-with-sklearn-the-right-way-part-1-6b4ad0ab2451\u001b[39;00m\n\u001b[0;32m      8\u001b[0m \n\u001b[0;32m      9\u001b[0m \u001b[38;5;124;03m\"\"\"\u001b[39;00m\n\u001b[0;32m     10\u001b[0m modelo \u001b[38;5;241m=\u001b[39m cria_instancia_modelo(trial)\n\u001b[1;32m---> 12\u001b[0m metricas \u001b[38;5;241m=\u001b[39m \u001b[43mcross_val_score\u001b[49m\u001b[43m(\u001b[49m\n\u001b[0;32m     13\u001b[0m \u001b[43m    \u001b[49m\u001b[43mmodelo\u001b[49m\u001b[43m,\u001b[49m\n\u001b[0;32m     14\u001b[0m \u001b[43m    \u001b[49m\u001b[43mX\u001b[49m\u001b[43m,\u001b[49m\n\u001b[0;32m     15\u001b[0m \u001b[43m    \u001b[49m\u001b[43my\u001b[49m\u001b[43m,\u001b[49m\n\u001b[0;32m     16\u001b[0m \u001b[43m    \u001b[49m\u001b[43mscoring\u001b[49m\u001b[38;5;241;43m=\u001b[39;49m\u001b[38;5;124;43m\"\u001b[39;49m\u001b[38;5;124;43mneg_root_mean_squared_error\u001b[39;49m\u001b[38;5;124;43m\"\u001b[39;49m\u001b[43m,\u001b[49m\n\u001b[0;32m     17\u001b[0m \u001b[43m    \u001b[49m\u001b[43mcv\u001b[49m\u001b[38;5;241;43m=\u001b[39;49m\u001b[43mnum_folds\u001b[49m\u001b[43m,\u001b[49m\n\u001b[0;32m     18\u001b[0m \u001b[43m\u001b[49m\u001b[43m)\u001b[49m\n\u001b[0;32m     20\u001b[0m \u001b[38;5;28;01mreturn\u001b[39;00m \u001b[38;5;241m-\u001b[39mmetricas\u001b[38;5;241m.\u001b[39mmean()\n",
      "File \u001b[1;32mc:\\venv\\ilumpy\\Lib\\site-packages\\sklearn\\model_selection\\_validation.py:562\u001b[0m, in \u001b[0;36mcross_val_score\u001b[1;34m(estimator, X, y, groups, scoring, cv, n_jobs, verbose, fit_params, pre_dispatch, error_score)\u001b[0m\n\u001b[0;32m    559\u001b[0m \u001b[38;5;66;03m# To ensure multimetric format is not supported\u001b[39;00m\n\u001b[0;32m    560\u001b[0m scorer \u001b[38;5;241m=\u001b[39m check_scoring(estimator, scoring\u001b[38;5;241m=\u001b[39mscoring)\n\u001b[1;32m--> 562\u001b[0m cv_results \u001b[38;5;241m=\u001b[39m \u001b[43mcross_validate\u001b[49m\u001b[43m(\u001b[49m\n\u001b[0;32m    563\u001b[0m \u001b[43m    \u001b[49m\u001b[43mestimator\u001b[49m\u001b[38;5;241;43m=\u001b[39;49m\u001b[43mestimator\u001b[49m\u001b[43m,\u001b[49m\n\u001b[0;32m    564\u001b[0m \u001b[43m    \u001b[49m\u001b[43mX\u001b[49m\u001b[38;5;241;43m=\u001b[39;49m\u001b[43mX\u001b[49m\u001b[43m,\u001b[49m\n\u001b[0;32m    565\u001b[0m \u001b[43m    \u001b[49m\u001b[43my\u001b[49m\u001b[38;5;241;43m=\u001b[39;49m\u001b[43my\u001b[49m\u001b[43m,\u001b[49m\n\u001b[0;32m    566\u001b[0m \u001b[43m    \u001b[49m\u001b[43mgroups\u001b[49m\u001b[38;5;241;43m=\u001b[39;49m\u001b[43mgroups\u001b[49m\u001b[43m,\u001b[49m\n\u001b[0;32m    567\u001b[0m \u001b[43m    \u001b[49m\u001b[43mscoring\u001b[49m\u001b[38;5;241;43m=\u001b[39;49m\u001b[43m{\u001b[49m\u001b[38;5;124;43m\"\u001b[39;49m\u001b[38;5;124;43mscore\u001b[39;49m\u001b[38;5;124;43m\"\u001b[39;49m\u001b[43m:\u001b[49m\u001b[43m \u001b[49m\u001b[43mscorer\u001b[49m\u001b[43m}\u001b[49m\u001b[43m,\u001b[49m\n\u001b[0;32m    568\u001b[0m \u001b[43m    \u001b[49m\u001b[43mcv\u001b[49m\u001b[38;5;241;43m=\u001b[39;49m\u001b[43mcv\u001b[49m\u001b[43m,\u001b[49m\n\u001b[0;32m    569\u001b[0m \u001b[43m    \u001b[49m\u001b[43mn_jobs\u001b[49m\u001b[38;5;241;43m=\u001b[39;49m\u001b[43mn_jobs\u001b[49m\u001b[43m,\u001b[49m\n\u001b[0;32m    570\u001b[0m \u001b[43m    \u001b[49m\u001b[43mverbose\u001b[49m\u001b[38;5;241;43m=\u001b[39;49m\u001b[43mverbose\u001b[49m\u001b[43m,\u001b[49m\n\u001b[0;32m    571\u001b[0m \u001b[43m    \u001b[49m\u001b[43mfit_params\u001b[49m\u001b[38;5;241;43m=\u001b[39;49m\u001b[43mfit_params\u001b[49m\u001b[43m,\u001b[49m\n\u001b[0;32m    572\u001b[0m \u001b[43m    \u001b[49m\u001b[43mpre_dispatch\u001b[49m\u001b[38;5;241;43m=\u001b[39;49m\u001b[43mpre_dispatch\u001b[49m\u001b[43m,\u001b[49m\n\u001b[0;32m    573\u001b[0m \u001b[43m    \u001b[49m\u001b[43merror_score\u001b[49m\u001b[38;5;241;43m=\u001b[39;49m\u001b[43merror_score\u001b[49m\u001b[43m,\u001b[49m\n\u001b[0;32m    574\u001b[0m \u001b[43m\u001b[49m\u001b[43m)\u001b[49m\n\u001b[0;32m    575\u001b[0m \u001b[38;5;28;01mreturn\u001b[39;00m cv_results[\u001b[38;5;124m\"\u001b[39m\u001b[38;5;124mtest_score\u001b[39m\u001b[38;5;124m\"\u001b[39m]\n",
      "File \u001b[1;32mc:\\venv\\ilumpy\\Lib\\site-packages\\sklearn\\utils\\_param_validation.py:214\u001b[0m, in \u001b[0;36mvalidate_params.<locals>.decorator.<locals>.wrapper\u001b[1;34m(*args, **kwargs)\u001b[0m\n\u001b[0;32m    208\u001b[0m \u001b[38;5;28;01mtry\u001b[39;00m:\n\u001b[0;32m    209\u001b[0m     \u001b[38;5;28;01mwith\u001b[39;00m config_context(\n\u001b[0;32m    210\u001b[0m         skip_parameter_validation\u001b[38;5;241m=\u001b[39m(\n\u001b[0;32m    211\u001b[0m             prefer_skip_nested_validation \u001b[38;5;129;01mor\u001b[39;00m global_skip_validation\n\u001b[0;32m    212\u001b[0m         )\n\u001b[0;32m    213\u001b[0m     ):\n\u001b[1;32m--> 214\u001b[0m         \u001b[38;5;28;01mreturn\u001b[39;00m \u001b[43mfunc\u001b[49m\u001b[43m(\u001b[49m\u001b[38;5;241;43m*\u001b[39;49m\u001b[43margs\u001b[49m\u001b[43m,\u001b[49m\u001b[43m \u001b[49m\u001b[38;5;241;43m*\u001b[39;49m\u001b[38;5;241;43m*\u001b[39;49m\u001b[43mkwargs\u001b[49m\u001b[43m)\u001b[49m\n\u001b[0;32m    215\u001b[0m \u001b[38;5;28;01mexcept\u001b[39;00m InvalidParameterError \u001b[38;5;28;01mas\u001b[39;00m e:\n\u001b[0;32m    216\u001b[0m     \u001b[38;5;66;03m# When the function is just a wrapper around an estimator, we allow\u001b[39;00m\n\u001b[0;32m    217\u001b[0m     \u001b[38;5;66;03m# the function to delegate validation to the estimator, but we replace\u001b[39;00m\n\u001b[0;32m    218\u001b[0m     \u001b[38;5;66;03m# the name of the estimator by the name of the function in the error\u001b[39;00m\n\u001b[0;32m    219\u001b[0m     \u001b[38;5;66;03m# message to avoid confusion.\u001b[39;00m\n\u001b[0;32m    220\u001b[0m     msg \u001b[38;5;241m=\u001b[39m re\u001b[38;5;241m.\u001b[39msub(\n\u001b[0;32m    221\u001b[0m         \u001b[38;5;124mr\u001b[39m\u001b[38;5;124m\"\u001b[39m\u001b[38;5;124mparameter of \u001b[39m\u001b[38;5;124m\\\u001b[39m\u001b[38;5;124mw+ must be\u001b[39m\u001b[38;5;124m\"\u001b[39m,\n\u001b[0;32m    222\u001b[0m         \u001b[38;5;124mf\u001b[39m\u001b[38;5;124m\"\u001b[39m\u001b[38;5;124mparameter of \u001b[39m\u001b[38;5;132;01m{\u001b[39;00mfunc\u001b[38;5;241m.\u001b[39m\u001b[38;5;18m__qualname__\u001b[39m\u001b[38;5;132;01m}\u001b[39;00m\u001b[38;5;124m must be\u001b[39m\u001b[38;5;124m\"\u001b[39m,\n\u001b[0;32m    223\u001b[0m         \u001b[38;5;28mstr\u001b[39m(e),\n\u001b[0;32m    224\u001b[0m     )\n",
      "File \u001b[1;32mc:\\venv\\ilumpy\\Lib\\site-packages\\sklearn\\model_selection\\_validation.py:309\u001b[0m, in \u001b[0;36mcross_validate\u001b[1;34m(estimator, X, y, groups, scoring, cv, n_jobs, verbose, fit_params, pre_dispatch, return_train_score, return_estimator, return_indices, error_score)\u001b[0m\n\u001b[0;32m    306\u001b[0m \u001b[38;5;66;03m# We clone the estimator to make sure that all the folds are\u001b[39;00m\n\u001b[0;32m    307\u001b[0m \u001b[38;5;66;03m# independent, and that it is pickle-able.\u001b[39;00m\n\u001b[0;32m    308\u001b[0m parallel \u001b[38;5;241m=\u001b[39m Parallel(n_jobs\u001b[38;5;241m=\u001b[39mn_jobs, verbose\u001b[38;5;241m=\u001b[39mverbose, pre_dispatch\u001b[38;5;241m=\u001b[39mpre_dispatch)\n\u001b[1;32m--> 309\u001b[0m results \u001b[38;5;241m=\u001b[39m \u001b[43mparallel\u001b[49m\u001b[43m(\u001b[49m\n\u001b[0;32m    310\u001b[0m \u001b[43m    \u001b[49m\u001b[43mdelayed\u001b[49m\u001b[43m(\u001b[49m\u001b[43m_fit_and_score\u001b[49m\u001b[43m)\u001b[49m\u001b[43m(\u001b[49m\n\u001b[0;32m    311\u001b[0m \u001b[43m        \u001b[49m\u001b[43mclone\u001b[49m\u001b[43m(\u001b[49m\u001b[43mestimator\u001b[49m\u001b[43m)\u001b[49m\u001b[43m,\u001b[49m\n\u001b[0;32m    312\u001b[0m \u001b[43m        \u001b[49m\u001b[43mX\u001b[49m\u001b[43m,\u001b[49m\n\u001b[0;32m    313\u001b[0m \u001b[43m        \u001b[49m\u001b[43my\u001b[49m\u001b[43m,\u001b[49m\n\u001b[0;32m    314\u001b[0m \u001b[43m        \u001b[49m\u001b[43mscorers\u001b[49m\u001b[43m,\u001b[49m\n\u001b[0;32m    315\u001b[0m \u001b[43m        \u001b[49m\u001b[43mtrain\u001b[49m\u001b[43m,\u001b[49m\n\u001b[0;32m    316\u001b[0m \u001b[43m        \u001b[49m\u001b[43mtest\u001b[49m\u001b[43m,\u001b[49m\n\u001b[0;32m    317\u001b[0m \u001b[43m        \u001b[49m\u001b[43mverbose\u001b[49m\u001b[43m,\u001b[49m\n\u001b[0;32m    318\u001b[0m \u001b[43m        \u001b[49m\u001b[38;5;28;43;01mNone\u001b[39;49;00m\u001b[43m,\u001b[49m\n\u001b[0;32m    319\u001b[0m \u001b[43m        \u001b[49m\u001b[43mfit_params\u001b[49m\u001b[43m,\u001b[49m\n\u001b[0;32m    320\u001b[0m \u001b[43m        \u001b[49m\u001b[43mreturn_train_score\u001b[49m\u001b[38;5;241;43m=\u001b[39;49m\u001b[43mreturn_train_score\u001b[49m\u001b[43m,\u001b[49m\n\u001b[0;32m    321\u001b[0m \u001b[43m        \u001b[49m\u001b[43mreturn_times\u001b[49m\u001b[38;5;241;43m=\u001b[39;49m\u001b[38;5;28;43;01mTrue\u001b[39;49;00m\u001b[43m,\u001b[49m\n\u001b[0;32m    322\u001b[0m \u001b[43m        \u001b[49m\u001b[43mreturn_estimator\u001b[49m\u001b[38;5;241;43m=\u001b[39;49m\u001b[43mreturn_estimator\u001b[49m\u001b[43m,\u001b[49m\n\u001b[0;32m    323\u001b[0m \u001b[43m        \u001b[49m\u001b[43merror_score\u001b[49m\u001b[38;5;241;43m=\u001b[39;49m\u001b[43merror_score\u001b[49m\u001b[43m,\u001b[49m\n\u001b[0;32m    324\u001b[0m \u001b[43m    \u001b[49m\u001b[43m)\u001b[49m\n\u001b[0;32m    325\u001b[0m \u001b[43m    \u001b[49m\u001b[38;5;28;43;01mfor\u001b[39;49;00m\u001b[43m \u001b[49m\u001b[43mtrain\u001b[49m\u001b[43m,\u001b[49m\u001b[43m \u001b[49m\u001b[43mtest\u001b[49m\u001b[43m \u001b[49m\u001b[38;5;129;43;01min\u001b[39;49;00m\u001b[43m \u001b[49m\u001b[43mindices\u001b[49m\n\u001b[0;32m    326\u001b[0m \u001b[43m\u001b[49m\u001b[43m)\u001b[49m\n\u001b[0;32m    328\u001b[0m _warn_or_raise_about_fit_failures(results, error_score)\n\u001b[0;32m    330\u001b[0m \u001b[38;5;66;03m# For callable scoring, the return type is only know after calling. If the\u001b[39;00m\n\u001b[0;32m    331\u001b[0m \u001b[38;5;66;03m# return type is a dictionary, the error scores can now be inserted with\u001b[39;00m\n\u001b[0;32m    332\u001b[0m \u001b[38;5;66;03m# the correct key.\u001b[39;00m\n",
      "File \u001b[1;32mc:\\venv\\ilumpy\\Lib\\site-packages\\sklearn\\utils\\parallel.py:65\u001b[0m, in \u001b[0;36mParallel.__call__\u001b[1;34m(self, iterable)\u001b[0m\n\u001b[0;32m     60\u001b[0m config \u001b[38;5;241m=\u001b[39m get_config()\n\u001b[0;32m     61\u001b[0m iterable_with_config \u001b[38;5;241m=\u001b[39m (\n\u001b[0;32m     62\u001b[0m     (_with_config(delayed_func, config), args, kwargs)\n\u001b[0;32m     63\u001b[0m     \u001b[38;5;28;01mfor\u001b[39;00m delayed_func, args, kwargs \u001b[38;5;129;01min\u001b[39;00m iterable\n\u001b[0;32m     64\u001b[0m )\n\u001b[1;32m---> 65\u001b[0m \u001b[38;5;28;01mreturn\u001b[39;00m \u001b[38;5;28;43msuper\u001b[39;49m\u001b[43m(\u001b[49m\u001b[43m)\u001b[49m\u001b[38;5;241;43m.\u001b[39;49m\u001b[38;5;21;43m__call__\u001b[39;49m\u001b[43m(\u001b[49m\u001b[43miterable_with_config\u001b[49m\u001b[43m)\u001b[49m\n",
      "File \u001b[1;32mc:\\venv\\ilumpy\\Lib\\site-packages\\joblib\\parallel.py:1863\u001b[0m, in \u001b[0;36mParallel.__call__\u001b[1;34m(self, iterable)\u001b[0m\n\u001b[0;32m   1861\u001b[0m     output \u001b[38;5;241m=\u001b[39m \u001b[38;5;28mself\u001b[39m\u001b[38;5;241m.\u001b[39m_get_sequential_output(iterable)\n\u001b[0;32m   1862\u001b[0m     \u001b[38;5;28mnext\u001b[39m(output)\n\u001b[1;32m-> 1863\u001b[0m     \u001b[38;5;28;01mreturn\u001b[39;00m output \u001b[38;5;28;01mif\u001b[39;00m \u001b[38;5;28mself\u001b[39m\u001b[38;5;241m.\u001b[39mreturn_generator \u001b[38;5;28;01melse\u001b[39;00m \u001b[38;5;28mlist\u001b[39m(output)\n\u001b[0;32m   1865\u001b[0m \u001b[38;5;66;03m# Let's create an ID that uniquely identifies the current call. If the\u001b[39;00m\n\u001b[0;32m   1866\u001b[0m \u001b[38;5;66;03m# call is interrupted early and that the same instance is immediately\u001b[39;00m\n\u001b[0;32m   1867\u001b[0m \u001b[38;5;66;03m# re-used, this id will be used to prevent workers that were\u001b[39;00m\n\u001b[0;32m   1868\u001b[0m \u001b[38;5;66;03m# concurrently finalizing a task from the previous call to run the\u001b[39;00m\n\u001b[0;32m   1869\u001b[0m \u001b[38;5;66;03m# callback.\u001b[39;00m\n\u001b[0;32m   1870\u001b[0m \u001b[38;5;28;01mwith\u001b[39;00m \u001b[38;5;28mself\u001b[39m\u001b[38;5;241m.\u001b[39m_lock:\n",
      "File \u001b[1;32mc:\\venv\\ilumpy\\Lib\\site-packages\\joblib\\parallel.py:1792\u001b[0m, in \u001b[0;36mParallel._get_sequential_output\u001b[1;34m(self, iterable)\u001b[0m\n\u001b[0;32m   1790\u001b[0m \u001b[38;5;28mself\u001b[39m\u001b[38;5;241m.\u001b[39mn_dispatched_batches \u001b[38;5;241m+\u001b[39m\u001b[38;5;241m=\u001b[39m \u001b[38;5;241m1\u001b[39m\n\u001b[0;32m   1791\u001b[0m \u001b[38;5;28mself\u001b[39m\u001b[38;5;241m.\u001b[39mn_dispatched_tasks \u001b[38;5;241m+\u001b[39m\u001b[38;5;241m=\u001b[39m \u001b[38;5;241m1\u001b[39m\n\u001b[1;32m-> 1792\u001b[0m res \u001b[38;5;241m=\u001b[39m \u001b[43mfunc\u001b[49m\u001b[43m(\u001b[49m\u001b[38;5;241;43m*\u001b[39;49m\u001b[43margs\u001b[49m\u001b[43m,\u001b[49m\u001b[43m \u001b[49m\u001b[38;5;241;43m*\u001b[39;49m\u001b[38;5;241;43m*\u001b[39;49m\u001b[43mkwargs\u001b[49m\u001b[43m)\u001b[49m\n\u001b[0;32m   1793\u001b[0m \u001b[38;5;28mself\u001b[39m\u001b[38;5;241m.\u001b[39mn_completed_tasks \u001b[38;5;241m+\u001b[39m\u001b[38;5;241m=\u001b[39m \u001b[38;5;241m1\u001b[39m\n\u001b[0;32m   1794\u001b[0m \u001b[38;5;28mself\u001b[39m\u001b[38;5;241m.\u001b[39mprint_progress()\n",
      "File \u001b[1;32mc:\\venv\\ilumpy\\Lib\\site-packages\\sklearn\\utils\\parallel.py:127\u001b[0m, in \u001b[0;36m_FuncWrapper.__call__\u001b[1;34m(self, *args, **kwargs)\u001b[0m\n\u001b[0;32m    125\u001b[0m     config \u001b[38;5;241m=\u001b[39m {}\n\u001b[0;32m    126\u001b[0m \u001b[38;5;28;01mwith\u001b[39;00m config_context(\u001b[38;5;241m*\u001b[39m\u001b[38;5;241m*\u001b[39mconfig):\n\u001b[1;32m--> 127\u001b[0m     \u001b[38;5;28;01mreturn\u001b[39;00m \u001b[38;5;28;43mself\u001b[39;49m\u001b[38;5;241;43m.\u001b[39;49m\u001b[43mfunction\u001b[49m\u001b[43m(\u001b[49m\u001b[38;5;241;43m*\u001b[39;49m\u001b[43margs\u001b[49m\u001b[43m,\u001b[49m\u001b[43m \u001b[49m\u001b[38;5;241;43m*\u001b[39;49m\u001b[38;5;241;43m*\u001b[39;49m\u001b[43mkwargs\u001b[49m\u001b[43m)\u001b[49m\n",
      "File \u001b[1;32mc:\\venv\\ilumpy\\Lib\\site-packages\\sklearn\\model_selection\\_validation.py:729\u001b[0m, in \u001b[0;36m_fit_and_score\u001b[1;34m(estimator, X, y, scorer, train, test, verbose, parameters, fit_params, return_train_score, return_parameters, return_n_test_samples, return_times, return_estimator, split_progress, candidate_progress, error_score)\u001b[0m\n\u001b[0;32m    727\u001b[0m         estimator\u001b[38;5;241m.\u001b[39mfit(X_train, \u001b[38;5;241m*\u001b[39m\u001b[38;5;241m*\u001b[39mfit_params)\n\u001b[0;32m    728\u001b[0m     \u001b[38;5;28;01melse\u001b[39;00m:\n\u001b[1;32m--> 729\u001b[0m         \u001b[43mestimator\u001b[49m\u001b[38;5;241;43m.\u001b[39;49m\u001b[43mfit\u001b[49m\u001b[43m(\u001b[49m\u001b[43mX_train\u001b[49m\u001b[43m,\u001b[49m\u001b[43m \u001b[49m\u001b[43my_train\u001b[49m\u001b[43m,\u001b[49m\u001b[43m \u001b[49m\u001b[38;5;241;43m*\u001b[39;49m\u001b[38;5;241;43m*\u001b[39;49m\u001b[43mfit_params\u001b[49m\u001b[43m)\u001b[49m\n\u001b[0;32m    731\u001b[0m \u001b[38;5;28;01mexcept\u001b[39;00m \u001b[38;5;167;01mException\u001b[39;00m:\n\u001b[0;32m    732\u001b[0m     \u001b[38;5;66;03m# Note fit time as time until error\u001b[39;00m\n\u001b[0;32m    733\u001b[0m     fit_time \u001b[38;5;241m=\u001b[39m time\u001b[38;5;241m.\u001b[39mtime() \u001b[38;5;241m-\u001b[39m start_time\n",
      "File \u001b[1;32mc:\\venv\\ilumpy\\Lib\\site-packages\\sklearn\\base.py:1152\u001b[0m, in \u001b[0;36m_fit_context.<locals>.decorator.<locals>.wrapper\u001b[1;34m(estimator, *args, **kwargs)\u001b[0m\n\u001b[0;32m   1145\u001b[0m     estimator\u001b[38;5;241m.\u001b[39m_validate_params()\n\u001b[0;32m   1147\u001b[0m \u001b[38;5;28;01mwith\u001b[39;00m config_context(\n\u001b[0;32m   1148\u001b[0m     skip_parameter_validation\u001b[38;5;241m=\u001b[39m(\n\u001b[0;32m   1149\u001b[0m         prefer_skip_nested_validation \u001b[38;5;129;01mor\u001b[39;00m global_skip_validation\n\u001b[0;32m   1150\u001b[0m     )\n\u001b[0;32m   1151\u001b[0m ):\n\u001b[1;32m-> 1152\u001b[0m     \u001b[38;5;28;01mreturn\u001b[39;00m \u001b[43mfit_method\u001b[49m\u001b[43m(\u001b[49m\u001b[43mestimator\u001b[49m\u001b[43m,\u001b[49m\u001b[43m \u001b[49m\u001b[38;5;241;43m*\u001b[39;49m\u001b[43margs\u001b[49m\u001b[43m,\u001b[49m\u001b[43m \u001b[49m\u001b[38;5;241;43m*\u001b[39;49m\u001b[38;5;241;43m*\u001b[39;49m\u001b[43mkwargs\u001b[49m\u001b[43m)\u001b[49m\n",
      "File \u001b[1;32mc:\\venv\\ilumpy\\Lib\\site-packages\\sklearn\\ensemble\\_forest.py:456\u001b[0m, in \u001b[0;36mBaseForest.fit\u001b[1;34m(self, X, y, sample_weight)\u001b[0m\n\u001b[0;32m    445\u001b[0m trees \u001b[38;5;241m=\u001b[39m [\n\u001b[0;32m    446\u001b[0m     \u001b[38;5;28mself\u001b[39m\u001b[38;5;241m.\u001b[39m_make_estimator(append\u001b[38;5;241m=\u001b[39m\u001b[38;5;28;01mFalse\u001b[39;00m, random_state\u001b[38;5;241m=\u001b[39mrandom_state)\n\u001b[0;32m    447\u001b[0m     \u001b[38;5;28;01mfor\u001b[39;00m i \u001b[38;5;129;01min\u001b[39;00m \u001b[38;5;28mrange\u001b[39m(n_more_estimators)\n\u001b[0;32m    448\u001b[0m ]\n\u001b[0;32m    450\u001b[0m \u001b[38;5;66;03m# Parallel loop: we prefer the threading backend as the Cython code\u001b[39;00m\n\u001b[0;32m    451\u001b[0m \u001b[38;5;66;03m# for fitting the trees is internally releasing the Python GIL\u001b[39;00m\n\u001b[0;32m    452\u001b[0m \u001b[38;5;66;03m# making threading more efficient than multiprocessing in\u001b[39;00m\n\u001b[0;32m    453\u001b[0m \u001b[38;5;66;03m# that case. However, for joblib 0.12+ we respect any\u001b[39;00m\n\u001b[0;32m    454\u001b[0m \u001b[38;5;66;03m# parallel_backend contexts set at a higher level,\u001b[39;00m\n\u001b[0;32m    455\u001b[0m \u001b[38;5;66;03m# since correctness does not rely on using threads.\u001b[39;00m\n\u001b[1;32m--> 456\u001b[0m trees \u001b[38;5;241m=\u001b[39m \u001b[43mParallel\u001b[49m\u001b[43m(\u001b[49m\n\u001b[0;32m    457\u001b[0m \u001b[43m    \u001b[49m\u001b[43mn_jobs\u001b[49m\u001b[38;5;241;43m=\u001b[39;49m\u001b[38;5;28;43mself\u001b[39;49m\u001b[38;5;241;43m.\u001b[39;49m\u001b[43mn_jobs\u001b[49m\u001b[43m,\u001b[49m\n\u001b[0;32m    458\u001b[0m \u001b[43m    \u001b[49m\u001b[43mverbose\u001b[49m\u001b[38;5;241;43m=\u001b[39;49m\u001b[38;5;28;43mself\u001b[39;49m\u001b[38;5;241;43m.\u001b[39;49m\u001b[43mverbose\u001b[49m\u001b[43m,\u001b[49m\n\u001b[0;32m    459\u001b[0m \u001b[43m    \u001b[49m\u001b[43mprefer\u001b[49m\u001b[38;5;241;43m=\u001b[39;49m\u001b[38;5;124;43m\"\u001b[39;49m\u001b[38;5;124;43mthreads\u001b[39;49m\u001b[38;5;124;43m\"\u001b[39;49m\u001b[43m,\u001b[49m\n\u001b[0;32m    460\u001b[0m \u001b[43m\u001b[49m\u001b[43m)\u001b[49m\u001b[43m(\u001b[49m\n\u001b[0;32m    461\u001b[0m \u001b[43m    \u001b[49m\u001b[43mdelayed\u001b[49m\u001b[43m(\u001b[49m\u001b[43m_parallel_build_trees\u001b[49m\u001b[43m)\u001b[49m\u001b[43m(\u001b[49m\n\u001b[0;32m    462\u001b[0m \u001b[43m        \u001b[49m\u001b[43mt\u001b[49m\u001b[43m,\u001b[49m\n\u001b[0;32m    463\u001b[0m \u001b[43m        \u001b[49m\u001b[38;5;28;43mself\u001b[39;49m\u001b[38;5;241;43m.\u001b[39;49m\u001b[43mbootstrap\u001b[49m\u001b[43m,\u001b[49m\n\u001b[0;32m    464\u001b[0m \u001b[43m        \u001b[49m\u001b[43mX\u001b[49m\u001b[43m,\u001b[49m\n\u001b[0;32m    465\u001b[0m \u001b[43m        \u001b[49m\u001b[43my\u001b[49m\u001b[43m,\u001b[49m\n\u001b[0;32m    466\u001b[0m \u001b[43m        \u001b[49m\u001b[43msample_weight\u001b[49m\u001b[43m,\u001b[49m\n\u001b[0;32m    467\u001b[0m \u001b[43m        \u001b[49m\u001b[43mi\u001b[49m\u001b[43m,\u001b[49m\n\u001b[0;32m    468\u001b[0m \u001b[43m        \u001b[49m\u001b[38;5;28;43mlen\u001b[39;49m\u001b[43m(\u001b[49m\u001b[43mtrees\u001b[49m\u001b[43m)\u001b[49m\u001b[43m,\u001b[49m\n\u001b[0;32m    469\u001b[0m \u001b[43m        \u001b[49m\u001b[43mverbose\u001b[49m\u001b[38;5;241;43m=\u001b[39;49m\u001b[38;5;28;43mself\u001b[39;49m\u001b[38;5;241;43m.\u001b[39;49m\u001b[43mverbose\u001b[49m\u001b[43m,\u001b[49m\n\u001b[0;32m    470\u001b[0m \u001b[43m        \u001b[49m\u001b[43mclass_weight\u001b[49m\u001b[38;5;241;43m=\u001b[39;49m\u001b[38;5;28;43mself\u001b[39;49m\u001b[38;5;241;43m.\u001b[39;49m\u001b[43mclass_weight\u001b[49m\u001b[43m,\u001b[49m\n\u001b[0;32m    471\u001b[0m \u001b[43m        \u001b[49m\u001b[43mn_samples_bootstrap\u001b[49m\u001b[38;5;241;43m=\u001b[39;49m\u001b[43mn_samples_bootstrap\u001b[49m\u001b[43m,\u001b[49m\n\u001b[0;32m    472\u001b[0m \u001b[43m    \u001b[49m\u001b[43m)\u001b[49m\n\u001b[0;32m    473\u001b[0m \u001b[43m    \u001b[49m\u001b[38;5;28;43;01mfor\u001b[39;49;00m\u001b[43m \u001b[49m\u001b[43mi\u001b[49m\u001b[43m,\u001b[49m\u001b[43m \u001b[49m\u001b[43mt\u001b[49m\u001b[43m \u001b[49m\u001b[38;5;129;43;01min\u001b[39;49;00m\u001b[43m \u001b[49m\u001b[38;5;28;43menumerate\u001b[39;49m\u001b[43m(\u001b[49m\u001b[43mtrees\u001b[49m\u001b[43m)\u001b[49m\n\u001b[0;32m    474\u001b[0m \u001b[43m\u001b[49m\u001b[43m)\u001b[49m\n\u001b[0;32m    476\u001b[0m \u001b[38;5;66;03m# Collect newly grown trees\u001b[39;00m\n\u001b[0;32m    477\u001b[0m \u001b[38;5;28mself\u001b[39m\u001b[38;5;241m.\u001b[39mestimators_\u001b[38;5;241m.\u001b[39mextend(trees)\n",
      "File \u001b[1;32mc:\\venv\\ilumpy\\Lib\\site-packages\\sklearn\\utils\\parallel.py:65\u001b[0m, in \u001b[0;36mParallel.__call__\u001b[1;34m(self, iterable)\u001b[0m\n\u001b[0;32m     60\u001b[0m config \u001b[38;5;241m=\u001b[39m get_config()\n\u001b[0;32m     61\u001b[0m iterable_with_config \u001b[38;5;241m=\u001b[39m (\n\u001b[0;32m     62\u001b[0m     (_with_config(delayed_func, config), args, kwargs)\n\u001b[0;32m     63\u001b[0m     \u001b[38;5;28;01mfor\u001b[39;00m delayed_func, args, kwargs \u001b[38;5;129;01min\u001b[39;00m iterable\n\u001b[0;32m     64\u001b[0m )\n\u001b[1;32m---> 65\u001b[0m \u001b[38;5;28;01mreturn\u001b[39;00m \u001b[38;5;28;43msuper\u001b[39;49m\u001b[43m(\u001b[49m\u001b[43m)\u001b[49m\u001b[38;5;241;43m.\u001b[39;49m\u001b[38;5;21;43m__call__\u001b[39;49m\u001b[43m(\u001b[49m\u001b[43miterable_with_config\u001b[49m\u001b[43m)\u001b[49m\n",
      "File \u001b[1;32mc:\\venv\\ilumpy\\Lib\\site-packages\\joblib\\parallel.py:1952\u001b[0m, in \u001b[0;36mParallel.__call__\u001b[1;34m(self, iterable)\u001b[0m\n\u001b[0;32m   1946\u001b[0m \u001b[38;5;66;03m# The first item from the output is blank, but it makes the interpreter\u001b[39;00m\n\u001b[0;32m   1947\u001b[0m \u001b[38;5;66;03m# progress until it enters the Try/Except block of the generator and\u001b[39;00m\n\u001b[0;32m   1948\u001b[0m \u001b[38;5;66;03m# reach the first `yield` statement. This starts the aynchronous\u001b[39;00m\n\u001b[0;32m   1949\u001b[0m \u001b[38;5;66;03m# dispatch of the tasks to the workers.\u001b[39;00m\n\u001b[0;32m   1950\u001b[0m \u001b[38;5;28mnext\u001b[39m(output)\n\u001b[1;32m-> 1952\u001b[0m \u001b[38;5;28;01mreturn\u001b[39;00m output \u001b[38;5;28;01mif\u001b[39;00m \u001b[38;5;28mself\u001b[39m\u001b[38;5;241m.\u001b[39mreturn_generator \u001b[38;5;28;01melse\u001b[39;00m \u001b[38;5;28mlist\u001b[39m(output)\n",
      "File \u001b[1;32mc:\\venv\\ilumpy\\Lib\\site-packages\\joblib\\parallel.py:1595\u001b[0m, in \u001b[0;36mParallel._get_outputs\u001b[1;34m(self, iterator, pre_dispatch)\u001b[0m\n\u001b[0;32m   1592\u001b[0m     \u001b[38;5;28;01myield\u001b[39;00m\n\u001b[0;32m   1594\u001b[0m     \u001b[38;5;28;01mwith\u001b[39;00m \u001b[38;5;28mself\u001b[39m\u001b[38;5;241m.\u001b[39m_backend\u001b[38;5;241m.\u001b[39mretrieval_context():\n\u001b[1;32m-> 1595\u001b[0m         \u001b[38;5;28;01myield from\u001b[39;00m \u001b[38;5;28mself\u001b[39m\u001b[38;5;241m.\u001b[39m_retrieve()\n\u001b[0;32m   1597\u001b[0m \u001b[38;5;28;01mexcept\u001b[39;00m \u001b[38;5;167;01mGeneratorExit\u001b[39;00m:\n\u001b[0;32m   1598\u001b[0m     \u001b[38;5;66;03m# The generator has been garbage collected before being fully\u001b[39;00m\n\u001b[0;32m   1599\u001b[0m     \u001b[38;5;66;03m# consumed. This aborts the remaining tasks if possible and warn\u001b[39;00m\n\u001b[0;32m   1600\u001b[0m     \u001b[38;5;66;03m# the user if necessary.\u001b[39;00m\n\u001b[0;32m   1601\u001b[0m     \u001b[38;5;28mself\u001b[39m\u001b[38;5;241m.\u001b[39m_exception \u001b[38;5;241m=\u001b[39m \u001b[38;5;28;01mTrue\u001b[39;00m\n",
      "File \u001b[1;32mc:\\venv\\ilumpy\\Lib\\site-packages\\joblib\\parallel.py:1707\u001b[0m, in \u001b[0;36mParallel._retrieve\u001b[1;34m(self)\u001b[0m\n\u001b[0;32m   1702\u001b[0m \u001b[38;5;66;03m# If the next job is not ready for retrieval yet, we just wait for\u001b[39;00m\n\u001b[0;32m   1703\u001b[0m \u001b[38;5;66;03m# async callbacks to progress.\u001b[39;00m\n\u001b[0;32m   1704\u001b[0m \u001b[38;5;28;01mif\u001b[39;00m ((\u001b[38;5;28mlen\u001b[39m(\u001b[38;5;28mself\u001b[39m\u001b[38;5;241m.\u001b[39m_jobs) \u001b[38;5;241m==\u001b[39m \u001b[38;5;241m0\u001b[39m) \u001b[38;5;129;01mor\u001b[39;00m\n\u001b[0;32m   1705\u001b[0m     (\u001b[38;5;28mself\u001b[39m\u001b[38;5;241m.\u001b[39m_jobs[\u001b[38;5;241m0\u001b[39m]\u001b[38;5;241m.\u001b[39mget_status(\n\u001b[0;32m   1706\u001b[0m         timeout\u001b[38;5;241m=\u001b[39m\u001b[38;5;28mself\u001b[39m\u001b[38;5;241m.\u001b[39mtimeout) \u001b[38;5;241m==\u001b[39m TASK_PENDING)):\n\u001b[1;32m-> 1707\u001b[0m     time\u001b[38;5;241m.\u001b[39msleep(\u001b[38;5;241m0.01\u001b[39m)\n\u001b[0;32m   1708\u001b[0m     \u001b[38;5;28;01mcontinue\u001b[39;00m\n\u001b[0;32m   1710\u001b[0m \u001b[38;5;66;03m# We need to be careful: the job list can be filling up as\u001b[39;00m\n\u001b[0;32m   1711\u001b[0m \u001b[38;5;66;03m# we empty it and Python list are not thread-safe by\u001b[39;00m\n\u001b[0;32m   1712\u001b[0m \u001b[38;5;66;03m# default hence the use of the lock\u001b[39;00m\n",
      "\u001b[1;31mKeyboardInterrupt\u001b[0m: "
     ]
    }
   ],
   "source": [
    "NUM_TENTATIVAS = 200\n",
    "\n",
    "objeto_de_estudo.optimize(funcao_objetivo_parcial, n_trials=NUM_TENTATIVAS)"
   ]
  },
  {
   "cell_type": "code",
   "execution_count": 22,
   "id": "f9f29e43-3e0b-4941-93c0-e924d6ac70aa",
   "metadata": {},
   "outputs": [
    {
     "name": "stdout",
     "output_type": "stream",
     "text": [
      "Número do melhor trial: 653\n",
      "Parâmetros do melhor trial: {'num_arvores': 448, 'critério': 'squared_error', 'min_exemplos_split': 29, 'min_exemplos_folha': 3, 'num_max_atributos': 0.12798723010757682}\n"
     ]
    }
   ],
   "source": [
    "melhor_trial = objeto_de_estudo.best_trial\n",
    "\n",
    "print(f\"Número do melhor trial: {melhor_trial.number}\")\n",
    "print(f\"Parâmetros do melhor trial: {melhor_trial.params}\")"
   ]
  },
  {
   "cell_type": "markdown",
   "id": "c0efbebf-551f-4498-981c-ba938db57029",
   "metadata": {},
   "source": [
    "### Estimando a performance do modelo floresta aleatória"
   ]
  },
  {
   "cell_type": "markdown",
   "id": "1e845fc6-a9e3-4240-b3b9-ff0685017c8d",
   "metadata": {},
   "source": [
    "<p style=\"text-align:justify;\"> Nessa etapa, com os atributos que evitam multicolinearidade selecionados e os melhores hiperparâmentros encontrados pelo optuna, é momento de gerar o melhor modelo encontrado por esse conjunto de algorítmos. Para obter um bom estimador de performance do modelo, irá usar validação cruzada $k$​-fold."
   ]
  },
  {
   "cell_type": "code",
   "execution_count": 23,
   "id": "abea73a5-114d-4254-a5fe-40b11bb33f2c",
   "metadata": {},
   "outputs": [
    {
     "name": "stdout",
     "output_type": "stream",
     "text": [
      "13.211070024807215\n"
     ]
    }
   ],
   "source": [
    "from sklearn.metrics import mean_squared_error\n",
    "\n",
    "modelo = cria_instancia_modelo(melhor_trial)\n",
    "modelo.fit(X_treino, y_treino)\n",
    "\n",
    "y_verdadeiro = y_teste\n",
    "y_previsao = modelo.predict(X_teste)\n",
    "\n",
    "RMSE = mean_squared_error(y_verdadeiro, y_previsao) ** (1/2)\n",
    "\n",
    "print(RMSE)"
   ]
  },
  {
   "cell_type": "code",
   "execution_count": 24,
   "id": "d9dfc73a-dcf7-4d8f-8ab3-3bb890db234d",
   "metadata": {},
   "outputs": [
    {
     "data": {
      "text/html": [
       "<div>\n",
       "<style scoped>\n",
       "    .dataframe tbody tr th:only-of-type {\n",
       "        vertical-align: middle;\n",
       "    }\n",
       "\n",
       "    .dataframe tbody tr th {\n",
       "        vertical-align: top;\n",
       "    }\n",
       "\n",
       "    .dataframe thead th {\n",
       "        text-align: right;\n",
       "    }\n",
       "</style>\n",
       "<table border=\"1\" class=\"dataframe\">\n",
       "  <thead>\n",
       "    <tr style=\"text-align: right;\">\n",
       "      <th></th>\n",
       "      <th>number</th>\n",
       "      <th>value</th>\n",
       "      <th>datetime_start</th>\n",
       "      <th>datetime_complete</th>\n",
       "      <th>duration</th>\n",
       "      <th>params_critério</th>\n",
       "      <th>params_min_exemplos_folha</th>\n",
       "      <th>params_min_exemplos_split</th>\n",
       "      <th>params_num_arvores</th>\n",
       "      <th>params_num_max_atributos</th>\n",
       "      <th>params_produndidade</th>\n",
       "      <th>params_profundidade</th>\n",
       "      <th>state</th>\n",
       "    </tr>\n",
       "  </thead>\n",
       "  <tbody>\n",
       "    <tr>\n",
       "      <th>0</th>\n",
       "      <td>0</td>\n",
       "      <td>NaN</td>\n",
       "      <td>2024-10-27 12:59:18.115507</td>\n",
       "      <td>2024-10-27 12:59:18.326924</td>\n",
       "      <td>0 days 00:00:00.211417</td>\n",
       "      <td>friedman_mse</td>\n",
       "      <td>15</td>\n",
       "      <td>15</td>\n",
       "      <td>23</td>\n",
       "      <td>3.932497</td>\n",
       "      <td>NaN</td>\n",
       "      <td>NaN</td>\n",
       "      <td>FAIL</td>\n",
       "    </tr>\n",
       "    <tr>\n",
       "      <th>1</th>\n",
       "      <td>1</td>\n",
       "      <td>NaN</td>\n",
       "      <td>2024-10-27 13:03:40.194593</td>\n",
       "      <td>2024-10-27 13:03:40.368583</td>\n",
       "      <td>0 days 00:00:00.173990</td>\n",
       "      <td>squared_error</td>\n",
       "      <td>9</td>\n",
       "      <td>2</td>\n",
       "      <td>9</td>\n",
       "      <td>4.775030</td>\n",
       "      <td>NaN</td>\n",
       "      <td>NaN</td>\n",
       "      <td>FAIL</td>\n",
       "    </tr>\n",
       "    <tr>\n",
       "      <th>2</th>\n",
       "      <td>2</td>\n",
       "      <td>12.377664</td>\n",
       "      <td>2024-10-27 13:06:21.705643</td>\n",
       "      <td>2024-10-27 13:06:29.225864</td>\n",
       "      <td>0 days 00:00:07.520221</td>\n",
       "      <td>squared_error</td>\n",
       "      <td>1</td>\n",
       "      <td>5</td>\n",
       "      <td>79</td>\n",
       "      <td>0.532732</td>\n",
       "      <td>NaN</td>\n",
       "      <td>NaN</td>\n",
       "      <td>COMPLETE</td>\n",
       "    </tr>\n",
       "    <tr>\n",
       "      <th>3</th>\n",
       "      <td>3</td>\n",
       "      <td>12.114541</td>\n",
       "      <td>2024-10-27 13:06:29.307954</td>\n",
       "      <td>2024-10-27 13:06:32.920292</td>\n",
       "      <td>0 days 00:00:03.612338</td>\n",
       "      <td>squared_error</td>\n",
       "      <td>4</td>\n",
       "      <td>19</td>\n",
       "      <td>80</td>\n",
       "      <td>0.312661</td>\n",
       "      <td>NaN</td>\n",
       "      <td>NaN</td>\n",
       "      <td>COMPLETE</td>\n",
       "    </tr>\n",
       "    <tr>\n",
       "      <th>4</th>\n",
       "      <td>4</td>\n",
       "      <td>12.356317</td>\n",
       "      <td>2024-10-27 13:06:32.983262</td>\n",
       "      <td>2024-10-27 13:06:39.682987</td>\n",
       "      <td>0 days 00:00:06.699725</td>\n",
       "      <td>squared_error</td>\n",
       "      <td>1</td>\n",
       "      <td>2</td>\n",
       "      <td>84</td>\n",
       "      <td>0.249538</td>\n",
       "      <td>NaN</td>\n",
       "      <td>NaN</td>\n",
       "      <td>COMPLETE</td>\n",
       "    </tr>\n",
       "    <tr>\n",
       "      <th>...</th>\n",
       "      <td>...</td>\n",
       "      <td>...</td>\n",
       "      <td>...</td>\n",
       "      <td>...</td>\n",
       "      <td>...</td>\n",
       "      <td>...</td>\n",
       "      <td>...</td>\n",
       "      <td>...</td>\n",
       "      <td>...</td>\n",
       "      <td>...</td>\n",
       "      <td>...</td>\n",
       "      <td>...</td>\n",
       "      <td>...</td>\n",
       "    </tr>\n",
       "    <tr>\n",
       "      <th>929</th>\n",
       "      <td>929</td>\n",
       "      <td>12.025878</td>\n",
       "      <td>2024-11-16 16:24:07.331212</td>\n",
       "      <td>2024-11-16 16:26:08.369101</td>\n",
       "      <td>0 days 00:02:01.037889</td>\n",
       "      <td>squared_error</td>\n",
       "      <td>2</td>\n",
       "      <td>29</td>\n",
       "      <td>410</td>\n",
       "      <td>0.662329</td>\n",
       "      <td>NaN</td>\n",
       "      <td>NaN</td>\n",
       "      <td>COMPLETE</td>\n",
       "    </tr>\n",
       "    <tr>\n",
       "      <th>930</th>\n",
       "      <td>930</td>\n",
       "      <td>12.034336</td>\n",
       "      <td>2024-11-16 16:26:08.446216</td>\n",
       "      <td>2024-11-16 16:29:08.664242</td>\n",
       "      <td>0 days 00:03:00.218026</td>\n",
       "      <td>squared_error</td>\n",
       "      <td>2</td>\n",
       "      <td>33</td>\n",
       "      <td>432</td>\n",
       "      <td>0.926916</td>\n",
       "      <td>NaN</td>\n",
       "      <td>NaN</td>\n",
       "      <td>COMPLETE</td>\n",
       "    </tr>\n",
       "    <tr>\n",
       "      <th>931</th>\n",
       "      <td>931</td>\n",
       "      <td>NaN</td>\n",
       "      <td>2024-11-16 16:58:13.160479</td>\n",
       "      <td>2024-11-16 16:58:31.798754</td>\n",
       "      <td>0 days 00:00:18.638275</td>\n",
       "      <td>squared_error</td>\n",
       "      <td>3</td>\n",
       "      <td>27</td>\n",
       "      <td>421</td>\n",
       "      <td>0.506182</td>\n",
       "      <td>NaN</td>\n",
       "      <td>NaN</td>\n",
       "      <td>FAIL</td>\n",
       "    </tr>\n",
       "    <tr>\n",
       "      <th>932</th>\n",
       "      <td>932</td>\n",
       "      <td>11.965496</td>\n",
       "      <td>2024-11-16 17:14:18.727548</td>\n",
       "      <td>2024-11-16 17:15:41.617169</td>\n",
       "      <td>0 days 00:01:22.889621</td>\n",
       "      <td>squared_error</td>\n",
       "      <td>3</td>\n",
       "      <td>27</td>\n",
       "      <td>420</td>\n",
       "      <td>0.061848</td>\n",
       "      <td>NaN</td>\n",
       "      <td>NaN</td>\n",
       "      <td>COMPLETE</td>\n",
       "    </tr>\n",
       "    <tr>\n",
       "      <th>933</th>\n",
       "      <td>933</td>\n",
       "      <td>NaN</td>\n",
       "      <td>2024-11-16 17:15:41.683390</td>\n",
       "      <td>2024-11-16 17:15:55.424885</td>\n",
       "      <td>0 days 00:00:13.741495</td>\n",
       "      <td>squared_error</td>\n",
       "      <td>1</td>\n",
       "      <td>30</td>\n",
       "      <td>446</td>\n",
       "      <td>0.147287</td>\n",
       "      <td>NaN</td>\n",
       "      <td>NaN</td>\n",
       "      <td>FAIL</td>\n",
       "    </tr>\n",
       "  </tbody>\n",
       "</table>\n",
       "<p>934 rows × 13 columns</p>\n",
       "</div>"
      ],
      "text/plain": [
       "     number      value             datetime_start          datetime_complete  \\\n",
       "0         0        NaN 2024-10-27 12:59:18.115507 2024-10-27 12:59:18.326924   \n",
       "1         1        NaN 2024-10-27 13:03:40.194593 2024-10-27 13:03:40.368583   \n",
       "2         2  12.377664 2024-10-27 13:06:21.705643 2024-10-27 13:06:29.225864   \n",
       "3         3  12.114541 2024-10-27 13:06:29.307954 2024-10-27 13:06:32.920292   \n",
       "4         4  12.356317 2024-10-27 13:06:32.983262 2024-10-27 13:06:39.682987   \n",
       "..      ...        ...                        ...                        ...   \n",
       "929     929  12.025878 2024-11-16 16:24:07.331212 2024-11-16 16:26:08.369101   \n",
       "930     930  12.034336 2024-11-16 16:26:08.446216 2024-11-16 16:29:08.664242   \n",
       "931     931        NaN 2024-11-16 16:58:13.160479 2024-11-16 16:58:31.798754   \n",
       "932     932  11.965496 2024-11-16 17:14:18.727548 2024-11-16 17:15:41.617169   \n",
       "933     933        NaN 2024-11-16 17:15:41.683390 2024-11-16 17:15:55.424885   \n",
       "\n",
       "                  duration params_critério  params_min_exemplos_folha  \\\n",
       "0   0 days 00:00:00.211417    friedman_mse                         15   \n",
       "1   0 days 00:00:00.173990   squared_error                          9   \n",
       "2   0 days 00:00:07.520221   squared_error                          1   \n",
       "3   0 days 00:00:03.612338   squared_error                          4   \n",
       "4   0 days 00:00:06.699725   squared_error                          1   \n",
       "..                     ...             ...                        ...   \n",
       "929 0 days 00:02:01.037889   squared_error                          2   \n",
       "930 0 days 00:03:00.218026   squared_error                          2   \n",
       "931 0 days 00:00:18.638275   squared_error                          3   \n",
       "932 0 days 00:01:22.889621   squared_error                          3   \n",
       "933 0 days 00:00:13.741495   squared_error                          1   \n",
       "\n",
       "     params_min_exemplos_split  params_num_arvores  params_num_max_atributos  \\\n",
       "0                           15                  23                  3.932497   \n",
       "1                            2                   9                  4.775030   \n",
       "2                            5                  79                  0.532732   \n",
       "3                           19                  80                  0.312661   \n",
       "4                            2                  84                  0.249538   \n",
       "..                         ...                 ...                       ...   \n",
       "929                         29                 410                  0.662329   \n",
       "930                         33                 432                  0.926916   \n",
       "931                         27                 421                  0.506182   \n",
       "932                         27                 420                  0.061848   \n",
       "933                         30                 446                  0.147287   \n",
       "\n",
       "     params_produndidade  params_profundidade     state  \n",
       "0                    NaN                  NaN      FAIL  \n",
       "1                    NaN                  NaN      FAIL  \n",
       "2                    NaN                  NaN  COMPLETE  \n",
       "3                    NaN                  NaN  COMPLETE  \n",
       "4                    NaN                  NaN  COMPLETE  \n",
       "..                   ...                  ...       ...  \n",
       "929                  NaN                  NaN  COMPLETE  \n",
       "930                  NaN                  NaN  COMPLETE  \n",
       "931                  NaN                  NaN      FAIL  \n",
       "932                  NaN                  NaN  COMPLETE  \n",
       "933                  NaN                  NaN      FAIL  \n",
       "\n",
       "[934 rows x 13 columns]"
      ]
     },
     "execution_count": 24,
     "metadata": {},
     "output_type": "execute_result"
    }
   ],
   "source": [
    "from optuna import load_study\n",
    "\n",
    "objeto_de_estudo_carregado = load_study(\n",
    "    study_name=NOME_DO_ESTUDO,\n",
    "    storage=f\"sqlite:///{NOME_DO_ESTUDO}.db\",\n",
    ")\n",
    "\n",
    "df = objeto_de_estudo_carregado.trials_dataframe()\n",
    "\n",
    "df"
   ]
  },
  {
   "cell_type": "code",
   "execution_count": 25,
   "id": "2ee6424a-95c2-4478-97d1-77acf64d4cbd",
   "metadata": {},
   "outputs": [
    {
     "name": "stdout",
     "output_type": "stream",
     "text": [
      "As métricas foram: [-13.00532405 -15.90673954 -11.26655255 -13.53130411 -13.76392681\n",
      " -16.79243571 -13.43994276 -14.47297618 -15.09044338 -15.35012649\n",
      " -14.35886976 -17.08862334 -15.21866152 -14.2293897  -14.31394589\n",
      " -13.39369785 -15.79146112 -11.91858916 -14.6411019  -13.10999527\n",
      " -10.46818888 -13.70407045 -10.77050101 -11.86314094  -9.87605856\n",
      "  -9.4891744  -10.15926946 -10.12671749  -8.04014584  -8.29744475\n",
      "  -7.9428839   -8.45585984  -7.02848526  -6.89751277  -9.31405929\n",
      "  -9.45737504  -9.00331152  -7.94237044  -9.74484099  -8.13217421]\n",
      "\n",
      "A média das métricas é de: 11.834942302997723\n"
     ]
    }
   ],
   "source": [
    "from sklearn.model_selection import cross_val_score\n",
    "\n",
    "NUM_FOLDS = 40\n",
    "SEMENTE_ALEATORIA = 20404\n",
    "modelo_ad = cria_instancia_modelo(melhor_trial)\n",
    "\n",
    "metricas = cross_val_score(\n",
    "    modelo_ad,    #instância\n",
    "    X,            #dados de atributos\n",
    "    y,            #dados de target\n",
    "    cv=NUM_FOLDS, #número de folds\n",
    "    scoring=\"neg_root_mean_squared_error\", #quanto maior, melhor pelo scikit\n",
    ")\n",
    "\n",
    "print(\"As métricas foram:\", metricas)\n",
    "print()\n",
    "print(\"A média das métricas é de:\", np.abs(metricas.mean()))"
   ]
  },
  {
   "cell_type": "markdown",
   "id": "dbe8676d-d7d7-47c1-93b0-57631f0b68dc",
   "metadata": {},
   "source": [
    "## Otimizando hiperparâmetros com o optuna para o regressor KNN\n",
    "\n",
    "<p style=\"text-align:justify;\"> Nessa momento, irá realizar as mesmas operações passadas, contudo o estudo será dedicado para o modelo KNN. Se esse apresentar um RMSE menor que o regressor de floresta aleatória, será esse o modelo escolhido para realizar a predição de sobrevida de um paciente predito como não curado pelo <strong>modelo classificador</strong>.\n",
    "\n"
   ]
  },
  {
   "cell_type": "code",
   "execution_count": 55,
   "id": "20e10b06-6743-41e8-bca5-85e277ad4c0f",
   "metadata": {},
   "outputs": [],
   "source": [
    "df = pd.read_csv(\"msk_met_2021_clinical_data (1).tsv\", sep = \"\\t\")\n",
    "\n",
    "df['Curado'] = pd.NA\n",
    "df ['Sobrevivencia (Meses)'] = pd.NA\n",
    "\n",
    "for i, meses in enumerate(df['Overall Survival (Months)']):\n",
    "    \n",
    "    if meses >= 60:\n",
    "        df.loc [i, 'Curado'] = 1\n",
    "        \n",
    "    else:\n",
    "        if df.loc [i, 'Overall Survival Status'] == '1:DECEASED':\n",
    "            df.loc [i, 'Curado'] = 0\n",
    "            df.loc [i, 'Sobrevivencia (Meses)'] = meses\n",
    "\n",
    "df = df.reindex(ATRIBUTOS + TARGET, axis=1)\n",
    "df = df.dropna()\n",
    "df = df.convert_dtypes()"
   ]
  },
  {
   "cell_type": "markdown",
   "id": "7f5b4621-f271-4b5b-a078-b27e3e63b767",
   "metadata": {},
   "source": [
    "#### Separando dados de treino e teste"
   ]
  },
  {
   "cell_type": "code",
   "execution_count": 45,
   "id": "91e5a746-ce4d-4d48-b57f-d81d31cf7cee",
   "metadata": {},
   "outputs": [],
   "source": [
    "from sklearn.model_selection import train_test_split\n",
    "\n",
    "TAMANHO_TESTE = 0.1\n",
    "SEMENTE_ALEATORIA = 61455\n",
    "\n",
    "indices = df.index\n",
    "indices_treino, indices_teste = train_test_split(\n",
    "    indices, test_size=TAMANHO_TESTE, random_state=SEMENTE_ALEATORIA\n",
    ")\n",
    "\n",
    "df_treino = df.loc[indices_treino]\n",
    "df_teste = df.loc[indices_teste]\n",
    "\n",
    "X_treino = df_treino.reindex(ATRIBUTOS, axis=1).values\n",
    "y_treino = df_treino.reindex(TARGET, axis=1).values.ravel()\n",
    "\n",
    "X_teste = df_teste.reindex(ATRIBUTOS, axis=1).values\n",
    "y_teste = df_teste.reindex(TARGET, axis=1).values.ravel()\n",
    "\n",
    "X = df.reindex(ATRIBUTOS, axis=1).values\n",
    "y = df.reindex(TARGET, axis=1).values.ravel()"
   ]
  },
  {
   "cell_type": "markdown",
   "id": "b76e4cfe-470d-4fe6-a200-83041db98526",
   "metadata": {},
   "source": [
    "#### Normalizando os atributos de treino\n",
    "\n",
    "<p style=\"text-align:justify;\"> Normalizar os dados para serem treinados é uma característica do modelo KNN, então, nesse ponto, ele diferencia de como foi treinado o modelo anterior. Os dados tiveram uma normalização padrão."
   ]
  },
  {
   "cell_type": "code",
   "execution_count": 46,
   "id": "d9d373a3-4a54-405f-991f-8e9d4783035e",
   "metadata": {},
   "outputs": [],
   "source": [
    "from sklearn.preprocessing import StandardScaler\n",
    "normalizador = StandardScaler()\n",
    "normalizador.fit(X_treino)\n",
    "X_norm = normalizador.transform(X_treino)"
   ]
  },
  {
   "cell_type": "markdown",
   "id": "525fec05-285b-4eb5-9a4b-a03eccf8c76c",
   "metadata": {},
   "source": [
    "#### Criando as função de instaciar o modelo"
   ]
  },
  {
   "cell_type": "code",
   "execution_count": 47,
   "id": "629ab4d9-f9c1-4f29-9370-042232d40287",
   "metadata": {},
   "outputs": [],
   "source": [
    "from sklearn.neighbors import KNeighborsRegressor\n",
    "from sklearn.model_selection import cross_val_score\n",
    "\n",
    "def cria_instancia_modelo(trial):\n",
    "    \"\"\"Cria uma instância do modelo.\n",
    "\n",
    "    Args:\n",
    "      trial: objeto tipo Trial do optuna.\n",
    "\n",
    "    Returns:\n",
    "      Uma instância do modelo desejado.\n",
    "\n",
    "    \"\"\"\n",
    "    parametros = {\n",
    "        \"n_neighbors\": trial.suggest_int(\"vizinhos\", 4, 20),\n",
    "        \"weights\": trial.suggest_categorical(\n",
    "            \"pesos\", [\"uniform\", \"distance\"]\n",
    "        ),\n",
    "        \"p\": trial.suggest_float(\n",
    "            \"parametro_potencia\", 2, 10, log=True\n",
    "        )\n",
    "    }\n",
    "\n",
    "    model = KNeighborsRegressor(**parametros)\n",
    "\n",
    "    return model"
   ]
  },
  {
   "cell_type": "markdown",
   "id": "3fa96bce-1206-4c4a-9a7b-da23d30cbaef",
   "metadata": {},
   "source": [
    "#### Criando a função objetivo"
   ]
  },
  {
   "cell_type": "code",
   "execution_count": 49,
   "id": "b76f430d-93d3-4ddb-a372-b4b7869663bb",
   "metadata": {},
   "outputs": [],
   "source": [
    "from sklearn.model_selection import cross_val_score\n",
    "\n",
    "def funcao_objetivo(trial, X, y, num_folds):\n",
    "    \"\"\"Função objetivo do optuna\n",
    "\n",
    "    Referencia:\n",
    "      https://medium.com/@walter_sperat/ using-optuna-with-sklearn-the-right-way-part-1-6b4ad0ab2451\n",
    "\n",
    "    \"\"\"\n",
    "    modelo = cria_instancia_modelo(trial)\n",
    "\n",
    "    metricas = cross_val_score(\n",
    "        modelo,\n",
    "        X,\n",
    "        y,\n",
    "        scoring=\"neg_root_mean_squared_error\",\n",
    "        cv=num_folds,\n",
    "    )\n",
    "\n",
    "    return -metricas.mean()"
   ]
  },
  {
   "cell_type": "markdown",
   "id": "cab395e2-bfb9-499b-bbfa-4f654f3c0fb6",
   "metadata": {},
   "source": [
    "#### Criando o documento que irá salvar o estudo acrecar dos melhores hiperparâmetros para o KNN"
   ]
  },
  {
   "cell_type": "code",
   "execution_count": 50,
   "id": "41749b71-06ed-4ef7-94ea-bf25e31f9d18",
   "metadata": {},
   "outputs": [
    {
     "name": "stderr",
     "output_type": "stream",
     "text": [
      "[I 2024-11-16 17:34:01,200] Using an existing study with name 'KNN_comparativo' instead of creating a new one.\n"
     ]
    }
   ],
   "source": [
    "from optuna import create_study\n",
    "\n",
    "NOME_DO_ESTUDO = \"KNN_comparativo\"\n",
    "\n",
    "objeto_de_estudo = create_study(\n",
    "    direction=\"minimize\",\n",
    "    study_name=NOME_DO_ESTUDO,\n",
    "    storage=f\"sqlite:///{NOME_DO_ESTUDO}.db\",\n",
    "    load_if_exists=True,\n",
    ")"
   ]
  },
  {
   "cell_type": "markdown",
   "id": "e6e37e2d-54c6-4f24-a385-a89b2f08f55c",
   "metadata": {},
   "source": [
    "#### Função objetivo parcial"
   ]
  },
  {
   "cell_type": "code",
   "execution_count": 51,
   "id": "864c375b-07c8-4414-8cd2-22dfcb1b9e59",
   "metadata": {},
   "outputs": [],
   "source": [
    "NUM_FOLDS = 50\n",
    "\n",
    "def funcao_objetivo_parcial(trial):\n",
    "    return funcao_objetivo(trial, X_treino, y_treino, NUM_FOLDS)"
   ]
  },
  {
   "cell_type": "markdown",
   "id": "1ca2db1c-98a6-41a7-b131-44e89b850fb1",
   "metadata": {},
   "source": [
    "#### Otimizando com o optuna"
   ]
  },
  {
   "cell_type": "code",
   "execution_count": 52,
   "id": "4f368699-0c12-4343-94ac-3985a026e158",
   "metadata": {},
   "outputs": [
    {
     "name": "stderr",
     "output_type": "stream",
     "text": [
      "[I 2024-11-16 17:34:22,339] Trial 453 finished with value: 12.028049218643599 and parameters: {'vizinhos': 20, 'pesos': 'uniform', 'parametro_potencia': 6.5269236364509045}. Best is trial 453 with value: 12.028049218643599.\n",
      "[I 2024-11-16 17:34:24,155] Trial 454 finished with value: 12.01894168954165 and parameters: {'vizinhos': 20, 'pesos': 'uniform', 'parametro_potencia': 4.718217739207915}. Best is trial 454 with value: 12.01894168954165.\n",
      "[I 2024-11-16 17:34:25,802] Trial 455 finished with value: 12.024990130205563 and parameters: {'vizinhos': 20, 'pesos': 'uniform', 'parametro_potencia': 5.888969157264352}. Best is trial 454 with value: 12.01894168954165.\n",
      "[I 2024-11-16 17:34:27,756] Trial 456 finished with value: 12.026849064702798 and parameters: {'vizinhos': 20, 'pesos': 'uniform', 'parametro_potencia': 8.509029170702934}. Best is trial 454 with value: 12.01894168954165.\n",
      "[I 2024-11-16 17:34:29,677] Trial 457 finished with value: 12.247202806579041 and parameters: {'vizinhos': 11, 'pesos': 'uniform', 'parametro_potencia': 6.820658179590699}. Best is trial 454 with value: 12.01894168954165.\n",
      "[I 2024-11-16 17:34:31,482] Trial 458 finished with value: 12.045626760965158 and parameters: {'vizinhos': 19, 'pesos': 'uniform', 'parametro_potencia': 7.111413203421318}. Best is trial 454 with value: 12.01894168954165.\n",
      "[I 2024-11-16 17:34:33,391] Trial 459 finished with value: 12.057038432854018 and parameters: {'vizinhos': 18, 'pesos': 'uniform', 'parametro_potencia': 7.887316710676862}. Best is trial 454 with value: 12.01894168954165.\n",
      "[I 2024-11-16 17:34:35,267] Trial 460 finished with value: 12.058274274086823 and parameters: {'vizinhos': 18, 'pesos': 'uniform', 'parametro_potencia': 7.7760776664166285}. Best is trial 454 with value: 12.01894168954165.\n",
      "[I 2024-11-16 17:34:36,995] Trial 461 finished with value: 12.062319987408118 and parameters: {'vizinhos': 18, 'pesos': 'uniform', 'parametro_potencia': 6.675341134897209}. Best is trial 454 with value: 12.01894168954165.\n",
      "[I 2024-11-16 17:34:38,644] Trial 462 finished with value: 12.056763085789692 and parameters: {'vizinhos': 18, 'pesos': 'uniform', 'parametro_potencia': 7.017063783801215}. Best is trial 454 with value: 12.01894168954165.\n",
      "[I 2024-11-16 17:34:40,307] Trial 463 finished with value: 12.064835793932204 and parameters: {'vizinhos': 17, 'pesos': 'uniform', 'parametro_potencia': 6.545483390828175}. Best is trial 454 with value: 12.01894168954165.\n",
      "[I 2024-11-16 17:34:42,205] Trial 464 finished with value: 12.064338819098381 and parameters: {'vizinhos': 17, 'pesos': 'uniform', 'parametro_potencia': 6.660480895638941}. Best is trial 454 with value: 12.01894168954165.\n",
      "[I 2024-11-16 17:34:43,973] Trial 465 finished with value: 12.061063080466583 and parameters: {'vizinhos': 18, 'pesos': 'uniform', 'parametro_potencia': 6.438111500660132}. Best is trial 454 with value: 12.01894168954165.\n",
      "[I 2024-11-16 17:34:45,737] Trial 466 finished with value: 12.065627357292428 and parameters: {'vizinhos': 17, 'pesos': 'uniform', 'parametro_potencia': 6.5714607212668765}. Best is trial 454 with value: 12.01894168954165.\n",
      "[I 2024-11-16 17:34:47,591] Trial 467 finished with value: 12.062186472061738 and parameters: {'vizinhos': 18, 'pesos': 'uniform', 'parametro_potencia': 6.658999870563802}. Best is trial 454 with value: 12.01894168954165.\n",
      "[I 2024-11-16 17:34:49,384] Trial 468 finished with value: 12.063526070734024 and parameters: {'vizinhos': 17, 'pesos': 'uniform', 'parametro_potencia': 6.613110922223141}. Best is trial 454 with value: 12.01894168954165.\n",
      "[I 2024-11-16 17:34:51,232] Trial 469 finished with value: 12.062079329357314 and parameters: {'vizinhos': 18, 'pesos': 'uniform', 'parametro_potencia': 6.57076319749543}. Best is trial 454 with value: 12.01894168954165.\n",
      "[I 2024-11-16 17:34:53,239] Trial 470 finished with value: 12.063526375132062 and parameters: {'vizinhos': 17, 'pesos': 'uniform', 'parametro_potencia': 6.612194628810755}. Best is trial 454 with value: 12.01894168954165.\n",
      "[I 2024-11-16 17:34:55,138] Trial 471 finished with value: 12.063637094937395 and parameters: {'vizinhos': 17, 'pesos': 'uniform', 'parametro_potencia': 6.611549799703655}. Best is trial 454 with value: 12.01894168954165.\n",
      "[I 2024-11-16 17:34:57,004] Trial 472 finished with value: 12.064786998928865 and parameters: {'vizinhos': 17, 'pesos': 'uniform', 'parametro_potencia': 6.534682075386844}. Best is trial 454 with value: 12.01894168954165.\n",
      "[I 2024-11-16 17:34:58,886] Trial 473 finished with value: 12.065627357292428 and parameters: {'vizinhos': 17, 'pesos': 'uniform', 'parametro_potencia': 6.5717787059387875}. Best is trial 454 with value: 12.01894168954165.\n",
      "[I 2024-11-16 17:35:00,634] Trial 474 finished with value: 12.06507684221154 and parameters: {'vizinhos': 17, 'pesos': 'uniform', 'parametro_potencia': 6.586148868524343}. Best is trial 454 with value: 12.01894168954165.\n",
      "[I 2024-11-16 17:35:02,618] Trial 475 finished with value: 12.063596863016059 and parameters: {'vizinhos': 17, 'pesos': 'uniform', 'parametro_potencia': 6.623727237213656}. Best is trial 454 with value: 12.01894168954165.\n",
      "[I 2024-11-16 17:35:04,693] Trial 476 finished with value: 12.064838377656905 and parameters: {'vizinhos': 17, 'pesos': 'uniform', 'parametro_potencia': 6.551649466586174}. Best is trial 454 with value: 12.01894168954165.\n",
      "[I 2024-11-16 17:35:06,716] Trial 477 finished with value: 12.064607838071083 and parameters: {'vizinhos': 17, 'pesos': 'uniform', 'parametro_potencia': 6.601994057917817}. Best is trial 454 with value: 12.01894168954165.\n",
      "[I 2024-11-16 17:35:08,571] Trial 478 finished with value: 12.064373940163154 and parameters: {'vizinhos': 17, 'pesos': 'uniform', 'parametro_potencia': 6.6047483556320525}. Best is trial 454 with value: 12.01894168954165.\n",
      "[I 2024-11-16 17:35:10,243] Trial 479 finished with value: 12.0639615007433 and parameters: {'vizinhos': 17, 'pesos': 'uniform', 'parametro_potencia': 6.6291714930643435}. Best is trial 454 with value: 12.01894168954165.\n",
      "[I 2024-11-16 17:35:11,946] Trial 480 finished with value: 12.064301511377824 and parameters: {'vizinhos': 17, 'pesos': 'uniform', 'parametro_potencia': 6.6802185962222405}. Best is trial 454 with value: 12.01894168954165.\n",
      "[I 2024-11-16 17:35:13,846] Trial 481 finished with value: 12.06386444450679 and parameters: {'vizinhos': 17, 'pesos': 'uniform', 'parametro_potencia': 6.690027829495044}. Best is trial 454 with value: 12.01894168954165.\n",
      "[I 2024-11-16 17:35:15,759] Trial 482 finished with value: 12.065392448990604 and parameters: {'vizinhos': 17, 'pesos': 'uniform', 'parametro_potencia': 6.381805679251346}. Best is trial 454 with value: 12.01894168954165.\n",
      "[I 2024-11-16 17:35:17,819] Trial 483 finished with value: 12.064303115980756 and parameters: {'vizinhos': 17, 'pesos': 'uniform', 'parametro_potencia': 7.015034963457694}. Best is trial 454 with value: 12.01894168954165.\n",
      "[I 2024-11-16 17:35:19,845] Trial 484 finished with value: 12.061031425489007 and parameters: {'vizinhos': 18, 'pesos': 'uniform', 'parametro_potencia': 6.815887484903375}. Best is trial 454 with value: 12.01894168954165.\n",
      "[I 2024-11-16 17:35:21,617] Trial 485 finished with value: 12.058103582206066 and parameters: {'vizinhos': 18, 'pesos': 'uniform', 'parametro_potencia': 7.000440227968524}. Best is trial 454 with value: 12.01894168954165.\n",
      "[I 2024-11-16 17:35:23,459] Trial 486 finished with value: 12.058452962488543 and parameters: {'vizinhos': 18, 'pesos': 'uniform', 'parametro_potencia': 6.963444850845312}. Best is trial 454 with value: 12.01894168954165.\n",
      "[I 2024-11-16 17:35:25,220] Trial 487 finished with value: 12.057221187666558 and parameters: {'vizinhos': 18, 'pesos': 'uniform', 'parametro_potencia': 7.012308291532278}. Best is trial 454 with value: 12.01894168954165.\n",
      "[I 2024-11-16 17:35:27,457] Trial 488 finished with value: 12.057724432065958 and parameters: {'vizinhos': 18, 'pesos': 'uniform', 'parametro_potencia': 6.98131196560476}. Best is trial 454 with value: 12.01894168954165.\n",
      "[I 2024-11-16 17:35:29,385] Trial 489 finished with value: 12.05865700343291 and parameters: {'vizinhos': 18, 'pesos': 'uniform', 'parametro_potencia': 6.960044588013859}. Best is trial 454 with value: 12.01894168954165.\n",
      "[I 2024-11-16 17:35:31,304] Trial 490 finished with value: 12.057947615231221 and parameters: {'vizinhos': 18, 'pesos': 'uniform', 'parametro_potencia': 6.9854151233966775}. Best is trial 454 with value: 12.01894168954165.\n",
      "[I 2024-11-16 17:35:33,140] Trial 491 finished with value: 12.058133629947617 and parameters: {'vizinhos': 18, 'pesos': 'uniform', 'parametro_potencia': 7.0043200471848985}. Best is trial 454 with value: 12.01894168954165.\n",
      "[I 2024-11-16 17:35:34,968] Trial 492 finished with value: 12.055237576425805 and parameters: {'vizinhos': 18, 'pesos': 'uniform', 'parametro_potencia': 7.136031619484556}. Best is trial 454 with value: 12.01894168954165.\n",
      "[I 2024-11-16 17:35:36,877] Trial 493 finished with value: 12.056192474526734 and parameters: {'vizinhos': 18, 'pesos': 'uniform', 'parametro_potencia': 7.087494569253159}. Best is trial 454 with value: 12.01894168954165.\n",
      "[I 2024-11-16 17:35:38,629] Trial 494 finished with value: 12.055351267319024 and parameters: {'vizinhos': 18, 'pesos': 'uniform', 'parametro_potencia': 7.17752129942664}. Best is trial 454 with value: 12.01894168954165.\n",
      "[I 2024-11-16 17:35:40,334] Trial 495 finished with value: 12.05535556951642 and parameters: {'vizinhos': 18, 'pesos': 'uniform', 'parametro_potencia': 7.219939841932683}. Best is trial 454 with value: 12.01894168954165.\n",
      "[I 2024-11-16 17:35:41,874] Trial 496 finished with value: 12.05550320532906 and parameters: {'vizinhos': 18, 'pesos': 'uniform', 'parametro_potencia': 7.162666176247703}. Best is trial 454 with value: 12.01894168954165.\n",
      "[I 2024-11-16 17:35:43,776] Trial 497 finished with value: 12.054377410332545 and parameters: {'vizinhos': 18, 'pesos': 'uniform', 'parametro_potencia': 7.186476324426712}. Best is trial 454 with value: 12.01894168954165.\n",
      "[I 2024-11-16 17:35:45,623] Trial 498 finished with value: 12.056277350382823 and parameters: {'vizinhos': 18, 'pesos': 'uniform', 'parametro_potencia': 7.2694000998844315}. Best is trial 454 with value: 12.01894168954165.\n",
      "[I 2024-11-16 17:35:47,402] Trial 499 finished with value: 12.05462482105856 and parameters: {'vizinhos': 18, 'pesos': 'uniform', 'parametro_potencia': 7.302354762753153}. Best is trial 454 with value: 12.01894168954165.\n",
      "[I 2024-11-16 17:35:49,214] Trial 500 finished with value: 12.054636526794742 and parameters: {'vizinhos': 18, 'pesos': 'uniform', 'parametro_potencia': 7.2100943791596634}. Best is trial 454 with value: 12.01894168954165.\n",
      "[I 2024-11-16 17:35:51,087] Trial 501 finished with value: 12.056240073334559 and parameters: {'vizinhos': 18, 'pesos': 'uniform', 'parametro_potencia': 7.272887039615003}. Best is trial 454 with value: 12.01894168954165.\n",
      "[I 2024-11-16 17:35:52,779] Trial 502 finished with value: 12.054360477615965 and parameters: {'vizinhos': 18, 'pesos': 'uniform', 'parametro_potencia': 7.193478530779725}. Best is trial 454 with value: 12.01894168954165.\n",
      "[I 2024-11-16 17:35:54,383] Trial 503 finished with value: 12.054130274702956 and parameters: {'vizinhos': 18, 'pesos': 'uniform', 'parametro_potencia': 7.199976997834418}. Best is trial 454 with value: 12.01894168954165.\n",
      "[I 2024-11-16 17:35:55,971] Trial 504 finished with value: 12.055281386392055 and parameters: {'vizinhos': 18, 'pesos': 'uniform', 'parametro_potencia': 7.237750363989227}. Best is trial 454 with value: 12.01894168954165.\n",
      "[I 2024-11-16 17:35:57,754] Trial 505 finished with value: 12.055704406106063 and parameters: {'vizinhos': 18, 'pesos': 'uniform', 'parametro_potencia': 7.250256501349471}. Best is trial 454 with value: 12.01894168954165.\n",
      "[I 2024-11-16 17:35:59,619] Trial 506 finished with value: 12.056068109178561 and parameters: {'vizinhos': 18, 'pesos': 'uniform', 'parametro_potencia': 7.274355907230403}. Best is trial 454 with value: 12.01894168954165.\n",
      "[I 2024-11-16 17:36:01,447] Trial 507 finished with value: 12.05597340381785 and parameters: {'vizinhos': 18, 'pesos': 'uniform', 'parametro_potencia': 7.278599035383116}. Best is trial 454 with value: 12.01894168954165.\n",
      "[I 2024-11-16 17:36:03,379] Trial 508 finished with value: 12.055957974425832 and parameters: {'vizinhos': 18, 'pesos': 'uniform', 'parametro_potencia': 7.264273963302952}. Best is trial 454 with value: 12.01894168954165.\n",
      "[I 2024-11-16 17:36:05,163] Trial 509 finished with value: 12.054558922877497 and parameters: {'vizinhos': 18, 'pesos': 'uniform', 'parametro_potencia': 7.312807876367898}. Best is trial 454 with value: 12.01894168954165.\n",
      "[I 2024-11-16 17:36:06,915] Trial 510 finished with value: 12.054760874749618 and parameters: {'vizinhos': 18, 'pesos': 'uniform', 'parametro_potencia': 7.36556181846459}. Best is trial 454 with value: 12.01894168954165.\n",
      "[I 2024-11-16 17:36:08,893] Trial 511 finished with value: 12.055957974425832 and parameters: {'vizinhos': 18, 'pesos': 'uniform', 'parametro_potencia': 7.263840775121572}. Best is trial 454 with value: 12.01894168954165.\n",
      "[I 2024-11-16 17:36:10,626] Trial 512 finished with value: 12.054055786860976 and parameters: {'vizinhos': 18, 'pesos': 'uniform', 'parametro_potencia': 7.329573676789248}. Best is trial 454 with value: 12.01894168954165.\n",
      "[I 2024-11-16 17:36:12,534] Trial 513 finished with value: 12.053329168652349 and parameters: {'vizinhos': 18, 'pesos': 'uniform', 'parametro_potencia': 7.486666199545219}. Best is trial 454 with value: 12.01894168954165.\n",
      "[I 2024-11-16 17:36:14,520] Trial 514 finished with value: 12.053797146287222 and parameters: {'vizinhos': 18, 'pesos': 'uniform', 'parametro_potencia': 7.514662374031762}. Best is trial 454 with value: 12.01894168954165.\n",
      "[I 2024-11-16 17:36:16,531] Trial 515 finished with value: 12.053673114512968 and parameters: {'vizinhos': 18, 'pesos': 'uniform', 'parametro_potencia': 7.521171251985153}. Best is trial 454 with value: 12.01894168954165.\n",
      "[I 2024-11-16 17:36:18,530] Trial 516 finished with value: 12.052880767052274 and parameters: {'vizinhos': 18, 'pesos': 'uniform', 'parametro_potencia': 7.458503917134444}. Best is trial 454 with value: 12.01894168954165.\n",
      "[I 2024-11-16 17:36:20,459] Trial 517 finished with value: 12.054269370310658 and parameters: {'vizinhos': 18, 'pesos': 'uniform', 'parametro_potencia': 7.56299923595763}. Best is trial 454 with value: 12.01894168954165.\n",
      "[I 2024-11-16 17:36:22,337] Trial 518 finished with value: 12.053818357667721 and parameters: {'vizinhos': 18, 'pesos': 'uniform', 'parametro_potencia': 7.52547411222369}. Best is trial 454 with value: 12.01894168954165.\n",
      "[I 2024-11-16 17:36:24,164] Trial 519 finished with value: 12.05398686799535 and parameters: {'vizinhos': 18, 'pesos': 'uniform', 'parametro_potencia': 7.576778804883329}. Best is trial 454 with value: 12.01894168954165.\n",
      "[I 2024-11-16 17:36:25,958] Trial 520 finished with value: 12.053998843814433 and parameters: {'vizinhos': 18, 'pesos': 'uniform', 'parametro_potencia': 7.595098098634693}. Best is trial 454 with value: 12.01894168954165.\n",
      "[I 2024-11-16 17:36:27,755] Trial 521 finished with value: 12.054345843198421 and parameters: {'vizinhos': 18, 'pesos': 'uniform', 'parametro_potencia': 7.604084087961489}. Best is trial 454 with value: 12.01894168954165.\n",
      "[I 2024-11-16 17:36:29,508] Trial 522 finished with value: 12.0539863398438 and parameters: {'vizinhos': 18, 'pesos': 'uniform', 'parametro_potencia': 7.5910232132667}. Best is trial 454 with value: 12.01894168954165.\n",
      "[I 2024-11-16 17:36:31,439] Trial 523 finished with value: 12.053590171218179 and parameters: {'vizinhos': 18, 'pesos': 'uniform', 'parametro_potencia': 7.4949107900642735}. Best is trial 454 with value: 12.01894168954165.\n",
      "[I 2024-11-16 17:36:33,377] Trial 524 finished with value: 12.05293308003828 and parameters: {'vizinhos': 18, 'pesos': 'uniform', 'parametro_potencia': 7.470253108320736}. Best is trial 454 with value: 12.01894168954165.\n",
      "[I 2024-11-16 17:36:35,165] Trial 525 finished with value: 12.055265790791198 and parameters: {'vizinhos': 18, 'pesos': 'uniform', 'parametro_potencia': 7.637044684986945}. Best is trial 454 with value: 12.01894168954165.\n",
      "[I 2024-11-16 17:36:37,178] Trial 526 finished with value: 12.053619145236308 and parameters: {'vizinhos': 18, 'pesos': 'uniform', 'parametro_potencia': 7.583470792104853}. Best is trial 454 with value: 12.01894168954165.\n",
      "[I 2024-11-16 17:36:38,976] Trial 527 finished with value: 12.054168332425654 and parameters: {'vizinhos': 18, 'pesos': 'uniform', 'parametro_potencia': 7.6113330191032595}. Best is trial 454 with value: 12.01894168954165.\n",
      "[I 2024-11-16 17:36:40,819] Trial 528 finished with value: 12.053880743734698 and parameters: {'vizinhos': 18, 'pesos': 'uniform', 'parametro_potencia': 7.557756639535912}. Best is trial 454 with value: 12.01894168954165.\n",
      "[I 2024-11-16 17:36:42,691] Trial 529 finished with value: 12.055978566237952 and parameters: {'vizinhos': 18, 'pesos': 'uniform', 'parametro_potencia': 7.689030292188196}. Best is trial 454 with value: 12.01894168954165.\n",
      "[I 2024-11-16 17:36:44,471] Trial 530 finished with value: 12.053856407773548 and parameters: {'vizinhos': 18, 'pesos': 'uniform', 'parametro_potencia': 7.556668758513981}. Best is trial 454 with value: 12.01894168954165.\n",
      "[I 2024-11-16 17:36:46,323] Trial 531 finished with value: 12.054096857034837 and parameters: {'vizinhos': 18, 'pesos': 'uniform', 'parametro_potencia': 7.602107985460237}. Best is trial 454 with value: 12.01894168954165.\n",
      "[I 2024-11-16 17:36:48,163] Trial 532 finished with value: 12.053669919837041 and parameters: {'vizinhos': 18, 'pesos': 'uniform', 'parametro_potencia': 7.586769160922511}. Best is trial 454 with value: 12.01894168954165.\n",
      "[I 2024-11-16 17:36:49,978] Trial 533 finished with value: 12.053818884581933 and parameters: {'vizinhos': 18, 'pesos': 'uniform', 'parametro_potencia': 7.58128691105472}. Best is trial 454 with value: 12.01894168954165.\n",
      "[I 2024-11-16 17:36:51,789] Trial 534 finished with value: 12.054134610468317 and parameters: {'vizinhos': 18, 'pesos': 'uniform', 'parametro_potencia': 7.573576281107357}. Best is trial 454 with value: 12.01894168954165.\n",
      "[I 2024-11-16 17:36:53,553] Trial 535 finished with value: 12.056643138270697 and parameters: {'vizinhos': 18, 'pesos': 'uniform', 'parametro_potencia': 7.883714837024073}. Best is trial 454 with value: 12.01894168954165.\n",
      "[I 2024-11-16 17:36:55,361] Trial 536 finished with value: 12.05413902292018 and parameters: {'vizinhos': 18, 'pesos': 'uniform', 'parametro_potencia': 7.570017861230581}. Best is trial 454 with value: 12.01894168954165.\n",
      "[I 2024-11-16 17:36:57,087] Trial 537 finished with value: 12.057034110404198 and parameters: {'vizinhos': 18, 'pesos': 'uniform', 'parametro_potencia': 7.819461705227529}. Best is trial 454 with value: 12.01894168954165.\n",
      "[I 2024-11-16 17:36:59,040] Trial 538 finished with value: 12.053872407460426 and parameters: {'vizinhos': 18, 'pesos': 'uniform', 'parametro_potencia': 7.558540260931779}. Best is trial 454 with value: 12.01894168954165.\n",
      "[I 2024-11-16 17:37:00,802] Trial 539 finished with value: 12.0552293456279 and parameters: {'vizinhos': 18, 'pesos': 'uniform', 'parametro_potencia': 8.099042490923157}. Best is trial 454 with value: 12.01894168954165.\n",
      "[I 2024-11-16 17:37:02,360] Trial 540 finished with value: 12.053758335967986 and parameters: {'vizinhos': 18, 'pesos': 'uniform', 'parametro_potencia': 7.522186022114846}. Best is trial 454 with value: 12.01894168954165.\n",
      "[I 2024-11-16 17:37:04,093] Trial 541 finished with value: 12.056960476397753 and parameters: {'vizinhos': 18, 'pesos': 'uniform', 'parametro_potencia': 7.828924803099245}. Best is trial 454 with value: 12.01894168954165.\n",
      "[I 2024-11-16 17:37:05,968] Trial 542 finished with value: 12.053719661910055 and parameters: {'vizinhos': 18, 'pesos': 'uniform', 'parametro_potencia': 7.504830867220174}. Best is trial 454 with value: 12.01894168954165.\n",
      "[I 2024-11-16 17:37:07,861] Trial 543 finished with value: 12.068161483042948 and parameters: {'vizinhos': 17, 'pesos': 'uniform', 'parametro_potencia': 8.056235273532788}. Best is trial 454 with value: 12.01894168954165.\n",
      "[I 2024-11-16 17:37:09,844] Trial 544 finished with value: 12.053856407773548 and parameters: {'vizinhos': 18, 'pesos': 'uniform', 'parametro_potencia': 7.556480772604031}. Best is trial 454 with value: 12.01894168954165.\n",
      "[I 2024-11-16 17:37:11,736] Trial 545 finished with value: 12.056819430450869 and parameters: {'vizinhos': 18, 'pesos': 'uniform', 'parametro_potencia': 8.302219825286464}. Best is trial 454 with value: 12.01894168954165.\n",
      "[I 2024-11-16 17:37:13,571] Trial 546 finished with value: 12.056652226793567 and parameters: {'vizinhos': 18, 'pesos': 'uniform', 'parametro_potencia': 7.870881048254726}. Best is trial 454 with value: 12.01894168954165.\n",
      "[I 2024-11-16 17:37:15,336] Trial 547 finished with value: 12.067525361885647 and parameters: {'vizinhos': 17, 'pesos': 'uniform', 'parametro_potencia': 7.4414702967285}. Best is trial 454 with value: 12.01894168954165.\n",
      "[I 2024-11-16 17:37:17,257] Trial 548 finished with value: 12.053758335967986 and parameters: {'vizinhos': 18, 'pesos': 'uniform', 'parametro_potencia': 7.521584504569339}. Best is trial 454 with value: 12.01894168954165.\n",
      "[I 2024-11-16 17:37:19,116] Trial 549 finished with value: 12.057948206846058 and parameters: {'vizinhos': 18, 'pesos': 'uniform', 'parametro_potencia': 7.765468372803694}. Best is trial 454 with value: 12.01894168954165.\n",
      "[I 2024-11-16 17:37:20,736] Trial 550 finished with value: 12.053776985796024 and parameters: {'vizinhos': 18, 'pesos': 'uniform', 'parametro_potencia': 7.508151498785483}. Best is trial 454 with value: 12.01894168954165.\n",
      "[I 2024-11-16 17:37:22,502] Trial 551 finished with value: 12.05368720854469 and parameters: {'vizinhos': 18, 'pesos': 'uniform', 'parametro_potencia': 7.506663799637106}. Best is trial 454 with value: 12.01894168954165.\n",
      "[I 2024-11-16 17:37:24,245] Trial 552 finished with value: 12.09770239747033 and parameters: {'vizinhos': 16, 'pesos': 'uniform', 'parametro_potencia': 8.319051977932896}. Best is trial 454 with value: 12.01894168954165.\n",
      "[I 2024-11-16 17:37:26,135] Trial 553 finished with value: 12.056377706079264 and parameters: {'vizinhos': 18, 'pesos': 'uniform', 'parametro_potencia': 7.861371611285044}. Best is trial 454 with value: 12.01894168954165.\n",
      "[I 2024-11-16 17:37:27,981] Trial 554 finished with value: 12.0657517838232 and parameters: {'vizinhos': 17, 'pesos': 'uniform', 'parametro_potencia': 7.470705846955766}. Best is trial 454 with value: 12.01894168954165.\n",
      "[I 2024-11-16 17:37:29,808] Trial 555 finished with value: 12.055225565128522 and parameters: {'vizinhos': 18, 'pesos': 'uniform', 'parametro_potencia': 8.09495789769748}. Best is trial 454 with value: 12.01894168954165.\n",
      "[I 2024-11-16 17:37:31,563] Trial 556 finished with value: 12.065855917162258 and parameters: {'vizinhos': 17, 'pesos': 'uniform', 'parametro_potencia': 7.476862005601655}. Best is trial 454 with value: 12.01894168954165.\n",
      "[I 2024-11-16 17:37:33,394] Trial 557 finished with value: 12.058275645962512 and parameters: {'vizinhos': 18, 'pesos': 'uniform', 'parametro_potencia': 7.773268013692131}. Best is trial 454 with value: 12.01894168954165.\n",
      "[I 2024-11-16 17:37:35,283] Trial 558 finished with value: 12.055080529349407 and parameters: {'vizinhos': 18, 'pesos': 'uniform', 'parametro_potencia': 8.047039034931581}. Best is trial 454 with value: 12.01894168954165.\n",
      "[I 2024-11-16 17:37:37,289] Trial 559 finished with value: 12.05405195207478 and parameters: {'vizinhos': 18, 'pesos': 'uniform', 'parametro_potencia': 7.53749430225213}. Best is trial 454 with value: 12.01894168954165.\n",
      "[I 2024-11-16 17:37:39,505] Trial 560 finished with value: 12.070252031981154 and parameters: {'vizinhos': 17, 'pesos': 'uniform', 'parametro_potencia': 8.425280738500584}. Best is trial 454 with value: 12.01894168954165.\n",
      "[I 2024-11-16 17:37:41,509] Trial 561 finished with value: 12.056965805387822 and parameters: {'vizinhos': 18, 'pesos': 'uniform', 'parametro_potencia': 7.735681956642869}. Best is trial 454 with value: 12.01894168954165.\n",
      "[I 2024-11-16 17:37:43,258] Trial 562 finished with value: 12.055497941271483 and parameters: {'vizinhos': 18, 'pesos': 'uniform', 'parametro_potencia': 7.9655698162280455}. Best is trial 454 with value: 12.01894168954165.\n",
      "[I 2024-11-16 17:37:45,212] Trial 563 finished with value: 12.053821402945745 and parameters: {'vizinhos': 18, 'pesos': 'uniform', 'parametro_potencia': 7.529216065543421}. Best is trial 454 with value: 12.01894168954165.\n",
      "[I 2024-11-16 17:37:47,147] Trial 564 finished with value: 12.065714190610665 and parameters: {'vizinhos': 17, 'pesos': 'uniform', 'parametro_potencia': 7.4620864998849425}. Best is trial 454 with value: 12.01894168954165.\n",
      "[I 2024-11-16 17:37:49,069] Trial 565 finished with value: 12.058075022202472 and parameters: {'vizinhos': 18, 'pesos': 'uniform', 'parametro_potencia': 8.235105320961464}. Best is trial 454 with value: 12.01894168954165.\n",
      "[I 2024-11-16 17:37:50,943] Trial 566 finished with value: 12.057733519634333 and parameters: {'vizinhos': 18, 'pesos': 'uniform', 'parametro_potencia': 7.75254235292145}. Best is trial 454 with value: 12.01894168954165.\n",
      "[I 2024-11-16 17:37:52,691] Trial 567 finished with value: 12.059087720836356 and parameters: {'vizinhos': 18, 'pesos': 'uniform', 'parametro_potencia': 5.991634936777977}. Best is trial 454 with value: 12.01894168954165.\n",
      "[I 2024-11-16 17:37:54,586] Trial 568 finished with value: 12.065855101947118 and parameters: {'vizinhos': 17, 'pesos': 'uniform', 'parametro_potencia': 7.457213488592584}. Best is trial 454 with value: 12.01894168954165.\n",
      "[I 2024-11-16 17:37:56,500] Trial 569 finished with value: 12.055625355616698 and parameters: {'vizinhos': 18, 'pesos': 'uniform', 'parametro_potencia': 7.976959154353091}. Best is trial 454 with value: 12.01894168954165.\n",
      "[I 2024-11-16 17:37:58,454] Trial 570 finished with value: 12.066146670803352 and parameters: {'vizinhos': 17, 'pesos': 'uniform', 'parametro_potencia': 7.724133858806864}. Best is trial 454 with value: 12.01894168954165.\n",
      "[I 2024-11-16 17:38:00,454] Trial 571 finished with value: 12.053010438081692 and parameters: {'vizinhos': 18, 'pesos': 'uniform', 'parametro_potencia': 7.454615640903687}. Best is trial 454 with value: 12.01894168954165.\n",
      "[I 2024-11-16 17:38:02,462] Trial 572 finished with value: 12.055111617018632 and parameters: {'vizinhos': 18, 'pesos': 'uniform', 'parametro_potencia': 8.464645979934472}. Best is trial 454 with value: 12.01894168954165.\n",
      "[I 2024-11-16 17:38:04,341] Trial 573 finished with value: 12.067205342741023 and parameters: {'vizinhos': 17, 'pesos': 'uniform', 'parametro_potencia': 7.44729065586508}. Best is trial 454 with value: 12.01894168954165.\n",
      "[I 2024-11-16 17:38:06,221] Trial 574 finished with value: 12.05627492752025 and parameters: {'vizinhos': 18, 'pesos': 'uniform', 'parametro_potencia': 8.136674385481884}. Best is trial 454 with value: 12.01894168954165.\n",
      "[I 2024-11-16 17:38:08,254] Trial 575 finished with value: 12.057502785723086 and parameters: {'vizinhos': 18, 'pesos': 'uniform', 'parametro_potencia': 5.810706511427066}. Best is trial 454 with value: 12.01894168954165.\n",
      "[I 2024-11-16 17:38:10,222] Trial 576 finished with value: 12.055017015904474 and parameters: {'vizinhos': 18, 'pesos': 'uniform', 'parametro_potencia': 8.70824449112201}. Best is trial 454 with value: 12.01894168954165.\n",
      "[I 2024-11-16 17:38:12,262] Trial 577 finished with value: 12.05596758096504 and parameters: {'vizinhos': 18, 'pesos': 'uniform', 'parametro_potencia': 7.92092554752309}. Best is trial 454 with value: 12.01894168954165.\n",
      "[I 2024-11-16 17:38:14,083] Trial 578 finished with value: 12.05327433504133 and parameters: {'vizinhos': 18, 'pesos': 'uniform', 'parametro_potencia': 7.423608434632575}. Best is trial 454 with value: 12.01894168954165.\n",
      "[I 2024-11-16 17:38:15,868] Trial 579 finished with value: 12.05329674948974 and parameters: {'vizinhos': 18, 'pesos': 'uniform', 'parametro_potencia': 7.439515030157128}. Best is trial 454 with value: 12.01894168954165.\n",
      "[I 2024-11-16 17:38:17,689] Trial 580 finished with value: 12.070020238803107 and parameters: {'vizinhos': 17, 'pesos': 'uniform', 'parametro_potencia': 5.391043531451811}. Best is trial 454 with value: 12.01894168954165.\n",
      "[I 2024-11-16 17:38:19,532] Trial 581 finished with value: 12.061208989435343 and parameters: {'vizinhos': 18, 'pesos': 'uniform', 'parametro_potencia': 6.89616058687539}. Best is trial 454 with value: 12.01894168954165.\n",
      "[I 2024-11-16 17:38:21,319] Trial 582 finished with value: 12.091165686618298 and parameters: {'vizinhos': 17, 'pesos': 'distance', 'parametro_potencia': 6.182875378823878}. Best is trial 454 with value: 12.01894168954165.\n",
      "[I 2024-11-16 17:38:22,989] Trial 583 finished with value: 12.062210178034952 and parameters: {'vizinhos': 18, 'pesos': 'uniform', 'parametro_potencia': 5.599088486608991}. Best is trial 454 with value: 12.01894168954165.\n",
      "[I 2024-11-16 17:38:24,968] Trial 584 finished with value: 12.05322742040968 and parameters: {'vizinhos': 18, 'pesos': 'uniform', 'parametro_potencia': 7.422066932190982}. Best is trial 454 with value: 12.01894168954165.\n",
      "[I 2024-11-16 17:38:26,896] Trial 585 finished with value: 12.066930841787057 and parameters: {'vizinhos': 17, 'pesos': 'uniform', 'parametro_potencia': 5.193287565626432}. Best is trial 454 with value: 12.01894168954165.\n",
      "[I 2024-11-16 17:38:28,659] Trial 586 finished with value: 12.05712676989317 and parameters: {'vizinhos': 18, 'pesos': 'uniform', 'parametro_potencia': 7.809411824575654}. Best is trial 454 with value: 12.01894168954165.\n",
      "[I 2024-11-16 17:38:30,358] Trial 587 finished with value: 12.053321528077245 and parameters: {'vizinhos': 18, 'pesos': 'uniform', 'parametro_potencia': 7.401541087888942}. Best is trial 454 with value: 12.01894168954165.\n",
      "[I 2024-11-16 17:38:31,989] Trial 588 finished with value: 12.05358658069074 and parameters: {'vizinhos': 18, 'pesos': 'uniform', 'parametro_potencia': 7.377354113416939}. Best is trial 454 with value: 12.01894168954165.\n",
      "[I 2024-11-16 17:38:33,895] Trial 589 finished with value: 12.059004975803026 and parameters: {'vizinhos': 18, 'pesos': 'uniform', 'parametro_potencia': 6.936304997856227}. Best is trial 454 with value: 12.01894168954165.\n",
      "[I 2024-11-16 17:38:35,814] Trial 590 finished with value: 12.064370677818202 and parameters: {'vizinhos': 17, 'pesos': 'uniform', 'parametro_potencia': 6.889489144547541}. Best is trial 454 with value: 12.01894168954165.\n",
      "[I 2024-11-16 17:38:37,593] Trial 591 finished with value: 12.053573415832748 and parameters: {'vizinhos': 18, 'pesos': 'uniform', 'parametro_potencia': 7.384174080598126}. Best is trial 454 with value: 12.01894168954165.\n",
      "[I 2024-11-16 17:38:39,422] Trial 592 finished with value: 12.054492516110056 and parameters: {'vizinhos': 18, 'pesos': 'uniform', 'parametro_potencia': 7.32135733129284}. Best is trial 454 with value: 12.01894168954165.\n",
      "[I 2024-11-16 17:38:41,042] Trial 593 finished with value: 12.054826897310074 and parameters: {'vizinhos': 18, 'pesos': 'uniform', 'parametro_potencia': 7.354526499498833}. Best is trial 454 with value: 12.01894168954165.\n",
      "[I 2024-11-16 17:38:42,793] Trial 594 finished with value: 12.067740881740981 and parameters: {'vizinhos': 17, 'pesos': 'uniform', 'parametro_potencia': 6.085150290976817}. Best is trial 454 with value: 12.01894168954165.\n",
      "[I 2024-11-16 17:38:44,648] Trial 595 finished with value: 12.056915559031909 and parameters: {'vizinhos': 18, 'pesos': 'uniform', 'parametro_potencia': 7.0432527746853815}. Best is trial 454 with value: 12.01894168954165.\n",
      "[I 2024-11-16 17:38:46,554] Trial 596 finished with value: 12.055688639302229 and parameters: {'vizinhos': 18, 'pesos': 'uniform', 'parametro_potencia': 8.000400938746271}. Best is trial 454 with value: 12.01894168954165.\n",
      "[I 2024-11-16 17:38:48,412] Trial 597 finished with value: 12.06643173597226 and parameters: {'vizinhos': 17, 'pesos': 'uniform', 'parametro_potencia': 7.361859213353522}. Best is trial 454 with value: 12.01894168954165.\n",
      "[I 2024-11-16 17:38:50,358] Trial 598 finished with value: 12.0626833031264 and parameters: {'vizinhos': 18, 'pesos': 'uniform', 'parametro_potencia': 5.031097625932508}. Best is trial 454 with value: 12.01894168954165.\n",
      "[I 2024-11-16 17:38:52,304] Trial 599 finished with value: 12.057479859072249 and parameters: {'vizinhos': 18, 'pesos': 'uniform', 'parametro_potencia': 8.241161386067263}. Best is trial 454 with value: 12.01894168954165.\n",
      "[I 2024-11-16 17:38:54,145] Trial 600 finished with value: 12.065673281390128 and parameters: {'vizinhos': 17, 'pesos': 'uniform', 'parametro_potencia': 6.309552446835655}. Best is trial 454 with value: 12.01894168954165.\n",
      "[I 2024-11-16 17:38:56,081] Trial 601 finished with value: 12.073990180025705 and parameters: {'vizinhos': 18, 'pesos': 'distance', 'parametro_potencia': 9.068375567880063}. Best is trial 454 with value: 12.01894168954165.\n",
      "[I 2024-11-16 17:38:57,800] Trial 602 finished with value: 12.058274274086823 and parameters: {'vizinhos': 18, 'pesos': 'uniform', 'parametro_potencia': 7.77340805059686}. Best is trial 454 with value: 12.01894168954165.\n",
      "[I 2024-11-16 17:38:59,562] Trial 603 finished with value: 12.05539678074048 and parameters: {'vizinhos': 18, 'pesos': 'uniform', 'parametro_potencia': 7.1392310870402795}. Best is trial 454 with value: 12.01894168954165.\n",
      "[I 2024-11-16 17:39:01,530] Trial 604 finished with value: 12.045205024191866 and parameters: {'vizinhos': 19, 'pesos': 'uniform', 'parametro_potencia': 7.390091947632827}. Best is trial 454 with value: 12.01894168954165.\n",
      "[I 2024-11-16 17:39:03,341] Trial 605 finished with value: 12.097712908083986 and parameters: {'vizinhos': 16, 'pesos': 'uniform', 'parametro_potencia': 5.973315439617543}. Best is trial 454 with value: 12.01894168954165.\n",
      "[I 2024-11-16 17:39:05,111] Trial 606 finished with value: 12.045042591573756 and parameters: {'vizinhos': 19, 'pesos': 'uniform', 'parametro_potencia': 6.819225031794671}. Best is trial 454 with value: 12.01894168954165.\n",
      "[I 2024-11-16 17:39:07,110] Trial 607 finished with value: 12.044657080991396 and parameters: {'vizinhos': 19, 'pesos': 'uniform', 'parametro_potencia': 7.068073692181174}. Best is trial 454 with value: 12.01894168954165.\n",
      "[I 2024-11-16 17:39:09,014] Trial 608 finished with value: 12.043851944436042 and parameters: {'vizinhos': 19, 'pesos': 'uniform', 'parametro_potencia': 6.797631706261459}. Best is trial 454 with value: 12.01894168954165.\n",
      "[I 2024-11-16 17:39:10,978] Trial 609 finished with value: 12.045310000014174 and parameters: {'vizinhos': 19, 'pesos': 'uniform', 'parametro_potencia': 6.849652858070111}. Best is trial 454 with value: 12.01894168954165.\n",
      "[I 2024-11-16 17:39:12,906] Trial 610 finished with value: 12.0440840981737 and parameters: {'vizinhos': 19, 'pesos': 'uniform', 'parametro_potencia': 6.877882318993944}. Best is trial 454 with value: 12.01894168954165.\n",
      "[I 2024-11-16 17:39:15,062] Trial 611 finished with value: 12.045090096931029 and parameters: {'vizinhos': 19, 'pesos': 'uniform', 'parametro_potencia': 6.841781692740827}. Best is trial 454 with value: 12.01894168954165.\n",
      "[I 2024-11-16 17:39:17,094] Trial 612 finished with value: 12.045225106368626 and parameters: {'vizinhos': 19, 'pesos': 'uniform', 'parametro_potencia': 6.822577224893149}. Best is trial 454 with value: 12.01894168954165.\n",
      "[I 2024-11-16 17:39:19,172] Trial 613 finished with value: 12.044072201568154 and parameters: {'vizinhos': 19, 'pesos': 'uniform', 'parametro_potencia': 6.887425556919674}. Best is trial 454 with value: 12.01894168954165.\n",
      "[I 2024-11-16 17:39:21,181] Trial 614 finished with value: 12.045189115507258 and parameters: {'vizinhos': 19, 'pesos': 'uniform', 'parametro_potencia': 6.850634341804784}. Best is trial 454 with value: 12.01894168954165.\n",
      "[I 2024-11-16 17:39:23,055] Trial 615 finished with value: 12.045158571612529 and parameters: {'vizinhos': 19, 'pesos': 'uniform', 'parametro_potencia': 6.730960272744308}. Best is trial 454 with value: 12.01894168954165.\n",
      "[I 2024-11-16 17:39:24,926] Trial 616 finished with value: 12.043821830656443 and parameters: {'vizinhos': 19, 'pesos': 'uniform', 'parametro_potencia': 6.799217892805087}. Best is trial 454 with value: 12.01894168954165.\n",
      "[I 2024-11-16 17:39:26,801] Trial 617 finished with value: 12.044025853152805 and parameters: {'vizinhos': 19, 'pesos': 'uniform', 'parametro_potencia': 6.807708458080655}. Best is trial 454 with value: 12.01894168954165.\n",
      "[I 2024-11-16 17:39:28,725] Trial 618 finished with value: 12.044219704761366 and parameters: {'vizinhos': 19, 'pesos': 'uniform', 'parametro_potencia': 6.791794929014447}. Best is trial 454 with value: 12.01894168954165.\n",
      "[I 2024-11-16 17:39:30,734] Trial 619 finished with value: 12.06337048530178 and parameters: {'vizinhos': 19, 'pesos': 'distance', 'parametro_potencia': 6.34717880101041}. Best is trial 454 with value: 12.01894168954165.\n",
      "[I 2024-11-16 17:39:32,673] Trial 620 finished with value: 12.04360493168609 and parameters: {'vizinhos': 19, 'pesos': 'uniform', 'parametro_potencia': 6.773041317062474}. Best is trial 454 with value: 12.01894168954165.\n",
      "[I 2024-11-16 17:39:34,594] Trial 621 finished with value: 12.044667642501949 and parameters: {'vizinhos': 19, 'pesos': 'uniform', 'parametro_potencia': 6.86600913283254}. Best is trial 454 with value: 12.01894168954165.\n",
      "[I 2024-11-16 17:39:36,404] Trial 622 finished with value: 12.044976396139102 and parameters: {'vizinhos': 19, 'pesos': 'uniform', 'parametro_potencia': 6.839010440437894}. Best is trial 454 with value: 12.01894168954165.\n",
      "[I 2024-11-16 17:39:38,206] Trial 623 finished with value: 12.044920397985281 and parameters: {'vizinhos': 19, 'pesos': 'uniform', 'parametro_potencia': 6.812825218474913}. Best is trial 454 with value: 12.01894168954165.\n",
      "[I 2024-11-16 17:39:40,087] Trial 624 finished with value: 12.044974923094328 and parameters: {'vizinhos': 19, 'pesos': 'uniform', 'parametro_potencia': 6.8404737507405144}. Best is trial 454 with value: 12.01894168954165.\n",
      "[I 2024-11-16 17:39:42,046] Trial 625 finished with value: 12.04471390526101 and parameters: {'vizinhos': 19, 'pesos': 'uniform', 'parametro_potencia': 6.8118573169542405}. Best is trial 454 with value: 12.01894168954165.\n",
      "[I 2024-11-16 17:39:44,062] Trial 626 finished with value: 12.043517628757405 and parameters: {'vizinhos': 19, 'pesos': 'uniform', 'parametro_potencia': 6.776364851908484}. Best is trial 454 with value: 12.01894168954165.\n",
      "[I 2024-11-16 17:39:45,968] Trial 627 finished with value: 12.046106436288637 and parameters: {'vizinhos': 19, 'pesos': 'uniform', 'parametro_potencia': 6.3875520770276415}. Best is trial 454 with value: 12.01894168954165.\n",
      "[I 2024-11-16 17:39:47,822] Trial 628 finished with value: 12.04409451483456 and parameters: {'vizinhos': 19, 'pesos': 'uniform', 'parametro_potencia': 6.808287563811866}. Best is trial 454 with value: 12.01894168954165.\n",
      "[I 2024-11-16 17:39:49,574] Trial 629 finished with value: 12.044974923094328 and parameters: {'vizinhos': 19, 'pesos': 'uniform', 'parametro_potencia': 6.840412985902759}. Best is trial 454 with value: 12.01894168954165.\n",
      "[I 2024-11-16 17:39:51,514] Trial 630 finished with value: 12.043811974857581 and parameters: {'vizinhos': 19, 'pesos': 'uniform', 'parametro_potencia': 6.798590593549385}. Best is trial 454 with value: 12.01894168954165.\n",
      "[I 2024-11-16 17:39:53,558] Trial 631 finished with value: 12.044133648342056 and parameters: {'vizinhos': 19, 'pesos': 'uniform', 'parametro_potencia': 6.787330197804382}. Best is trial 454 with value: 12.01894168954165.\n",
      "[I 2024-11-16 17:39:55,504] Trial 632 finished with value: 12.045247478530776 and parameters: {'vizinhos': 19, 'pesos': 'uniform', 'parametro_potencia': 6.342971254093844}. Best is trial 454 with value: 12.01894168954165.\n",
      "[I 2024-11-16 17:39:57,386] Trial 633 finished with value: 12.043536644322133 and parameters: {'vizinhos': 19, 'pesos': 'uniform', 'parametro_potencia': 6.774902497425233}. Best is trial 454 with value: 12.01894168954165.\n",
      "[I 2024-11-16 17:39:59,341] Trial 634 finished with value: 12.045296169389683 and parameters: {'vizinhos': 19, 'pesos': 'uniform', 'parametro_potencia': 6.337817111250259}. Best is trial 454 with value: 12.01894168954165.\n",
      "[I 2024-11-16 17:40:01,270] Trial 635 finished with value: 12.043679955768939 and parameters: {'vizinhos': 19, 'pesos': 'uniform', 'parametro_potencia': 6.759227012051947}. Best is trial 454 with value: 12.01894168954165.\n",
      "[I 2024-11-16 17:40:03,108] Trial 636 finished with value: 12.040831739854974 and parameters: {'vizinhos': 19, 'pesos': 'uniform', 'parametro_potencia': 6.180683938275612}. Best is trial 454 with value: 12.01894168954165.\n",
      "[I 2024-11-16 17:40:05,178] Trial 637 finished with value: 12.039278644595635 and parameters: {'vizinhos': 19, 'pesos': 'uniform', 'parametro_potencia': 6.0912987660346145}. Best is trial 454 with value: 12.01894168954165.\n",
      "[I 2024-11-16 17:40:07,279] Trial 638 finished with value: 12.041443318252028 and parameters: {'vizinhos': 19, 'pesos': 'uniform', 'parametro_potencia': 6.190103583543508}. Best is trial 454 with value: 12.01894168954165.\n",
      "[I 2024-11-16 17:40:09,288] Trial 639 finished with value: 12.056857237017958 and parameters: {'vizinhos': 19, 'pesos': 'distance', 'parametro_potencia': 6.047511044173836}. Best is trial 454 with value: 12.01894168954165.\n",
      "[I 2024-11-16 17:40:11,290] Trial 640 finished with value: 12.041159096113455 and parameters: {'vizinhos': 19, 'pesos': 'uniform', 'parametro_potencia': 6.189128692629366}. Best is trial 454 with value: 12.01894168954165.\n",
      "[I 2024-11-16 17:40:13,141] Trial 641 finished with value: 12.03829771961064 and parameters: {'vizinhos': 19, 'pesos': 'uniform', 'parametro_potencia': 6.138276200162208}. Best is trial 454 with value: 12.01894168954165.\n",
      "[I 2024-11-16 17:40:15,006] Trial 642 finished with value: 12.038227830389232 and parameters: {'vizinhos': 19, 'pesos': 'uniform', 'parametro_potencia': 6.136430428615488}. Best is trial 454 with value: 12.01894168954165.\n",
      "[I 2024-11-16 17:40:17,089] Trial 643 finished with value: 12.039367557069939 and parameters: {'vizinhos': 19, 'pesos': 'uniform', 'parametro_potencia': 6.15074570462398}. Best is trial 454 with value: 12.01894168954165.\n",
      "[I 2024-11-16 17:40:18,841] Trial 644 finished with value: 12.035784941917743 and parameters: {'vizinhos': 19, 'pesos': 'uniform', 'parametro_potencia': 5.835794096016473}. Best is trial 454 with value: 12.01894168954165.\n",
      "[I 2024-11-16 17:40:20,742] Trial 645 finished with value: 12.039638477273595 and parameters: {'vizinhos': 19, 'pesos': 'uniform', 'parametro_potencia': 6.109942271089117}. Best is trial 454 with value: 12.01894168954165.\n",
      "[I 2024-11-16 17:40:22,640] Trial 646 finished with value: 12.035575852732263 and parameters: {'vizinhos': 19, 'pesos': 'uniform', 'parametro_potencia': 5.853936399500161}. Best is trial 454 with value: 12.01894168954165.\n",
      "[I 2024-11-16 17:40:24,607] Trial 647 finished with value: 12.03557507526774 and parameters: {'vizinhos': 19, 'pesos': 'uniform', 'parametro_potencia': 5.814148119272533}. Best is trial 454 with value: 12.01894168954165.\n",
      "[I 2024-11-16 17:40:26,539] Trial 648 finished with value: 12.037314469627209 and parameters: {'vizinhos': 19, 'pesos': 'uniform', 'parametro_potencia': 5.772077595039998}. Best is trial 454 with value: 12.01894168954165.\n",
      "[I 2024-11-16 17:40:28,526] Trial 649 finished with value: 12.036312482289103 and parameters: {'vizinhos': 19, 'pesos': 'uniform', 'parametro_potencia': 5.793664723378949}. Best is trial 454 with value: 12.01894168954165.\n",
      "[I 2024-11-16 17:40:30,453] Trial 650 finished with value: 12.036302731242357 and parameters: {'vizinhos': 19, 'pesos': 'uniform', 'parametro_potencia': 5.805040572279082}. Best is trial 454 with value: 12.01894168954165.\n",
      "[I 2024-11-16 17:40:32,423] Trial 651 finished with value: 12.038188675542948 and parameters: {'vizinhos': 19, 'pesos': 'uniform', 'parametro_potencia': 5.718017308324245}. Best is trial 454 with value: 12.01894168954165.\n",
      "[I 2024-11-16 17:40:34,526] Trial 652 finished with value: 12.035944339830253 and parameters: {'vizinhos': 19, 'pesos': 'uniform', 'parametro_potencia': 5.7855290429001975}. Best is trial 454 with value: 12.01894168954165.\n"
     ]
    }
   ],
   "source": [
    "NUM_TENTATIVAS = 200\n",
    "\n",
    "objeto_de_estudo.optimize(funcao_objetivo_parcial, n_trials=NUM_TENTATIVAS)"
   ]
  },
  {
   "cell_type": "code",
   "execution_count": 53,
   "id": "7c7b3e12-7a3a-40aa-81da-cfcf947c8b69",
   "metadata": {},
   "outputs": [
    {
     "name": "stdout",
     "output_type": "stream",
     "text": [
      "Número do melhor trial: 454\n",
      "Parâmetros do melhor trial: {'vizinhos': 20, 'pesos': 'uniform', 'parametro_potencia': 4.718217739207915}\n"
     ]
    }
   ],
   "source": [
    "melhor_trial = objeto_de_estudo.best_trial\n",
    "\n",
    "print(f\"Número do melhor trial: {melhor_trial.number}\")\n",
    "print(f\"Parâmetros do melhor trial: {melhor_trial.params}\")"
   ]
  },
  {
   "cell_type": "markdown",
   "id": "6e719e73-af00-4b23-9cef-5fb6042d19e1",
   "metadata": {},
   "source": [
    "### Estimando a performance do modelo KNN"
   ]
  },
  {
   "cell_type": "code",
   "execution_count": 54,
   "id": "dc685337-a084-47c5-8c2f-66d334d29c0e",
   "metadata": {},
   "outputs": [
    {
     "name": "stdout",
     "output_type": "stream",
     "text": [
      "As métricas foram: [-12.96641637 -14.28304232 -12.98832693 -13.77681775 -13.27256135\n",
      " -13.74230308 -14.76950157 -14.68349644 -15.53347737 -15.66091959\n",
      " -16.18583361 -16.47896872 -14.35992184 -15.12470355 -13.64962102\n",
      " -14.29325765 -14.15597946 -13.66791884 -13.43344439 -12.5203145\n",
      " -12.25026824 -11.40833176 -11.1874909  -10.90033856 -11.04956207\n",
      " -10.64862012  -9.63099871  -9.96271923  -8.84218549  -9.16705102\n",
      "  -8.77614686  -8.34914463  -8.28904698  -8.01161565  -8.39719576\n",
      "  -8.42896354  -8.55851447  -8.17734196  -8.35568679  -7.53583963]\n",
      "\n",
      "A média das métricas é de: 11.836847217926097\n"
     ]
    }
   ],
   "source": [
    "from sklearn.model_selection import cross_val_score\n",
    "\n",
    "NUM_FOLDS = 40\n",
    "SEMENTE_ALEATORIA = 20404\n",
    "modelo_ad = cria_instancia_modelo(melhor_trial)\n",
    "\n",
    "metricas = cross_val_score(\n",
    "    modelo_ad,    #instância\n",
    "    X,            #dados de atributos\n",
    "    y,            #dados de target\n",
    "    cv=NUM_FOLDS, #número de folds\n",
    "    scoring=\"neg_root_mean_squared_error\", #quanto maior, melhor pelo scikit\n",
    ")\n",
    "\n",
    "print(\"As métricas foram:\", metricas)\n",
    "print()\n",
    "print(\"A média das métricas é de:\", np.abs(metricas.mean()))"
   ]
  },
  {
   "cell_type": "markdown",
   "id": "710679f2-4164-45cd-a95e-740af360faad",
   "metadata": {},
   "source": [
    "### Conclusão\n",
    "\n",
    "<p style=\"text-align:justify;\"> Ao encontrar o RMSE do baseline, temos um ponto de partida, ou seja, sabe-se que qualquer modelo que apresente um RMSE, a métrica de performance que escolhemos utilizar,  maior que esse valor não nos gera um bom modelo. A partir desse ponto, começou-se o estudo para selecionar atributos, o que utilizamos a técnica de seleção de atributos pelo fator de inflação de variância (VIF), assim como escolher o melhor conjunto de hiperparâmetros pelo optuna. Ademais, a seleção de melhores atributos foi realizada de acordo com os dois modelos avaliados: floresta aleatória e KNN. Com a métrica de performande de cada um desses modelos, pode-se observar o esperado: os resultados são muito próximos, até próximo do próprio baseline, isso significa que os dados que estamos lidando são bastante difíceis de serem preditos e que há bastante estudo para ser realizado ainda, desde acrescentar mais atributos acerca do paciente, até encontrar novos modelos que consigam lidar com a variabilidade muito sucinta sobre saúde de um paciente. Contudo, precisou-se escolher um modelo e o que ainda apresentou o menor RMSE foi o regressor de floresta aleatória."
   ]
  },
  {
   "cell_type": "markdown",
   "id": "0ad8df15-77a9-4cfd-85e8-a7eaae4ef8ca",
   "metadata": {},
   "source": [
    "### Referências"
   ]
  },
  {
   "cell_type": "markdown",
   "id": "b721b3c5-3e43-438c-981b-8afefe06d23b",
   "metadata": {},
   "source": [
    "<p style=\"text-align:justify;\">[1] Nguyen, Bastien, Christopher Fong, Anisha Luthra, Shaleigh A. Smith, Renzo G. DiNatale, Subhiksha Nandakumar, Henry Walch, et al. “Genomic Characterization of Metastatic Patterns from Prospective Clinical Sequencing of 25,000 Patients”. Cell 185, nº 3 (3 de fevereiro de 2022): 563-575.e11. https://doi.org/10.1016/j.cell.2022.01.003.\n",
    "<p style=\"text-align:justify;\">[2] scikit-learn. “6.3. Preprocessing Data”. Acesso em 9 de outubro de 2024. https://scikit-learn/stable/modules/preprocessing.html.\n",
    "<p style=\"text-align:justify;\">[3] “ATP-203 1.1 - Tratamento de dados”. Acesso em 9 de outubro de 2024. \n",
    "<p style=\"text-align:justify;\">[4] \"ATP-203 2.1 - Aprendizado de máquina, k-NN e métricas\". Acesso em 16 de novembro de 2024.\n",
    "<p style=\"text-align:justify;\">[5] “ATP-203 5.1 - Floresta aleatória”. Acesso em 9 de outubro de 2024. \n",
    "<p style=\"text-align:justify;\">[6] \"ATP-203 6.1 - Otimização de hiperparâmetros com optuna\". Acesso em 16 de novembro de 2024.\n",
    "<p style=\"text-align:justify;\">[7] \"ATP-203 7.1 - Seleção de atributos\". Acesso em 16 de novembro de 2024.\n",
    "<p style=\"text-align:justify;\">[8] \"ATP-203 9.1 - Classificação binária\". Acesso em 10 de novembro de 2024. \n"
   ]
  }
 ],
 "metadata": {
  "kernelspec": {
   "display_name": "ilumpy",
   "language": "python",
   "name": "ilumpy"
  },
  "language_info": {
   "codemirror_mode": {
    "name": "ipython",
    "version": 3
   },
   "file_extension": ".py",
   "mimetype": "text/x-python",
   "name": "python",
   "nbconvert_exporter": "python",
   "pygments_lexer": "ipython3",
   "version": "3.11.6"
  }
 },
 "nbformat": 4,
 "nbformat_minor": 5
}
