{
 "cells": [
  {
   "cell_type": "markdown",
   "id": "275d0210-e024-4794-91c4-9b3a543c6926",
   "metadata": {},
   "source": [
    "Modelo para a predição de sobrevidade de pacientes de câncer de pulmão de células não pequenas\n",
    "===================\n",
    "\n",
    "### Autores: Glauber Nascimento, Maria Emily Gomes, Rafael Anis"
   ]
  },
  {
   "cell_type": "markdown",
   "id": "731611d9-ecd3-4904-ab05-6f31d4f2659d",
   "metadata": {},
   "source": [
    "## Introdução"
   ]
  },
  {
   "cell_type": "markdown",
   "id": "035867a4-5d6f-4ff7-98d9-0e07d64afc3e",
   "metadata": {},
   "source": [
    "<p style=\"text-align:justify;\"> Nesse notebook, utilizou-se o banco de dados <i>MSK MetTropism</i>, o qual foi produzido e estudado pelo grupo o qual publicou \"Genomic characterization of metastatic patterns from prospective clinical sequencing of 25,000 patients\". No artigo, com a análise do genôma e das informações clínicas dos pacientes, foi identificado uma associação entre alterações genômicas e padrões de disseminação. Nosso projeto, no entanto, irá utilizar essa vasta informação e tentar predizer o tempo de sobrevida de pacientes de <strong>Câncer de pulmão de células não pequenas</strong>. Desse modo, queremos identificar pacientes os quais precisam de maior atenção médica e os que possivelmente estarão curados, ou seja, irão obter uma expectativa de sobrevida maior que cinco anos. Portanto, o projeto se propôs a utilizar ferramentas de aprendizado de máquina para separar pacientes curados dos não curados e, para os não curados, os que obtiveram expectativa de sobrevida menor que cinco anos, mostrar o tempo predito para, então, conseguir mensurar a gravidade do estado de cada paciente e a possível necessidade de tratamentos mais intensos.\n",
    "<p style=\"text-align:justify;\"> Para conseguir os melhores resultados, não só especificamos um tipo de câncer para treinar o modelo, como dividimos as observações do dataset em dados de treino e de teste para verificar a performance e foram feitas otimizações de hiperparâmetros por Optuna. Para o processo de predição foram feitos dois modelos, um <strong>classificador</strong> e um de <strong>regressão</strong>.\n",
    "\n",
    "<p style=\"text-align:justify;\">  O <strong>classificador</strong> teria como objetivo discernir pacientes curados dos que tem expectativa de sobrevida menor do que 5 anos. Buscando o melhor classificador, foram comparados os algoritmos de classificador baseline, regressão logística e floresta aleatória. A métrica de perfomance utiliza foi a área abaixo de uma curva Precisão-Sensibilidade (Precision-Recall Curve), considerando que os dados são extremamente balanceados, havendo muito pouco dados de pacientes que foram curados. Ao fim, foi mostrado como a presença de dados extremamente desbalanceados dificultam muito a predição da classe pouco representada no dataset (no caso, pacientes curados).\n",
    "\n",
    " <p style=\"text-align:justify;\">Para o modelo de <strong>regressão</strong>, foi escolhido o modelo de <strong>floresta aleatória</strong> e dividimos as observações do dataset em dados de treino e de teste para verificar a performance. Além disso, houve um estudo acerca dos melhores atributos - assim como verificamos se havia multicolinearidade associada às colunas, dos melhores hiperparâmetros com o optuna e, assim, espera-se um RMSE baixo, a modo que os resultados se mostrem relevantes. Para haver uma métrica que nos possibilite obter uma sensibilidade para a qualidade do modelo, iremos obter o RMSE de um modelo baseline. Como a métrica do modelo de floresta aleatória, a qual avalia o desvio padrão quadrado, foi menor que a do baseline e do modelo KNN, o trabalho apresentará discussões de como alcançou o resultado e como poderia aprimorá-lo.\n",
    "\n",
    " <p style=\"text-align:justify;\"> <strong>Nota:</strong> Esse notebook, o do projeto final, conterá nossos melhores resultados e no GitHub será posto a nossa trajetória até esse resultados através dos outros notebooks."
   ]
  },
  {
   "cell_type": "markdown",
   "id": "ac4aece5",
   "metadata": {},
   "source": [
    "## Começando Pelo Dataset"
   ]
  },
  {
   "cell_type": "markdown",
   "id": "890ade76-d779-4d69-8f14-77c54a208a12",
   "metadata": {},
   "source": [
    "### Importando as bibliotecas "
   ]
  },
  {
   "cell_type": "markdown",
   "id": "8877e1d2-da4c-413c-9271-a01f0bd60549",
   "metadata": {},
   "source": [
    "<p style=\"text-align:justify;\">  A biblioteca <strong>pandas</strong> será necessária para ler e editar o dataframe utilizado neste trabalho e o numpy para realizar operações como a de definir valores absolutos ao final da validação cruzada k-fold."
   ]
  },
  {
   "cell_type": "code",
   "execution_count": 1,
   "id": "2a13fab8-2c52-4d8a-a922-e8ba13e80a21",
   "metadata": {},
   "outputs": [],
   "source": [
    "import pandas as pd\n",
    "import numpy as np"
   ]
  },
  {
   "cell_type": "markdown",
   "id": "b2a7b01a-638b-4252-bd87-28e454675eaf",
   "metadata": {},
   "source": [
    "### Leitura do dataset"
   ]
  },
  {
   "cell_type": "markdown",
   "id": "b1363b09-a9a1-4c25-845b-bafd85ed7388",
   "metadata": {},
   "source": [
    "<p style=\"text-align:justify;\"> O dataset a seguir é de onde foi realizada todas as operações necessárias para desenvolver os modelos. O primeiro foco do grupo foi encontrar os atributos relevantes para o objetivo, como também encontrar uma coluna de target adequada para a nossa discussão."
   ]
  },
  {
   "cell_type": "code",
   "execution_count": 2,
   "id": "d638d23d-6027-4a86-9ac2-fc38223473a6",
   "metadata": {},
   "outputs": [],
   "source": [
    "df = pd.read_csv(\"msk_met_2021_clinical_data (1).tsv\", sep = \"\\t\")"
   ]
  },
  {
   "cell_type": "markdown",
   "id": "f8856102-1113-4ac0-bf96-c22e6b475263",
   "metadata": {},
   "source": [
    "<p style=\"text-align:justify;\"> Em seguida, discutiu-se acerca da coluna de target, pois a sobrevida encontrada no dataset não era coerente ao dado que precisávamos para a predição. Então, a seguir, será observado como resolvemos o empasse, assim como o notebook <strong>Estudando o Target</strong> mostra os tais problemas e o raciocínio detalhado para resolvé-lo. Em resumo, teremos uma coluna de <code>Curado</code> que <strong>classifica os pacientes de forma binária entre falecidos (0) e curados (1)</strong> e outra de <code>Sobrevivência (meses)</code> que avalia o tempo entre o <strong>sequenciamento genômico do paciente até o mês que foi identificado a sua morte</strong>. Contudo, produzir um modelo que prediz um tempo de vida maior que 60 meses não é pertinente, pois o tempo que observa-se um paciente de câncer é até 60 meses. Nesse sentido informar uma sobrevida de 60 ou, por exemplo, 80 meses implica na mesma situação: o paciente estará curado com os atributos que possui. "
   ]
  },
  {
   "cell_type": "code",
   "execution_count": 3,
   "id": "aafd09da-ebba-4569-96ee-574ce5502534",
   "metadata": {},
   "outputs": [],
   "source": [
    "df['Curado'] = pd.NA\n",
    "df ['Sobrevivencia (Meses)'] = pd.NA\n",
    "\n",
    "for i, meses in enumerate(df['Overall Survival (Months)']):\n",
    "    \n",
    "    if meses >= 60:\n",
    "        df.loc [i, 'Curado'] = 1\n",
    "        \n",
    "    else:\n",
    "        if df.loc [i, 'Overall Survival Status'] == '1:DECEASED':\n",
    "            df.loc [i, 'Curado'] = 0\n",
    "            df.loc [i, 'Sobrevivencia (Meses)'] = meses"
   ]
  },
  {
   "cell_type": "markdown",
   "id": "c0683088-2c6c-4d04-9e3e-3d9ca10f807c",
   "metadata": {},
   "source": [
    "<p style=\"text-align:justify;\"> Considerando a variedade de cânceres que o dataset possui e as incertezas que isto poderiam levar, optamos por selecionar um tipo de câncer específico. Considerando que o <strong>Câncer de pulmão de células não pequenas</strong> é o que apresenta a maior quantidade de observações, a predição da sobrevida de pacientes com esse tipo de câncer foi o selecionada para ser o objeto de estudo. Assim, o foco novamente foi a busca por um modelo de baixo viés. "
   ]
  },
  {
   "cell_type": "code",
   "execution_count": 4,
   "id": "e4c7af2e-91df-467b-9110-3d14d55e2e1a",
   "metadata": {},
   "outputs": [],
   "source": [
    "df = df.loc[df[\"Cancer Type\"] == \"Non-Small Cell Lung Cancer\"]"
   ]
  },
  {
   "cell_type": "markdown",
   "id": "8e4fa6ab-a184-4051-8d0f-c4630b407d26",
   "metadata": {},
   "source": [
    "<p style=\"text-align:justify;\">  Há dois objetivos para resolver e aprimorar: identificar pacientes os quais estarão curados, terão uma sobrevida maior que 60 anos, e mensurar a sobrevidade de pacientes não curados para identificar a gravidade de seu caso clínico. Nesse sentido, considerou-se ser mais eficiente construir dois modelos: um que prediz se um paciente estará curado ou não, baseado em um <strong>modelo de classificação binária</strong> e, caso esse modelo retorne que o paciente não estará curado com os atributos que possui, haverá o modelo de <strong>floresta aleatória</strong> treinado apenas com pacientes que apresentaram sobrevida até 60 meses. \n",
    "\n",
    "<p style=\"text-align:justify;\">Desse modo, as técnicas tiveram por objetivo utilizar informações do banco de dados de modo que minimizasse o erro tipo 1, ou seja, informar que haverá cura, mas, na verdade, a sobrevida será menor que 60 meses. Concluiu-se que trazer a falsa esperança de cura significa, nesse caso, acarretar descuido com o tratamento utilizado que o gerou um resultado de falso positivo. Além disso, um modelo treinado apenas no intervalo de tempo que seja coerente a realidade, considerando que os 60 meses é o tempo que pacientes de câncer são supervisiodanos, traz uma sensibilidade maior a predição."
   ]
  },
  {
   "cell_type": "markdown",
   "id": "b2174b7c-da18-4c94-98cd-b7497b533ef2",
   "metadata": {},
   "source": [
    "## Atributos e Target"
   ]
  },
  {
   "cell_type": "markdown",
   "id": "bba74045-1032-468b-ad87-ee87fed0e05d",
   "metadata": {},
   "source": [
    "<p style=\"text-align:justify;\"> Usaremos para o modelo atributos como o <strong>Fraction Genome Altered</strong>, o qual é a razão entre a soma dos segmentos do genoma que foram alterados pele tamanho total do genoma do paciente, esse resultado é bastante relevante para identificar o quão instável está o tumor e, desse modo, saber como está a sua progressão. Há também atributos que conseguem identificar a situação metastática do câncer a partir das informações genômicas, pois há como identificar uma hipermutação, MSI-High (MSI-H),  a partir do <strong>MSI Score</strong>, <i>Microsatellite instability</i>, a instabilidade de microssatélites, ou para a quantidade de mutações, informação essa que pode ser encontrada na coluna <strong>Mutation Count</strong>. O <strong>TMB (nonsynonymous)</strong>, <i>tumor mutational burden</i>, quantifica o número total de mutações encontradas no DNA do tumor e é considerado alto para valores maior que 10 mut/Mb, o que foi bastante encontrado em pacientes com adenocarcinoma de pulmão. A <strong>Age at Surgical Procedure</strong>, idade da operação cirúrgica, é relavante para qualquer paciente, pois, com idades distintas, os pacientes apresentam resposta à mesma operação de forma diferente. E, considerando a relevante relação entre quantidade de metastasis e a sobrevida, iremos utilizar também os atributos <strong>Met Count</strong> e <strong>Met Site Count</strong>, que, respectivamente, são a quantidade de metastasis e a quantidade de sítios de metastasis."
   ]
  },
  {
   "cell_type": "code",
   "execution_count": 5,
   "id": "776e0d21-8b45-4c35-bbd0-4fa67b3576b3",
   "metadata": {},
   "outputs": [],
   "source": [
    "ATRIBUTOS = [                  \n",
    "        \"Age at Surgical Procedure\",           \n",
    "        \"Fraction Genome Altered\",              \n",
    "        \"Met Count\",                            \n",
    "        \"Met Site Count\",                       \n",
    "        \"MSI Score\",                   \n",
    "        \"Mutation Count\",              \n",
    "        \"TMB (nonsynonymous)\",\n",
    "]"
   ]
  },
  {
   "cell_type": "markdown",
   "id": "2d191537-dcb9-4e81-a48a-016539f0c9fc",
   "metadata": {},
   "source": [
    "### Seleção de atributos para o regressor pelo fator de inflação de variância (VIF)\n",
    "<p style=\"text-align:justify;\"> Para a seleção de atributos pelo VIF foi utilizado o limiar VIF 10, pois é uma valor comum e não gostaríamos que fosse muito rigoroso essa seleção de atributos, considerando que a seleção de acordo com as colunas que são mais coerentes para o nosso estudo nos levou a um número pequeno de atributos. O resultado do nosso estudo nos leva a todos os atributos a seguir, contudo o que não está comentado é o que será utilizado por causa da seleção pelo VIF (para mais informações ler o notebook <strong>Escolhendo o modelo regressor).</strong>"
   ]
  },
  {
   "cell_type": "code",
   "execution_count": 6,
   "id": "1cc1035b-62b0-47c9-8542-38146522f8e8",
   "metadata": {},
   "outputs": [],
   "source": [
    "ATRIBUTOS_VIF = [                  \n",
    "        \"Age at Surgical Procedure\",           \n",
    "        # \"Fraction Genome Altered\",              \n",
    "        \"Met Count\",                            \n",
    "        # \"Met Site Count\",                       \n",
    "        \"MSI Score\",                   \n",
    "        #\"Mutation Count\",              \n",
    "        \"TMB (nonsynonymous)\",\n",
    "]         \n",
    "TARGET_clas = ['Curado'] #Target do classificador  \n",
    "\n",
    "TARGET_regre = [\"Sobrevivencia (Meses)\"] #Target do regressor "
   ]
  },
  {
   "cell_type": "markdown",
   "id": "3148bafd-dde2-4450-9e32-4ad4594b49fa",
   "metadata": {},
   "source": [
    "### Dataset filtrado com atributos e target a serem utilizados\n"
   ]
  },
  {
   "cell_type": "markdown",
   "id": "ab4cba6d",
   "metadata": {},
   "source": [
    "<p style=\"text-align:justify;\"> O dataset a seguir é o tratado, no caso, há apenas pacientes que tiveram um sobrevida menor que 60 meses, as colunas selecionadas nos debates anteriores, há a eliminação de colunas que não apresentam valores e também há a conversão dos valores. "
   ]
  },
  {
   "cell_type": "code",
   "execution_count": 7,
   "id": "2d307e41-4ed2-471f-83fc-8876cbfe4a7e",
   "metadata": {},
   "outputs": [
    {
     "data": {
      "text/html": [
       "<div>\n",
       "<style scoped>\n",
       "    .dataframe tbody tr th:only-of-type {\n",
       "        vertical-align: middle;\n",
       "    }\n",
       "\n",
       "    .dataframe tbody tr th {\n",
       "        vertical-align: top;\n",
       "    }\n",
       "\n",
       "    .dataframe thead th {\n",
       "        text-align: right;\n",
       "    }\n",
       "</style>\n",
       "<table border=\"1\" class=\"dataframe\">\n",
       "  <thead>\n",
       "    <tr style=\"text-align: right;\">\n",
       "      <th></th>\n",
       "      <th>Age at Surgical Procedure</th>\n",
       "      <th>Fraction Genome Altered</th>\n",
       "      <th>Met Count</th>\n",
       "      <th>Met Site Count</th>\n",
       "      <th>MSI Score</th>\n",
       "      <th>Mutation Count</th>\n",
       "      <th>TMB (nonsynonymous)</th>\n",
       "      <th>Curado</th>\n",
       "      <th>Sobrevivencia (Meses)</th>\n",
       "    </tr>\n",
       "  </thead>\n",
       "  <tbody>\n",
       "    <tr>\n",
       "      <th>29</th>\n",
       "      <td>57.39</td>\n",
       "      <td>0.3606</td>\n",
       "      <td>9</td>\n",
       "      <td>6</td>\n",
       "      <td>0.26</td>\n",
       "      <td>12</td>\n",
       "      <td>13.309864</td>\n",
       "      <td>1</td>\n",
       "      <td>&lt;NA&gt;</td>\n",
       "    </tr>\n",
       "    <tr>\n",
       "      <th>44</th>\n",
       "      <td>71.17</td>\n",
       "      <td>0.2474</td>\n",
       "      <td>4</td>\n",
       "      <td>4</td>\n",
       "      <td>0.44</td>\n",
       "      <td>15</td>\n",
       "      <td>16.63733</td>\n",
       "      <td>0</td>\n",
       "      <td>47.9</td>\n",
       "    </tr>\n",
       "    <tr>\n",
       "      <th>60</th>\n",
       "      <td>79.31</td>\n",
       "      <td>0.0026</td>\n",
       "      <td>7</td>\n",
       "      <td>7</td>\n",
       "      <td>0.0</td>\n",
       "      <td>4</td>\n",
       "      <td>4.436621</td>\n",
       "      <td>0</td>\n",
       "      <td>19.58</td>\n",
       "    </tr>\n",
       "    <tr>\n",
       "      <th>69</th>\n",
       "      <td>50.73</td>\n",
       "      <td>0.4502</td>\n",
       "      <td>8</td>\n",
       "      <td>8</td>\n",
       "      <td>3.36</td>\n",
       "      <td>5</td>\n",
       "      <td>4.436621</td>\n",
       "      <td>0</td>\n",
       "      <td>18.73</td>\n",
       "    </tr>\n",
       "    <tr>\n",
       "      <th>79</th>\n",
       "      <td>37.69</td>\n",
       "      <td>0.3584</td>\n",
       "      <td>4</td>\n",
       "      <td>4</td>\n",
       "      <td>0.93</td>\n",
       "      <td>3</td>\n",
       "      <td>3.327466</td>\n",
       "      <td>0</td>\n",
       "      <td>0.0</td>\n",
       "    </tr>\n",
       "    <tr>\n",
       "      <th>...</th>\n",
       "      <td>...</td>\n",
       "      <td>...</td>\n",
       "      <td>...</td>\n",
       "      <td>...</td>\n",
       "      <td>...</td>\n",
       "      <td>...</td>\n",
       "      <td>...</td>\n",
       "      <td>...</td>\n",
       "      <td>...</td>\n",
       "    </tr>\n",
       "    <tr>\n",
       "      <th>25727</th>\n",
       "      <td>51.0</td>\n",
       "      <td>0.0545</td>\n",
       "      <td>10</td>\n",
       "      <td>9</td>\n",
       "      <td>0.12</td>\n",
       "      <td>7</td>\n",
       "      <td>6.052887</td>\n",
       "      <td>&lt;NA&gt;</td>\n",
       "      <td>&lt;NA&gt;</td>\n",
       "    </tr>\n",
       "    <tr>\n",
       "      <th>25766</th>\n",
       "      <td>74.66</td>\n",
       "      <td>0.0687</td>\n",
       "      <td>0</td>\n",
       "      <td>0</td>\n",
       "      <td>0.0</td>\n",
       "      <td>3</td>\n",
       "      <td>2.594094</td>\n",
       "      <td>&lt;NA&gt;</td>\n",
       "      <td>&lt;NA&gt;</td>\n",
       "    </tr>\n",
       "    <tr>\n",
       "      <th>25769</th>\n",
       "      <td>61.03</td>\n",
       "      <td>0.5249</td>\n",
       "      <td>2</td>\n",
       "      <td>2</td>\n",
       "      <td>2.29</td>\n",
       "      <td>4</td>\n",
       "      <td>3.458792</td>\n",
       "      <td>&lt;NA&gt;</td>\n",
       "      <td>&lt;NA&gt;</td>\n",
       "    </tr>\n",
       "    <tr>\n",
       "      <th>25771</th>\n",
       "      <td>70.0</td>\n",
       "      <td>0.6177</td>\n",
       "      <td>0</td>\n",
       "      <td>0</td>\n",
       "      <td>1.45</td>\n",
       "      <td>12</td>\n",
       "      <td>10.376377</td>\n",
       "      <td>&lt;NA&gt;</td>\n",
       "      <td>&lt;NA&gt;</td>\n",
       "    </tr>\n",
       "    <tr>\n",
       "      <th>25774</th>\n",
       "      <td>75.16</td>\n",
       "      <td>0.3693</td>\n",
       "      <td>1</td>\n",
       "      <td>1</td>\n",
       "      <td>0.47</td>\n",
       "      <td>13</td>\n",
       "      <td>11.241075</td>\n",
       "      <td>&lt;NA&gt;</td>\n",
       "      <td>&lt;NA&gt;</td>\n",
       "    </tr>\n",
       "  </tbody>\n",
       "</table>\n",
       "<p>4710 rows × 9 columns</p>\n",
       "</div>"
      ],
      "text/plain": [
       "       Age at Surgical Procedure  Fraction Genome Altered  Met Count  \\\n",
       "29                         57.39                   0.3606          9   \n",
       "44                         71.17                   0.2474          4   \n",
       "60                         79.31                   0.0026          7   \n",
       "69                         50.73                   0.4502          8   \n",
       "79                         37.69                   0.3584          4   \n",
       "...                          ...                      ...        ...   \n",
       "25727                       51.0                   0.0545         10   \n",
       "25766                      74.66                   0.0687          0   \n",
       "25769                      61.03                   0.5249          2   \n",
       "25771                       70.0                   0.6177          0   \n",
       "25774                      75.16                   0.3693          1   \n",
       "\n",
       "       Met Site Count  MSI Score  Mutation Count  TMB (nonsynonymous)  Curado  \\\n",
       "29                  6       0.26              12            13.309864       1   \n",
       "44                  4       0.44              15             16.63733       0   \n",
       "60                  7        0.0               4             4.436621       0   \n",
       "69                  8       3.36               5             4.436621       0   \n",
       "79                  4       0.93               3             3.327466       0   \n",
       "...               ...        ...             ...                  ...     ...   \n",
       "25727               9       0.12               7             6.052887    <NA>   \n",
       "25766               0        0.0               3             2.594094    <NA>   \n",
       "25769               2       2.29               4             3.458792    <NA>   \n",
       "25771               0       1.45              12            10.376377    <NA>   \n",
       "25774               1       0.47              13            11.241075    <NA>   \n",
       "\n",
       "       Sobrevivencia (Meses)  \n",
       "29                      <NA>  \n",
       "44                      47.9  \n",
       "60                     19.58  \n",
       "69                     18.73  \n",
       "79                       0.0  \n",
       "...                      ...  \n",
       "25727                   <NA>  \n",
       "25766                   <NA>  \n",
       "25769                   <NA>  \n",
       "25771                   <NA>  \n",
       "25774                   <NA>  \n",
       "\n",
       "[4710 rows x 9 columns]"
      ]
     },
     "execution_count": 7,
     "metadata": {},
     "output_type": "execute_result"
    }
   ],
   "source": [
    "df = df.reindex(ATRIBUTOS + TARGET_clas + TARGET_regre, axis=1)\n",
    "df = df.convert_dtypes()\n",
    "df"
   ]
  },
  {
   "cell_type": "markdown",
   "id": "15f0dffe-ee48-4d88-acc0-81c09280d204",
   "metadata": {},
   "source": [
    "<p style=\"text-align:justify;\">  Além disso, além de mostrar nossos resultados encontrados em outros estudos, vamos comparar como pacientes que estão no limiar entre curados e não curados são preditos por nossos modelos, ou seja, pacientes que estão bem próximos dos 60 meses, o tempo que se monitora um paciente de câncer para poder afirmar se ele foi curado. Então a seguir terá o datasetes que iremos testar após gerar os melhores modelos encontrados com o objetivo de descobrir como os pacientes de câncer com uma sobrevida maior que 56 e menor que os 60 meses são preditos."
   ]
  },
  {
   "cell_type": "code",
   "execution_count": 8,
   "id": "50c73717-8f06-47ac-9314-1433298d492c",
   "metadata": {},
   "outputs": [
    {
     "data": {
      "text/html": [
       "<div>\n",
       "<style scoped>\n",
       "    .dataframe tbody tr th:only-of-type {\n",
       "        vertical-align: middle;\n",
       "    }\n",
       "\n",
       "    .dataframe tbody tr th {\n",
       "        vertical-align: top;\n",
       "    }\n",
       "\n",
       "    .dataframe thead th {\n",
       "        text-align: right;\n",
       "    }\n",
       "</style>\n",
       "<table border=\"1\" class=\"dataframe\">\n",
       "  <thead>\n",
       "    <tr style=\"text-align: right;\">\n",
       "      <th></th>\n",
       "      <th>Age at Surgical Procedure</th>\n",
       "      <th>Fraction Genome Altered</th>\n",
       "      <th>Met Count</th>\n",
       "      <th>Met Site Count</th>\n",
       "      <th>MSI Score</th>\n",
       "      <th>Mutation Count</th>\n",
       "      <th>TMB (nonsynonymous)</th>\n",
       "      <th>Curado</th>\n",
       "      <th>Sobrevivencia (Meses)</th>\n",
       "    </tr>\n",
       "  </thead>\n",
       "  <tbody>\n",
       "    <tr>\n",
       "      <th>707</th>\n",
       "      <td>52.21</td>\n",
       "      <td>0.5235</td>\n",
       "      <td>17</td>\n",
       "      <td>10</td>\n",
       "      <td>4.31</td>\n",
       "      <td>90</td>\n",
       "      <td>97.605666</td>\n",
       "      <td>0</td>\n",
       "      <td>59.57</td>\n",
       "    </tr>\n",
       "    <tr>\n",
       "      <th>2087</th>\n",
       "      <td>71.34</td>\n",
       "      <td>0.3404</td>\n",
       "      <td>8</td>\n",
       "      <td>5</td>\n",
       "      <td>0.0</td>\n",
       "      <td>5</td>\n",
       "      <td>4.893598</td>\n",
       "      <td>0</td>\n",
       "      <td>58.28</td>\n",
       "    </tr>\n",
       "    <tr>\n",
       "      <th>2091</th>\n",
       "      <td>76.03</td>\n",
       "      <td>0.2089</td>\n",
       "      <td>11</td>\n",
       "      <td>5</td>\n",
       "      <td>0.21</td>\n",
       "      <td>6</td>\n",
       "      <td>6.917585</td>\n",
       "      <td>0</td>\n",
       "      <td>59.04</td>\n",
       "    </tr>\n",
       "    <tr>\n",
       "      <th>2190</th>\n",
       "      <td>66.02</td>\n",
       "      <td>0.1912</td>\n",
       "      <td>9</td>\n",
       "      <td>6</td>\n",
       "      <td>0.3</td>\n",
       "      <td>4</td>\n",
       "      <td>3.914879</td>\n",
       "      <td>0</td>\n",
       "      <td>58.78</td>\n",
       "    </tr>\n",
       "    <tr>\n",
       "      <th>2836</th>\n",
       "      <td>81.21</td>\n",
       "      <td>0.0786</td>\n",
       "      <td>2</td>\n",
       "      <td>2</td>\n",
       "      <td>0.25</td>\n",
       "      <td>6</td>\n",
       "      <td>4.893598</td>\n",
       "      <td>0</td>\n",
       "      <td>59.73</td>\n",
       "    </tr>\n",
       "    <tr>\n",
       "      <th>3415</th>\n",
       "      <td>72.76</td>\n",
       "      <td>0.0451</td>\n",
       "      <td>8</td>\n",
       "      <td>6</td>\n",
       "      <td>0.07</td>\n",
       "      <td>4</td>\n",
       "      <td>3.914879</td>\n",
       "      <td>0</td>\n",
       "      <td>58.71</td>\n",
       "    </tr>\n",
       "    <tr>\n",
       "      <th>3980</th>\n",
       "      <td>56.98</td>\n",
       "      <td>0.1945</td>\n",
       "      <td>5</td>\n",
       "      <td>4</td>\n",
       "      <td>0.56</td>\n",
       "      <td>6</td>\n",
       "      <td>5.872318</td>\n",
       "      <td>0</td>\n",
       "      <td>56.67</td>\n",
       "    </tr>\n",
       "    <tr>\n",
       "      <th>4507</th>\n",
       "      <td>58.42</td>\n",
       "      <td>0.206</td>\n",
       "      <td>16</td>\n",
       "      <td>8</td>\n",
       "      <td>0.0</td>\n",
       "      <td>2</td>\n",
       "      <td>1.957439</td>\n",
       "      <td>0</td>\n",
       "      <td>56.74</td>\n",
       "    </tr>\n",
       "  </tbody>\n",
       "</table>\n",
       "</div>"
      ],
      "text/plain": [
       "      Age at Surgical Procedure  Fraction Genome Altered  Met Count  \\\n",
       "707                       52.21                   0.5235         17   \n",
       "2087                      71.34                   0.3404          8   \n",
       "2091                      76.03                   0.2089         11   \n",
       "2190                      66.02                   0.1912          9   \n",
       "2836                      81.21                   0.0786          2   \n",
       "3415                      72.76                   0.0451          8   \n",
       "3980                      56.98                   0.1945          5   \n",
       "4507                      58.42                    0.206         16   \n",
       "\n",
       "      Met Site Count  MSI Score  Mutation Count  TMB (nonsynonymous)  Curado  \\\n",
       "707               10       4.31              90            97.605666       0   \n",
       "2087               5        0.0               5             4.893598       0   \n",
       "2091               5       0.21               6             6.917585       0   \n",
       "2190               6        0.3               4             3.914879       0   \n",
       "2836               2       0.25               6             4.893598       0   \n",
       "3415               6       0.07               4             3.914879       0   \n",
       "3980               4       0.56               6             5.872318       0   \n",
       "4507               8        0.0               2             1.957439       0   \n",
       "\n",
       "      Sobrevivencia (Meses)  \n",
       "707                   59.57  \n",
       "2087                  58.28  \n",
       "2091                  59.04  \n",
       "2190                  58.78  \n",
       "2836                  59.73  \n",
       "3415                  58.71  \n",
       "3980                  56.67  \n",
       "4507                  56.74  "
      ]
     },
     "execution_count": 8,
     "metadata": {},
     "output_type": "execute_result"
    }
   ],
   "source": [
    "alta_sobrevida = df[df[\"Sobrevivencia (Meses)\"] > 56]\n",
    "alta_sobrevida"
   ]
  },
  {
   "cell_type": "markdown",
   "id": "7b758b28",
   "metadata": {},
   "source": [
    "<p style=\"text-align:justify;\">Esses dados serão relevantes para estudar o modelo que concluímos ser o modelo de melhor performance para, como ensaio de conceito final identificar como os modelos, classificador e regressor, lidam com pacientes que apresentem uma sobrevidade no limiar entre o considerando curado e o não curado, ou seja, como esses modelos irão predizer pacientes que apresentarma uma sobrevida acima de 56 meses de sobrevida."
   ]
  },
  {
   "cell_type": "markdown",
   "id": "3c5c68fd",
   "metadata": {},
   "source": [
    "## Modelo Classificador: Prevendo se pacientes serão curados ou não"
   ]
  },
  {
   "cell_type": "markdown",
   "id": "85e24772",
   "metadata": {},
   "source": [
    "<p style=\"text-align:justify;\">A ideia inicial deste modelo é ser um precursor do modelo regressor. Isto é, ao se buscar investigar a sobrevividade de um paciente, os seus atributos seriam primeiro analisados por esse modelo classificador. E apenas em caso da predição ser \"não curado\", o paciente seria levado ao segundo modelo, onde uma sobrevida seria estimada.\n",
    "\n",
    "<p style=\"text-align:justify;\"> <strong>Nota:</strong>. Aqui é bom enfatizar que o modelo regressor foi treinado apenas com os pacientes não curados, assim como explicado no notebook <strong>Escolhendo o modelo regressor</strong>."
   ]
  },
  {
   "cell_type": "markdown",
   "id": "9488b5f1",
   "metadata": {},
   "source": [
    "### Passos para chegar ao melhor modelo classificador\n",
    "\n",
    "- Para mais detalhes do processo ler o notebook <strong> Escolhendo o modelo classificador</strong>"
   ]
  },
  {
   "cell_type": "markdown",
   "id": "48d5349d",
   "metadata": {},
   "source": [
    "#### Split em treino e teste"
   ]
  },
  {
   "cell_type": "markdown",
   "id": "b23d8337",
   "metadata": {},
   "source": [
    "Considerando que o target do modelo é desbalanceado no dataset (muitos dados de pacientes que faleceram do que foram curados), o split foi feito em curados e não curados separadamente, e depois os dois splits foram integrados.\n",
    "\n",
    "Desta forma, asseguraremos que a proporção de vivos para mortos é a mesma no split e no treino."
   ]
  },
  {
   "cell_type": "code",
   "execution_count": 9,
   "id": "8a4161d7",
   "metadata": {},
   "outputs": [],
   "source": [
    "from sklearn.model_selection import train_test_split\n",
    "\n",
    "df_clas = df.reindex(ATRIBUTOS + TARGET_clas, axis=1)\n",
    "df_clas = df_clas.dropna()\n",
    "\n",
    "curados = df_clas[df_clas[\"Curado\"] == 1]\n",
    "nao_curados = df_clas[df_clas[\"Curado\"] == 0]\n",
    "\n",
    "TAMANHO_TESTE = 0.1\n",
    "SEMENTE_ALEATORIA = 2424\n",
    "\n",
    "indices_nao_curados = nao_curados.index\n",
    "indices_treino_nao_curados, indices_teste_nao_curados = train_test_split(\n",
    "    indices_nao_curados, test_size=TAMANHO_TESTE, random_state=SEMENTE_ALEATORIA\n",
    ")\n",
    "\n",
    "df_treino_nao = df_clas.loc[indices_treino_nao_curados]\n",
    "df_teste_nao = df_clas.loc[indices_teste_nao_curados]\n",
    "\n",
    "indices_curados = curados.index\n",
    "indices_treino_curados, indices_teste_curados = train_test_split(\n",
    "    indices_curados, test_size=TAMANHO_TESTE, random_state=SEMENTE_ALEATORIA\n",
    ")\n",
    "\n",
    "df_treino_curados = df_clas.loc[indices_treino_curados]\n",
    "df_teste_curados = df_clas.loc[indices_teste_curados]\n",
    "\n",
    "df_treino = pd.concat([df_treino_nao, df_treino_curados], ignore_index= True)\n",
    "df_teste = pd.concat([df_teste_nao, df_teste_curados], ignore_index= True)\n",
    "\n",
    "\n",
    "X_treino = df_treino.reindex(ATRIBUTOS, axis=1).values.astype(int)\n",
    "y_treino = df_treino.reindex(TARGET_clas, axis=1).values.ravel().astype(int)\n",
    "\n",
    "X_teste = df_teste.reindex(ATRIBUTOS, axis=1).values.astype(int)\n",
    "y_teste = df_teste.reindex(TARGET_clas, axis=1).values.ravel().astype(int)\n"
   ]
  },
  {
   "cell_type": "markdown",
   "id": "fe105bf3",
   "metadata": {},
   "source": [
    "#### Encontrando o melhor grupo de hiperparâmetros salvo"
   ]
  },
  {
   "cell_type": "code",
   "execution_count": 10,
   "id": "7243e5b5",
   "metadata": {},
   "outputs": [
    {
     "data": {
      "text/plain": [
       "{'num_arvores': 17,\n",
       " 'critério': 'entropy',\n",
       " 'min_exemplos_split': 15,\n",
       " 'max_depth': 5,\n",
       " 'min_exemplos_folha': 12,\n",
       " 'min_impurity_decrease': 0.010398092577349069,\n",
       " 'max_atributos': 'log2'}"
      ]
     },
     "execution_count": 10,
     "metadata": {},
     "output_type": "execute_result"
    }
   ],
   "source": [
    "from optuna import load_study\n",
    "\n",
    "NOME_DO_ESTUDO = \"classicador_rf\"\n",
    "\n",
    "objeto_de_estudo_carregado = load_study(\n",
    "    study_name=NOME_DO_ESTUDO,\n",
    "    storage=f\"sqlite:///{NOME_DO_ESTUDO}.db\",\n",
    ")\n",
    "\n",
    "melhor_trial = objeto_de_estudo_carregado.best_trial\n",
    "melhor_trial.params"
   ]
  },
  {
   "cell_type": "markdown",
   "id": "21a4a2f5",
   "metadata": {},
   "source": [
    "#### Criando o modelo\n",
    "\n",
    "\n",
    "\n"
   ]
  },
  {
   "cell_type": "code",
   "execution_count": 11,
   "id": "c2dc56f6",
   "metadata": {},
   "outputs": [],
   "source": [
    "from sklearn.ensemble import RandomForestClassifier\n",
    "\n",
    "modelo_rf = RandomForestClassifier(n_estimators = 17,\n",
    "criterion = 'entropy', min_samples_split = 15,\n",
    "max_depth = 5, min_samples_leaf = 12, \n",
    "min_impurity_decrease = 0.010398092577349069, \n",
    "max_features = 'log2',\n",
    "random_state = SEMENTE_ALEATORIA)\n",
    "\n",
    "modelo_rf.fit(X_treino, y_treino)\n",
    "\n",
    "y_verdadeiro_rf = y_teste\n"
   ]
  },
  {
   "cell_type": "markdown",
   "id": "23f16686",
   "metadata": {},
   "source": [
    "#### Avaliando a perfomance com os dados de teste\n",
    "\n"
   ]
  },
  {
   "cell_type": "markdown",
   "id": "ca31e298",
   "metadata": {},
   "source": [
    "\n",
    "<p style=\"text-align:justify;\"> A perfomance do modelo foi avalida pela área abaixo da curva (AUC, <i> Area Under the Curve) para um gráfico de Precisão-Senbilidade (PR, <i>Precision-Recall Curve</i>). Isto pode ser analisado de forma qualitativa ao visualizar o gráfico de Precisão-Sensibilidade e de forma quantitativa, calculando a área abaixo da curva. Usaremos um modelo baseline, como referência de perfomance"
   ]
  },
  {
   "cell_type": "markdown",
   "id": "235af603",
   "metadata": {},
   "source": [
    "##### Criando o modelo baseline"
   ]
  },
  {
   "cell_type": "code",
   "execution_count": 12,
   "id": "646f4af3",
   "metadata": {},
   "outputs": [],
   "source": [
    "from sklearn.dummy import DummyClassifier\n",
    "\n",
    "modelo_baseline_class = DummyClassifier()\n",
    "\n",
    "modelo_baseline_class.fit(X_treino, y_treino)\n",
    "\n",
    "y_verdadeiro_base = y_teste\n",
    "y_previsao_base = modelo_baseline_class.predict(X_teste)"
   ]
  },
  {
   "cell_type": "markdown",
   "id": "a47186b6",
   "metadata": {},
   "source": [
    "##### Plotando o gráfico"
   ]
  },
  {
   "cell_type": "markdown",
   "id": "f5fd92e8",
   "metadata": {},
   "source": [
    "Encontrando os valores de precisão e sensibilidade"
   ]
  },
  {
   "cell_type": "code",
   "execution_count": 13,
   "id": "579ccf9a",
   "metadata": {},
   "outputs": [],
   "source": [
    "from sklearn.metrics import (precision_recall_curve)\n",
    "probabilidades_baseline = modelo_baseline_class.predict_proba(X_teste)\n",
    "y_scores_baseline = probabilidades_baseline[:, 1] # probabilidade somente das classes positivas\n",
    "\n",
    "probabilidades_rf = modelo_rf.predict_proba(X_teste)\n",
    "y_scores_rf = probabilidades_rf[:, 1]\n",
    "\n",
    "precision_baseline, recall_baseline, _ = precision_recall_curve(y_verdadeiro_base, y_scores_baseline)\n",
    "precision_rf, recall_rf, _ = precision_recall_curve(y_verdadeiro_rf, y_scores_rf)"
   ]
  },
  {
   "cell_type": "markdown",
   "id": "ffbdeedb",
   "metadata": {},
   "source": [
    "Levando ao 'papel'"
   ]
  },
  {
   "cell_type": "code",
   "execution_count": 14,
   "id": "739f9d3e",
   "metadata": {},
   "outputs": [
    {
     "data": {
      "image/png": "[encoded data removed]",
      "text/plain": [
       "<Figure size 800x600 with 1 Axes>"
      ]
     },
     "metadata": {},
     "output_type": "display_data"
    }
   ],
   "source": [
    "import matplotlib.pyplot as plt\n",
    "\n",
    "recall_ideal = [0.0 , 1.0 , 1.0]\n",
    "precision_ideal = [1.0, 1.0, 0.1]\n",
    "\n",
    "plt.figure(figsize=(8, 6))\n",
    "plt.plot(recall_baseline, precision_baseline, color='blue',alpha= 0.5, label='baseline')\n",
    "plt.plot(recall_rf, precision_rf, color='green', alpha= 0.5, label='Floresta Aleatória')\n",
    "plt.plot(recall_ideal, precision_ideal, color='yellow', alpha= 0.5, label='Modelo Ideal')\n",
    "plt.xlabel('Sensibilidade')\n",
    "plt.ylabel('Precisão')\n",
    "plt.title('Precision-Recall Curve')\n",
    "plt.legend(loc = 'upper right', bbox_to_anchor=(1.32, 1.015))\n",
    "plt.show()"
   ]
  },
  {
   "cell_type": "markdown",
   "id": "67ab3b9f",
   "metadata": {},
   "source": [
    "<p style=\"text-align:justify;\">Visualmente, aparenta que o modelo de floresta aleatória parece apresentar uma curva um pouca acima das demais, sugerindo uma melhor perfomance. Podemos analisar isso também de forma qualitativa, calculando o área abaixo das curvas (<strong>AUC</strong>). "
   ]
  },
  {
   "cell_type": "markdown",
   "id": "e71e781e",
   "metadata": {},
   "source": [
    "##### Calculando a Área Abaixo da Curva"
   ]
  },
  {
   "cell_type": "code",
   "execution_count": 15,
   "id": "4f979242",
   "metadata": {},
   "outputs": [
    {
     "name": "stdout",
     "output_type": "stream",
     "text": [
      "AUC do baseline = 0.5358851674641149\n",
      "AUC da floresta aleatória = 0.5416666666666666\n"
     ]
    }
   ],
   "source": [
    "from sklearn.metrics import auc\n",
    "\n",
    "auc_baseline = auc(recall_baseline, precision_baseline)\n",
    "auc_rf = auc(recall_rf, precision_rf)\n",
    "\n",
    "print (f'AUC do baseline = {auc_baseline}')\n",
    "print (f'AUC da floresta aleatória = {auc_rf}')"
   ]
  },
  {
   "cell_type": "markdown",
   "id": "0d4eb509",
   "metadata": {},
   "source": [
    "<p style=\"text-align:justify;\">Com esses números fica claro que realmente a floresta aleatória, apresenta uma maior perfomance do que a baseline, mesmo que por muito pouco. Isso nos apresenta o desafio de trabalhar com dados extramamente desbalanceados, o que gera a dificuldade de treinar modelos classificadores que consigam discernir dados classes 1 quando foi treinado praticamente por dados de classe 0 em sua maioria."
   ]
  },
  {
   "cell_type": "markdown",
   "id": "bf6c4229",
   "metadata": {},
   "source": [
    "#### Testando o modelo gerado especificamente para os dados de alta sobrevividade\n",
    "\n",
    "<p style=\"text-align:justify;\"> Nesse momento, buscamos analisar a resposta que o modelo daria para pacientes com alta sobrevividade (entre 55 e 60 meses)."
   ]
  },
  {
   "cell_type": "code",
   "execution_count": 16,
   "id": "14930c8b",
   "metadata": {},
   "outputs": [
    {
     "name": "stdout",
     "output_type": "stream",
     "text": [
      "Era Curado = 0 e previu Curado = 0. \n",
      "Era Curado = 0 e previu Curado = 0. \n",
      "Era Curado = 0 e previu Curado = 0. \n",
      "Era Curado = 0 e previu Curado = 0. \n",
      "Era Curado = 0 e previu Curado = 0. \n",
      "Era Curado = 0 e previu Curado = 0. \n",
      "Era Curado = 0 e previu Curado = 0. \n",
      "Era Curado = 0 e previu Curado = 0. \n"
     ]
    }
   ],
   "source": [
    "X_teste = alta_sobrevida.reindex(ATRIBUTOS, axis=1).values\n",
    "y_teste = alta_sobrevida.reindex(TARGET_clas, axis=1).values.ravel()\n",
    "\n",
    "y_verdadeiro = y_teste\n",
    "y_previsao = modelo_rf.predict(X_teste)\n",
    "\n",
    "for y_verd, y_test in zip (y_verdadeiro,y_teste):\n",
    "        print(\n",
    "        f\"Era Curado = {y_verd} e previu Curado = {y_test}. \"\n",
    "    )"
   ]
  },
  {
   "cell_type": "markdown",
   "id": "56f841f0",
   "metadata": {},
   "source": [
    "Se percebe, que nesse caso, o modelo previu todos os pacientes certo. Isto já era esperado, visto que o modelo se assemelha ao baseline que sempre prevê o paciente como Não-Curado (Seguindo a moda dos dados no dataset estudado)."
   ]
  },
  {
   "cell_type": "markdown",
   "id": "f89fb9ad-99b8-4568-a729-a3dc2a5a0ddc",
   "metadata": {},
   "source": [
    "## Modelo Regressor: Qual o tempo de sobrevida de um paciente que não foi previsto como curado? \n"
   ]
  },
  {
   "cell_type": "markdown",
   "id": "b229cd24",
   "metadata": {},
   "source": [
    "<p style=\"text-align:justify;\"> Com o <strong>modelo regressor</strong>, pode-se utilizar o modelo baseline, para conseguir tem um ponto de partida de um modelo que não seria minimamente bom, pois o baseline prediz com a média dos dados. Assim como, modelamos nossos dados, pacientes de câncer de pulmão de células não pequenas com até 60 meses de sobrevida, com o modelo KNN e o de floresta aleatória. Ademais, estudamos o melhor grupo de hiperparâmetros e realizamos a seleção de atributos pelo fator de inflação de variância (VIF). \n"
   ]
  },
  {
   "cell_type": "markdown",
   "id": "a3add487",
   "metadata": {},
   "source": [
    "### Passos para chegar ao melhor modelo regressor"
   ]
  },
  {
   "cell_type": "markdown",
   "id": "8699d230",
   "metadata": {},
   "source": [
    "Selecionando somente os falecidos \n"
   ]
  },
  {
   "cell_type": "code",
   "execution_count": 17,
   "id": "6c6a4226-b606-4043-a047-dcde1f572f5b",
   "metadata": {},
   "outputs": [],
   "source": [
    "df_regre = df.loc[df[\"Curado\"] == 0]\n",
    "df_regre = df_regre.dropna()"
   ]
  },
  {
   "cell_type": "markdown",
   "id": "91cb8e44",
   "metadata": {},
   "source": [
    "#### Split em treino em teste"
   ]
  },
  {
   "cell_type": "code",
   "execution_count": 18,
   "id": "3590d24e-9c02-4379-b04f-35764c833ffc",
   "metadata": {},
   "outputs": [],
   "source": [
    "from sklearn.model_selection import train_test_split\n",
    "\n",
    "TAMANHO_TESTE = 0.1\n",
    "SEMENTE_ALEATORIA = 20404\n",
    "\n",
    "df_regre = df_regre.reindex(ATRIBUTOS_VIF + TARGET_regre, axis=1)\n",
    "df_regre = df_regre.dropna()\n",
    "\n",
    "indices = df_regre.index\n",
    "indices_treino, indices_teste = train_test_split(\n",
    "    indices, test_size=TAMANHO_TESTE, random_state=SEMENTE_ALEATORIA\n",
    ")\n",
    "\n",
    "df_treino = df_regre.loc[indices_treino]\n",
    "df_teste = df_regre.loc[indices_teste]\n",
    "\n",
    "X_treino = df_treino.reindex(ATRIBUTOS_VIF, axis=1).values\n",
    "y_treino = df_treino.reindex(TARGET_regre, axis=1).values.ravel()\n",
    "\n",
    "X_teste = df_teste.reindex(ATRIBUTOS_VIF, axis=1).values\n",
    "y_teste = df_teste.reindex(TARGET_regre, axis=1).values.ravel()\n",
    "\n",
    "X = df_regre.reindex(ATRIBUTOS_VIF, axis=1).values\n",
    "y = df_regre.reindex(TARGET_regre, axis=1).values.ravel()"
   ]
  },
  {
   "cell_type": "markdown",
   "id": "c5c2a90f",
   "metadata": {},
   "source": [
    "#### Encontrando o melhor grupo de hiperparâmetros salvo"
   ]
  },
  {
   "cell_type": "code",
   "execution_count": 19,
   "id": "631f95cb-6855-4100-82b3-635e5fb5124d",
   "metadata": {},
   "outputs": [
    {
     "data": {
      "text/plain": [
       "{'num_arvores': 328,\n",
       " 'critério': 'poisson',\n",
       " 'min_exemplos_split': 33,\n",
       " 'min_exemplos_folha': 10,\n",
       " 'num_max_atributos': 0.373378161075968}"
      ]
     },
     "execution_count": 19,
     "metadata": {},
     "output_type": "execute_result"
    }
   ],
   "source": [
    "from optuna import load_study\n",
    "\n",
    "NOME_DO_ESTUDO = \"hiperparametros1\"\n",
    "\n",
    "objeto_de_estudo_carregado = load_study(\n",
    "    study_name=NOME_DO_ESTUDO,\n",
    "    storage=f\"sqlite:///{NOME_DO_ESTUDO}.db\",\n",
    ")\n",
    "\n",
    "melhor_trial = objeto_de_estudo_carregado.best_trial\n",
    "melhor_trial.params"
   ]
  },
  {
   "cell_type": "markdown",
   "id": "c0efbebf-551f-4498-981c-ba938db57029",
   "metadata": {},
   "source": [
    "#### Floresta aleatória com o `scikit-learn`"
   ]
  },
  {
   "cell_type": "markdown",
   "id": "1e845fc6-a9e3-4240-b3b9-ff0685017c8d",
   "metadata": {},
   "source": [
    "<p style=\"text-align:justify;\"> Nessa etapa, com os atributos que evitam multicolinearidade selecionados e os melhores hiperparâmentros encontrados pelo optuna, é momento de gerar o melhor modelo encontrado por esse conjunto de algorítmos. Para obter um bom estimador de performance do modelo, irá usar validação cruzada <i>k</i>​-fold.\n",
    "\n"
   ]
  },
  {
   "cell_type": "markdown",
   "id": "f8859437-d60d-4a5a-a8b0-b2f956fa36b7",
   "metadata": {},
   "source": [
    "#### Avaliando a performance com os dados de teste"
   ]
  },
  {
   "cell_type": "code",
   "execution_count": 20,
   "id": "93b8c5d7-fe74-4a0e-8e61-6f6d076070ae",
   "metadata": {},
   "outputs": [
    {
     "name": "stdout",
     "output_type": "stream",
     "text": [
      "13.163438381653286\n"
     ]
    }
   ],
   "source": [
    "from sklearn.metrics import mean_squared_error\n",
    "from sklearn.ensemble import RandomForestRegressor\n",
    "\n",
    "modelo = RandomForestRegressor(n_estimators = 328, criterion = 'poisson',\n",
    "                                   min_samples_split = 33, min_samples_leaf = 10,\n",
    "                                   max_features = 0.373378161075968)\n",
    "modelo.fit(X_treino, y_treino)\n",
    "\n",
    "y_verdadeiro = y_teste\n",
    "y_previsao = modelo.predict(X_teste)\n",
    "\n",
    "RMSE = mean_squared_error(y_verdadeiro, y_previsao) ** (1/2)\n",
    "\n",
    "print(RMSE)"
   ]
  },
  {
   "cell_type": "markdown",
   "id": "0702e51f-5a74-4516-ade3-a2031c395ea3",
   "metadata": {},
   "source": [
    "#### Encontrando a performance do modelo com a validação cruzada <i>k</i>​-fold."
   ]
  },
  {
   "cell_type": "code",
   "execution_count": 21,
   "id": "08292a8e-4f00-49d6-b8e6-e93262a55822",
   "metadata": {},
   "outputs": [
    {
     "name": "stdout",
     "output_type": "stream",
     "text": [
      "As métricas foram: [-12.86953877 -16.10537574 -11.14886867 -13.43588143 -13.61319716\n",
      " -16.84803015 -13.42226952 -14.5498544  -15.09658292 -15.47288517\n",
      " -14.43101615 -17.05057536 -15.12708902 -14.32276909 -14.27048895\n",
      " -13.40288346 -15.75232226 -11.91693574 -14.65600016 -12.90380412\n",
      " -10.51079385 -13.63450074 -10.80909292 -11.77242151  -9.98173258\n",
      "  -9.44495194 -10.09554528 -10.07787572  -8.00543426  -8.36402572\n",
      "  -7.93179692  -8.38431163  -6.97443583  -6.92104053  -9.46499716\n",
      "  -9.48577167  -8.88665226  -8.02648212  -9.66837319  -8.20590634]\n",
      "\n",
      "A média das métricas é de: 11.826062760567416\n"
     ]
    }
   ],
   "source": [
    "from sklearn.model_selection import cross_val_score\n",
    "\n",
    "NUM_FOLDS = 40\n",
    "SEMENTE_ALEATORIA = 20404\n",
    "modelo_ad = modelo\n",
    "\n",
    "metricas = cross_val_score(\n",
    "    modelo_ad,    #instancia\n",
    "    X,            #dados de atributos\n",
    "    y,            #dados de target\n",
    "    cv=NUM_FOLDS, #número de folds\n",
    "    scoring=\"neg_root_mean_squared_error\", #quanto maior, melhor pelo scikit\n",
    ")\n",
    "\n",
    "print(\"As métricas foram:\", metricas)\n",
    "print()\n",
    "print(\"A média das métricas é de:\", np.abs(metricas.mean()))"
   ]
  },
  {
   "cell_type": "markdown",
   "id": "191b08bb-6882-4d98-a757-4288382b0760",
   "metadata": {},
   "source": [
    "#### Testando o modelo gerado especificamente para os dados de alta sobrevividade\n",
    "\n",
    "<p style=\"text-align:justify;\"> Nesse momento, o foco é entender a performance do modelo treinado para os pacientes que estão no limiar entre curados ou não, os com mais de 55 meses de sobrevida."
   ]
  },
  {
   "cell_type": "code",
   "execution_count": 22,
   "id": "14a06f46-564c-437c-b3c3-a415490c6ae7",
   "metadata": {},
   "outputs": [
    {
     "name": "stdout",
     "output_type": "stream",
     "text": [
      "39.29240171316726\n"
     ]
    }
   ],
   "source": [
    "X_teste = alta_sobrevida.reindex(ATRIBUTOS_VIF, axis=1).values\n",
    "y_teste = alta_sobrevida.reindex(TARGET_regre, axis=1).values.ravel()\n",
    "\n",
    "y_verdadeiro = y_teste\n",
    "y_previsao = modelo.predict(X_teste)\n",
    "\n",
    "RMSE = mean_squared_error(y_verdadeiro, y_previsao) ** (1/2)\n",
    "\n",
    "print(RMSE)"
   ]
  },
  {
   "cell_type": "markdown",
   "id": "9bc821d0-29fe-437e-8cfa-8384717906a9",
   "metadata": {},
   "source": [
    "<p style=\"text-align:justify;\"> Isso mostra como o modelo tem bastante dificuldade em prever pacientes que apresentam uma alta sobrevida, possivelmente pela quantidade de dados desse grupo que ele teve acesso. O modelo foi gerado a partir de milhares de pacientes, contudo no intervalo dos últimos quatro meses dos 60 de supervisão apresentou apenas 6 pacientes. "
   ]
  },
  {
   "cell_type": "markdown",
   "id": "0ad8df15-77a9-4cfd-85e8-a7eaae4ef8ca",
   "metadata": {},
   "source": [
    "## Conclusão\n",
    "<p style=\"text-align:justify;\"> Portanto, o trabalho foi bastante proveitoso para entender todas as dificuldades que a modelagem de dados de saúde apresentam. Desde a limitação na quantidade pacientes até as informações relevantes na saúde de um paciente que não possuímos. Para alcançar nossos resultados, verificamos a multicolinearidade com a seleção de atributos pelo fator de inflação de variância (VIF), o melhor grupo de hiperparâmetros pelo optuna e encontramos um valor de RMSE coerente com a performance, pois foi utilizado a validação cruzada </i>k</i>​-fold.\n",
    "<p>\n",
    "\n",
    "<p style=\"text-align:justify;\"> Para o modelo classificador, que prediz se um paciente será curado ou não, foi realizado um comparativo entre os modelos de regressão logística, floresta aleatória e baseline. Como resultado, o modelo de floresta aleatória foi selecionado. A análise do gráfico de Precisão-Sensibilidade, juntamente com o cálculo da área abaixo da curva, permitiu determinar que este foi o modelo com o melhor desempenho. Por outro lado, é evidente que trabalhar com dados extremamente desbalanceados impõe limitações ao modelo classificador. Portanto, a inclusão de mais dados, especialmente da classe 1, e de outros atributos relevantes seria altamente benéfica para melhorar o desempenho do modelo.\n",
    "\n",
    "<p style=\"text-align:justify;\"> Para o modelo regressor, o qual prediz uma sobrevida para pacientes que foram considerados não curados pelo modelo classificador, desenvolvemos o modelo baseline para ser um ponto de partida e verificamos a performance do modelo KNN e da floresta aleatória. Observamos que a diferença do RMSE foi bastante sutil, o que foi coerente com esperado de uma modelagem com dados de saúde. Ademais, o modelo regressor foi desenvolvido a partir do dataset original, apenas selecionando os pacienetes de câncer de pulmão de células não pequenas que teve uma sobrevida até 60 meses, então não há erro associado de outro modelo. Essa decisão foi tomada com o objetivo de diminuir o desvio entre a predição e a sobrevidade de pacientes que o primeiro modelo identificou que não seriam curados, apresentaria sobrevida menor que 60 meses. Assim como, se o modelo fosse predizer uma sobrevida de mais de 60 meses não faria tanto sentido com a realidade, pois qualquer sobrevida acima de 60 meses implica em pacientes curados. \n",
    "\n",
    "\n",
    "### Referências\n",
    "\n",
    "<p style=\"text-align:justify;\">[1] Nguyen, Bastien, Christopher Fong, Anisha Luthra, Shaleigh A. Smith, Renzo G. DiNatale, Subhiksha Nandakumar, Henry Walch, et al. “Genomic Characterization of Metastatic Patterns from Prospective Clinical Sequencing of 25,000 Patients”. Cell 185, nº 3 (3 de fevereiro de 2022): 563-575.e11. https://doi.org/10.1016/j.cell.2022.01.003.\n",
    "<p style=\"text-align:justify;\">[2] scikit-learn. “6.3. Preprocessing Data”. Acesso em 9 de outubro de 2024. https://scikit-learn/stable/modules/preprocessing.html.\n",
    "<p style=\"text-align:justify;\">[3] “ATP-203 1.1 - Tratamento de dados”. Acesso em 9 de outubro de 2024. \n",
    "<p style=\"text-align:justify;\">[4] “ATP-203 5.1 - Floresta aleatória”. Acesso em 9 de outubro de 2024. \n",
    "<p style=\"text-align:justify;\">[5] \"ATP-203 9.1 - Classificação binária\". Acesso em 10 de novembro de 2024. "
   ]
  },
  {
   "cell_type": "markdown",
   "id": "d4f755f9",
   "metadata": {},
   "source": []
  }
 ],
 "metadata": {
  "kernelspec": {
   "display_name": "Python 3",
   "language": "python",
   "name": "python3"
  },
  "language_info": {
   "codemirror_mode": {
    "name": "ipython",
    "version": 3
   },
   "file_extension": ".py",
   "mimetype": "text/x-python",
   "name": "python",
   "nbconvert_exporter": "python",
   "pygments_lexer": "ipython3",
   "version": "3.11.6"
  }
 },
 "nbformat": 4,
 "nbformat_minor": 5
}
